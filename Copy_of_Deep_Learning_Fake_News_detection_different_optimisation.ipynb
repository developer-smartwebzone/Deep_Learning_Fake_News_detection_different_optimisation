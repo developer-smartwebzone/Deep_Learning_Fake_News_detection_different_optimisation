{
  "nbformat": 4,
  "nbformat_minor": 0,
  "metadata": {
    "colab": {
      "name": "Copy of Deep_Learning_Fake_News_detection_different_optimisation.ipynb",
      "version": "0.3.2",
      "provenance": [],
      "collapsed_sections": []
    },
    "kernelspec": {
      "name": "python2",
      "display_name": "Python 2"
    },
    "accelerator": "GPU"
  },
  "cells": [
    {
      "cell_type": "code",
      "metadata": {
        "id": "TTMqsXbKji81",
        "colab_type": "code",
        "outputId": "ed66b59c-b9e7-4951-e631-62646307c159",
        "colab": {
          "base_uri": "https://localhost:8080/",
          "height": 170
        }
      },
      "source": [
        "import importlib\n",
        "import sklearn\n",
        "import matplotlib.pyplot as plt\n",
        "%matplotlib inline\n",
        "import pandas as pd\n",
        "import numpy as np\n",
        "import seaborn as sns\n",
        "import re\n",
        "\n",
        "import pandas as pd\n",
        "import os.path\n",
        "import cPickle \n",
        "#import numpy as np\n",
        "import keras.utils\n",
        "import time\n",
        "!pip install Keras\n",
        "from keras.layers import Concatenate\n",
        "from keras.callbacks import TensorBoard, CSVLogger\n",
        "from keras.preprocessing.text import text_to_word_sequence\n",
        "from keras.preprocessing import sequence\n",
        "from keras.preprocessing.text import Tokenizer\n",
        "from keras.models import Sequential\n",
        "from keras.layers import Dense,Flatten,LSTM,Conv1D,GlobalMaxPool1D,Dropout,Bidirectional\n",
        "from keras.layers.embeddings import Embedding\n",
        "from keras import optimizers\n",
        "from keras.layers import Input\n",
        "from keras.models import Model\n",
        "from keras.utils.vis_utils import plot_model\n",
        "from IPython.display import SVG\n",
        "from keras.utils.vis_utils import model_to_dot\n",
        "from keras.models import load_model\n",
        "from nltk.corpus import stopwords\n",
        "import operator\n",
        "import tensorflow as tf\n",
        "from tensorflow.keras.models import Sequential, load_model\n",
        "from tensorflow.keras.layers import Dense,Dropout\n",
        "from tensorflow.keras.callbacks import ModelCheckpoint, EarlyStopping,CSVLogger\n",
        "from tensorflow.keras.utils import plot_model\n",
        "import spacy\n",
        "from spacy import displacy\n",
        "from collections import Counter\n",
        "import en_core_web_sm\n",
        "nlp = en_core_web_sm.load()\n",
        "\n",
        "# Evaluation metrics\n",
        "from sklearn.metrics import accuracy_score, make_scorer, confusion_matrix, classification_report, log_loss, auc, roc_auc_score, roc_curve, f1_score, precision_recall_curve, recall_score, precision_score\n",
        "\n",
        "import numpy as np\n",
        "from sklearn.model_selection import train_test_split\n"
      ],
      "execution_count": 0,
      "outputs": [
        {
          "output_type": "stream",
          "text": [
            "Using TensorFlow backend.\n"
          ],
          "name": "stderr"
        },
        {
          "output_type": "stream",
          "text": [
            "Requirement already satisfied: Keras in /usr/local/lib/python2.7/dist-packages (2.2.4)\n",
            "Requirement already satisfied: keras-applications>=1.0.6 in /usr/local/lib/python2.7/dist-packages (from Keras) (1.0.8)\n",
            "Requirement already satisfied: numpy>=1.9.1 in /usr/local/lib/python2.7/dist-packages (from Keras) (1.16.4)\n",
            "Requirement already satisfied: keras-preprocessing>=1.0.5 in /usr/local/lib/python2.7/dist-packages (from Keras) (1.1.0)\n",
            "Requirement already satisfied: h5py in /usr/local/lib/python2.7/dist-packages (from Keras) (2.8.0)\n",
            "Requirement already satisfied: pyyaml in /usr/local/lib/python2.7/dist-packages (from Keras) (3.13)\n",
            "Requirement already satisfied: scipy>=0.14 in /usr/local/lib/python2.7/dist-packages (from Keras) (1.2.2)\n",
            "Requirement already satisfied: six>=1.9.0 in /usr/local/lib/python2.7/dist-packages (from Keras) (1.12.0)\n"
          ],
          "name": "stdout"
        }
      ]
    },
    {
      "cell_type": "markdown",
      "metadata": {
        "id": "VwimbdYK7p_d",
        "colab_type": "text"
      },
      "source": [
        "# New Section"
      ]
    },
    {
      "cell_type": "code",
      "metadata": {
        "id": "uk8imZvdji87",
        "colab_type": "code",
        "outputId": "25164f28-6068-44ff-c772-931bfbede2d5",
        "colab": {
          "base_uri": "https://localhost:8080/",
          "height": 68
        }
      },
      "source": [
        "import nltk\n",
        "nltk.download('stopwords')"
      ],
      "execution_count": 0,
      "outputs": [
        {
          "output_type": "stream",
          "text": [
            "[nltk_data] Downloading package stopwords to /root/nltk_data...\n",
            "[nltk_data]   Unzipping corpora/stopwords.zip.\n"
          ],
          "name": "stdout"
        },
        {
          "output_type": "execute_result",
          "data": {
            "text/plain": [
              "True"
            ]
          },
          "metadata": {
            "tags": []
          },
          "execution_count": 2
        }
      ]
    },
    {
      "cell_type": "code",
      "metadata": {
        "id": "k0isnFApji8_",
        "colab_type": "code",
        "outputId": "4efec4ff-4708-4158-8c91-dadd3f50409f",
        "colab": {
          "base_uri": "https://localhost:8080/",
          "height": 156
        }
      },
      "source": [
        "!python -m spacy download en\n",
        "nlp = spacy.load('en')"
      ],
      "execution_count": 0,
      "outputs": [
        {
          "output_type": "stream",
          "text": [
            "Requirement already satisfied: en_core_web_sm==2.1.0 from https://github.com/explosion/spacy-models/releases/download/en_core_web_sm-2.1.0/en_core_web_sm-2.1.0.tar.gz#egg=en_core_web_sm==2.1.0 in /usr/local/lib/python2.7/dist-packages (2.1.0)\n",
            "\u001b[38;5;2m✔ Download and installation successful\u001b[0m\n",
            "You can now load the model via spacy.load('en_core_web_sm')\n",
            "\u001b[38;5;2m✔ Linking successful\u001b[0m\n",
            "/usr/local/lib/python2.7/dist-packages/en_core_web_sm -->\n",
            "/usr/local/lib/python2.7/dist-packages/spacy/data/en\n",
            "You can now load the model via spacy.load('en')\n"
          ],
          "name": "stdout"
        }
      ]
    },
    {
      "cell_type": "code",
      "metadata": {
        "id": "LWErnjOzji9D",
        "colab_type": "code",
        "outputId": "921e907d-ee1b-42e0-ddca-8b5a355044fb",
        "colab": {
          "base_uri": "https://localhost:8080/",
          "height": 35
        }
      },
      "source": [
        "pd.options.display.max_rows\n",
        "pd.set_option('display.max_colwidth', -1)\n",
        "from keras import backend as K\n",
        "K.tensorflow_backend._get_available_gpus()"
      ],
      "execution_count": 0,
      "outputs": [
        {
          "output_type": "execute_result",
          "data": {
            "text/plain": [
              "['/job:localhost/replica:0/task:0/device:GPU:0']"
            ]
          },
          "metadata": {
            "tags": []
          },
          "execution_count": 49
        }
      ]
    },
    {
      "cell_type": "code",
      "metadata": {
        "id": "O6EfQI5qji9H",
        "colab_type": "code",
        "outputId": "412244a9-fcae-4039-c8f5-4ccf8db367a3",
        "colab": {
          "base_uri": "https://localhost:8080/",
          "height": 53
        }
      },
      "source": [
        "!pip install pydot==1.2.3"
      ],
      "execution_count": 0,
      "outputs": [
        {
          "output_type": "stream",
          "text": [
            "Requirement already satisfied: pydot==1.2.3 in /usr/local/lib/python2.7/dist-packages (1.2.3)\n",
            "Requirement already satisfied: pyparsing>=2.1.4 in /usr/local/lib/python2.7/dist-packages (from pydot==1.2.3) (2.4.0)\n"
          ],
          "name": "stdout"
        }
      ]
    },
    {
      "cell_type": "code",
      "metadata": {
        "id": "HxIwcpkAn7ba",
        "colab_type": "code",
        "outputId": "ae5f4ffd-1112-4220-f35d-ebc518d30946",
        "colab": {
          "base_uri": "https://localhost:8080/",
          "height": 35
        }
      },
      "source": [
        "from google.colab import drive\n",
        "drive.mount('/drive')"
      ],
      "execution_count": 0,
      "outputs": [
        {
          "output_type": "stream",
          "text": [
            "Drive already mounted at /drive; to attempt to forcibly remount, call drive.mount(\"/drive\", force_remount=True).\n"
          ],
          "name": "stdout"
        }
      ]
    },
    {
      "cell_type": "code",
      "metadata": {
        "id": "7ff5iXOCji9K",
        "colab_type": "code",
        "colab": {}
      },
      "source": [
        "train_data = pd.read_csv('/drive/My Drive/Colab Notebooks/Liar_new/train.csv', sep=\"\\t\")\n",
        "\n",
        "val_data = pd.read_csv('/drive/My Drive/Colab Notebooks/Liar_new/valid.csv', sep=\"\\t\")\n",
        "\n",
        "test_data = pd.read_csv('/drive/My Drive/Colab Notebooks/Liar_new/test.csv', sep=\"\\t\")"
      ],
      "execution_count": 0,
      "outputs": []
    },
    {
      "cell_type": "code",
      "metadata": {
        "id": "44W8_1xEji9M",
        "colab_type": "code",
        "outputId": "984cffb0-0ab3-449a-e7f8-e6e05500d052",
        "colab": {
          "base_uri": "https://localhost:8080/",
          "height": 354
        }
      },
      "source": [
        "print (train_data.shape, val_data.shape, test_data.shape)\n",
        "print (train_data.label.unique())\n",
        "train_data.head()"
      ],
      "execution_count": 0,
      "outputs": [
        {
          "output_type": "stream",
          "text": [
            "((10240, 14), (1284, 14), (1267, 14))\n",
            "['FALSE' 'half-true' 'mostly-true' 'TRUE' 'barely-true' 'pants-fire']\n"
          ],
          "name": "stdout"
        },
        {
          "output_type": "execute_result",
          "data": {
            "text/html": [
              "<div>\n",
              "<style scoped>\n",
              "    .dataframe tbody tr th:only-of-type {\n",
              "        vertical-align: middle;\n",
              "    }\n",
              "\n",
              "    .dataframe tbody tr th {\n",
              "        vertical-align: top;\n",
              "    }\n",
              "\n",
              "    .dataframe thead th {\n",
              "        text-align: right;\n",
              "    }\n",
              "</style>\n",
              "<table border=\"1\" class=\"dataframe\">\n",
              "  <thead>\n",
              "    <tr style=\"text-align: right;\">\n",
              "      <th></th>\n",
              "      <th>id</th>\n",
              "      <th>label</th>\n",
              "      <th>statement</th>\n",
              "      <th>subject</th>\n",
              "      <th>speaker</th>\n",
              "      <th>job</th>\n",
              "      <th>state</th>\n",
              "      <th>party</th>\n",
              "      <th>barely-true</th>\n",
              "      <th>FALSE</th>\n",
              "      <th>half-true</th>\n",
              "      <th>mostly-true</th>\n",
              "      <th>pants-fire</th>\n",
              "      <th>venue</th>\n",
              "    </tr>\n",
              "  </thead>\n",
              "  <tbody>\n",
              "    <tr>\n",
              "      <th>0</th>\n",
              "      <td>2635.json</td>\n",
              "      <td>FALSE</td>\n",
              "      <td>Says the Annies List political group supports third-trimester abortions on demand.</td>\n",
              "      <td>abortion</td>\n",
              "      <td>dwayne-bohac</td>\n",
              "      <td>State representative</td>\n",
              "      <td>Texas</td>\n",
              "      <td>republican</td>\n",
              "      <td>0.0</td>\n",
              "      <td>1.0</td>\n",
              "      <td>0.0</td>\n",
              "      <td>0.0</td>\n",
              "      <td>0.0</td>\n",
              "      <td>a mailer</td>\n",
              "    </tr>\n",
              "    <tr>\n",
              "      <th>1</th>\n",
              "      <td>10540.json</td>\n",
              "      <td>half-true</td>\n",
              "      <td>When did the decline of coal start? It started when natural gas took off that started to begin in (President George W.) Bushs administration.</td>\n",
              "      <td>energy,history,job-accomplishments</td>\n",
              "      <td>scott-surovell</td>\n",
              "      <td>State delegate</td>\n",
              "      <td>Virginia</td>\n",
              "      <td>democrat</td>\n",
              "      <td>0.0</td>\n",
              "      <td>0.0</td>\n",
              "      <td>1.0</td>\n",
              "      <td>1.0</td>\n",
              "      <td>0.0</td>\n",
              "      <td>a floor speech.</td>\n",
              "    </tr>\n",
              "    <tr>\n",
              "      <th>2</th>\n",
              "      <td>324.json</td>\n",
              "      <td>mostly-true</td>\n",
              "      <td>Hillary Clinton agrees with John McCain \"by voting to give George Bush the benefit of the doubt on Iran.\"</td>\n",
              "      <td>foreign-policy</td>\n",
              "      <td>barack-obama</td>\n",
              "      <td>President</td>\n",
              "      <td>Illinois</td>\n",
              "      <td>democrat</td>\n",
              "      <td>70.0</td>\n",
              "      <td>71.0</td>\n",
              "      <td>160.0</td>\n",
              "      <td>163.0</td>\n",
              "      <td>9.0</td>\n",
              "      <td>Denver</td>\n",
              "    </tr>\n",
              "    <tr>\n",
              "      <th>3</th>\n",
              "      <td>1123.json</td>\n",
              "      <td>FALSE</td>\n",
              "      <td>Health care reform legislation is likely to mandate free sex change surgeries.</td>\n",
              "      <td>health-care</td>\n",
              "      <td>blog-posting</td>\n",
              "      <td>NaN</td>\n",
              "      <td>NaN</td>\n",
              "      <td>none</td>\n",
              "      <td>7.0</td>\n",
              "      <td>19.0</td>\n",
              "      <td>3.0</td>\n",
              "      <td>5.0</td>\n",
              "      <td>44.0</td>\n",
              "      <td>a news release</td>\n",
              "    </tr>\n",
              "    <tr>\n",
              "      <th>4</th>\n",
              "      <td>9028.json</td>\n",
              "      <td>half-true</td>\n",
              "      <td>The economic turnaround started at the end of my term.</td>\n",
              "      <td>economy,jobs</td>\n",
              "      <td>charlie-crist</td>\n",
              "      <td>NaN</td>\n",
              "      <td>Florida</td>\n",
              "      <td>democrat</td>\n",
              "      <td>15.0</td>\n",
              "      <td>9.0</td>\n",
              "      <td>20.0</td>\n",
              "      <td>19.0</td>\n",
              "      <td>2.0</td>\n",
              "      <td>an interview on CNN</td>\n",
              "    </tr>\n",
              "  </tbody>\n",
              "</table>\n",
              "</div>"
            ],
            "text/plain": [
              "           id        label  ... pants-fire                venue\n",
              "0  2635.json   FALSE        ...  0.0        a mailer           \n",
              "1  10540.json  half-true    ...  0.0        a floor speech.    \n",
              "2  324.json    mostly-true  ...  9.0        Denver             \n",
              "3  1123.json   FALSE        ...  44.0       a news release     \n",
              "4  9028.json   half-true    ...  2.0        an interview on CNN\n",
              "\n",
              "[5 rows x 14 columns]"
            ]
          },
          "metadata": {
            "tags": []
          },
          "execution_count": 53
        }
      ]
    },
    {
      "cell_type": "code",
      "metadata": {
        "colab_type": "code",
        "id": "y_OG-XmrnOBc",
        "colab": {}
      },
      "source": [
        "## Pre-processing using regular expression\n",
        "def processStatement(statement):\n",
        "    # process the statements\n",
        "    #Convert to lower case\n",
        "    #statement = statement.lower()\n",
        "    #Convert www.* or https?://* to URL\n",
        "    #statement = re.sub('((www\\.[^\\s]+)|(https?://[^\\s]+))','URL',statement)\n",
        "    #Convert @username to AT_USER\n",
        "    #statement = re.sub(r'@([^\\s]+)', r'\\1', statement)\n",
        "    #Remove additional white spaces\n",
        "    statement = re.sub('[\\s]+', ' ', statement)\n",
        "    #Replace #word with word\n",
        "    statement = re.sub(r'#([^\\s]+)', r'\\1', statement)\n",
        "    #Replace '&amp;' with 'and'\n",
        "    statement = re.sub(r'&amp;', r' and', statement)\n",
        "    #trim\n",
        "    statement = statement.strip('\\'\"')\n",
        "    return statement\n",
        "# END processStatement()"
      ],
      "execution_count": 0,
      "outputs": []
    },
    {
      "cell_type": "code",
      "metadata": {
        "id": "P9h9VR6QpaDh",
        "colab_type": "code",
        "colab": {}
      },
      "source": [
        "## Add a new column for pre-processing tweet content \n",
        "def adding_ppcontent_col(train_data):\n",
        "    pptext=[]\n",
        "    \n",
        "    for line in train_data.content:\n",
        "        text = processStatement(line)\n",
        "        pptext.append(text)\n",
        "\n",
        "    train_data['ppstatement'] = pptext\n",
        "# END adding_ppcontent_col()"
      ],
      "execution_count": 0,
      "outputs": []
    },
    {
      "cell_type": "code",
      "metadata": {
        "id": "10BP87Wuji9W",
        "colab_type": "code",
        "outputId": "436b3bc1-8232-486d-934b-0bd21a616b58",
        "colab": {
          "base_uri": "https://localhost:8080/",
          "height": 35
        }
      },
      "source": [
        "\n",
        "#####################\n",
        "### OUTPUT LABELS ###\n",
        "#####################\n",
        "\n",
        "y_label_dict = {\"pants-fire\" : 0, \"FALSE\" : 1, \"barely-true\" : 2, \"half-true\" : 3, \"mostly-true\" : 4, \"TRUE\" : 5}\n",
        "print (y_label_dict)\n",
        "\n",
        "train_data['output'] = train_data['label'].apply(lambda x: y_label_dict[x])\n",
        "val_data['output'] = val_data['label'].apply(lambda x: y_label_dict[x])\n",
        "test_data['output'] = test_data['label'].apply(lambda x: y_label_dict[x])\n",
        "num_classes = 6"
      ],
      "execution_count": 0,
      "outputs": [
        {
          "output_type": "stream",
          "text": [
            "{'FALSE': 1, 'half-true': 3, 'mostly-true': 4, 'pants-fire': 0, 'TRUE': 5, 'barely-true': 2}\n"
          ],
          "name": "stdout"
        }
      ]
    },
    {
      "cell_type": "code",
      "metadata": {
        "id": "reKVM_fhji9Z",
        "colab_type": "code",
        "outputId": "acfc4837-8664-4d1f-d3df-a08d3b07cfb7",
        "colab": {
          "base_uri": "https://localhost:8080/",
          "height": 418
        }
      },
      "source": [
        "#####################\n",
        "###   SPEAKERS    ###\n",
        "#####################\n",
        "\n",
        "#frequent_speakers = train_data['speaker'].value_counts()[:20].reset_index().to_dict()['index']\n",
        "#frequent_speakers = dict((v,k) for k,v in frequent_speakers.iteritems())\n",
        "frequent_speakers = {'barack-obama' : 0, 'donald-trump' : 1, 'hillary-clinton' : 2, \n",
        "                     'mitt-romney' : 3, 'scott-walker' : 4, 'john-mccain' : 5, \n",
        "                     'rick-perry' : 6, 'chain-email' : 7, 'marco-rubio' : 8, 'viral-image':13,\n",
        "                     'rick-scott' : 9, 'ted-cruz' : 10, 'bernie-s' : 11, 'newt-gingrich':16,\n",
        "                     'chris-christie' : 12, 'facebook-posts' : 13,'blog-posting':13, \n",
        "                     'charlie-crist' : 14, 'congressional' : 15, 'republican' : 15, \n",
        "                     'national-committe' : 15, 'democratic':15}\n",
        "\n",
        "print (frequent_speakers)\n",
        "\n",
        "def get_speaker_id(speaker):\n",
        "  if isinstance(speaker, str):\n",
        "    matched = [sp for sp in frequent_speakers if sp in speaker.lower() ]\n",
        "    if len(matched)>0:\n",
        "      return frequent_speakers[matched[0]]\n",
        "    else:\n",
        "      return len(set(frequent_speakers.values())) \n",
        "  else:\n",
        "    return len(set(frequent_speakers.values())) \n",
        "  \n",
        "\n",
        "train_data['speaker_id'] = train_data['speaker'].apply(get_speaker_id)\n",
        "val_data['speaker_id'] = val_data['speaker'].apply(get_speaker_id)\n",
        "test_data['speaker_id'] = test_data['speaker'].apply(get_speaker_id)\n",
        "\n",
        "print (len(set(frequent_speakers.values()))) \n",
        "\n",
        "train_data['speaker_id'].value_counts()"
      ],
      "execution_count": 0,
      "outputs": [
        {
          "output_type": "stream",
          "text": [
            "{'chain-email': 7, 'hillary-clinton': 2, 'john-mccain': 5, 'scott-walker': 4, 'rick-scott': 9, 'ted-cruz': 10, 'marco-rubio': 8, 'mitt-romney': 3, 'facebook-posts': 13, 'barack-obama': 0, 'donald-trump': 1, 'congressional': 15, 'newt-gingrich': 16, 'rick-perry': 6, 'blog-posting': 13, 'republican': 15, 'national-committe': 15, 'viral-image': 13, 'bernie-s': 11, 'chris-christie': 12, 'charlie-crist': 14, 'democratic': 15}\n",
            "17\n"
          ],
          "name": "stdout"
        },
        {
          "output_type": "execute_result",
          "data": {
            "text/plain": [
              "17    7348\n",
              "0     488 \n",
              "15    347 \n",
              "1     275 \n",
              "2     239 \n",
              "3     176 \n",
              "13    156 \n",
              "4     149 \n",
              "5     148 \n",
              "6     142 \n",
              "7     142 \n",
              "8     117 \n",
              "9     115 \n",
              "10    93  \n",
              "11    88  \n",
              "12    78  \n",
              "14    70  \n",
              "16    69  \n",
              "Name: speaker_id, dtype: int64"
            ]
          },
          "metadata": {
            "tags": []
          },
          "execution_count": 57
        }
      ]
    },
    {
      "cell_type": "code",
      "metadata": {
        "id": "2APVKOiBji9c",
        "colab_type": "code",
        "outputId": "5b9ac248-18f0-4e40-ed3b-24663fcf3891",
        "colab": {
          "base_uri": "https://localhost:8080/",
          "height": 327
        }
      },
      "source": [
        "#####################\n",
        "###   JOB TITLE   ###\n",
        "#####################\n",
        "\n",
        "#frequent_jobs = train_data['job'].str.lower().value_counts()[:20].reset_index().to_dict()['index']\n",
        "#frequent_jobs = dict((v,k) for k,v in frequent_jobs.iteritems())\n",
        "frequent_jobs = { 'senator' : 0, 'president' : 1, 'governor' : 2, \n",
        "                 'u.s. representative' : 3, 'attorney' : 4, 'congressman' : 5, \n",
        "                 'congresswoman' : 5, 'social media posting' : 6, 'lawyer' : 4, \n",
        "                 'businessman' : 6,  'radio host' : 8, 'host':8,\n",
        "                  'mayor' : 7, 'assembly' : 9,'representative' : 3, \n",
        "                 'senate' : 9,'state representative' : 10,'milwaukee county executive' : 11,\n",
        "                 'u.s. house of representatives' : 3,'house representative' : 3,\n",
        "                 'house of representatives' : 3,'house member':3}\n",
        "\n",
        "\n",
        "print (frequent_jobs)\n",
        "\n",
        "def get_job_id(job):\n",
        "  if isinstance(job, str):\n",
        "    matched = [jb for jb in frequent_jobs if jb in job.lower() ]\n",
        "    if len(matched)>0:\n",
        "      return frequent_jobs[matched[0]]\n",
        "    else:\n",
        "      return len(set(frequent_jobs.values()))\n",
        "  else:\n",
        "    return len(set(frequent_jobs.values()))\n",
        "  \n",
        "\n",
        "train_data['job_id'] = train_data['job'].apply(get_job_id)\n",
        "val_data['job_id'] = val_data['job'].apply(get_job_id)\n",
        "test_data['job_id'] = test_data['job'].apply(get_job_id)\n",
        "\n",
        "print (len(set(frequent_jobs.values())))\n",
        "\n",
        "train_data['job_id'].value_counts()"
      ],
      "execution_count": 0,
      "outputs": [
        {
          "output_type": "stream",
          "text": [
            "{'u.s. representative': 3, 'senate': 9, 'radio host': 8, 'attorney': 4, 'lawyer': 4, 'senator': 0, 'mayor': 7, 'state representative': 10, 'house representative': 3, 'house of representatives': 3, 'social media posting': 6, 'assembly': 9, 'u.s. house of representatives': 3, 'host': 8, 'representative': 3, 'house member': 3, 'businessman': 6, 'president': 1, 'congresswoman': 5, 'milwaukee county executive': 11, 'governor': 2, 'congressman': 5}\n",
            "12\n"
          ],
          "name": "stdout"
        },
        {
          "output_type": "execute_result",
          "data": {
            "text/plain": [
              "12    4597\n",
              "1     1205\n",
              "0     1201\n",
              "2     892 \n",
              "3     722 \n",
              "8     279 \n",
              "9     260 \n",
              "5     223 \n",
              "4     223 \n",
              "10    198 \n",
              "7     167 \n",
              "11    149 \n",
              "6     124 \n",
              "Name: job_id, dtype: int64"
            ]
          },
          "metadata": {
            "tags": []
          },
          "execution_count": 58
        }
      ]
    },
    {
      "cell_type": "code",
      "metadata": {
        "id": "gjzolkBEji9g",
        "colab_type": "code",
        "outputId": "bc6e07f4-b6b4-4ea2-ad3b-8293c6c5ef3c",
        "colab": {
          "base_uri": "https://localhost:8080/",
          "height": 180
        }
      },
      "source": [
        "#####################\n",
        "###     PARTY     ###\n",
        "#####################\n",
        "frequent_parties = train_data['party'].str.lower().value_counts()[:5].reset_index().to_dict()['index']\n",
        "frequent_parties = dict((v,k) for k,v in frequent_parties.iteritems())\n",
        "print frequent_parties\n",
        "#frequent_parties['columnist']=frequent_parties['journalist']\n",
        "#frequent_parties['talk-show-host']=frequent_parties['journalist']\n",
        "def get_party_id(party):\n",
        "  if isinstance(party, str):\n",
        "    matched = [pt for pt in frequent_parties if pt in party.lower() ]\n",
        "    if len(matched)>0:\n",
        "      return frequent_parties[matched[0]]\n",
        "    else:\n",
        "      return len(set(frequent_parties.values())) \n",
        "  else:\n",
        "    return len(set(frequent_parties.values())) \n",
        "  \n",
        "\n",
        "train_data['party_id'] = train_data['party'].apply(get_party_id)\n",
        "val_data['party_id'] = val_data['party'].apply(get_party_id)\n",
        "test_data['party_id'] = test_data['party'].apply(get_party_id)\n",
        "\n",
        "print len(set(frequent_parties.values())) \n",
        "\n",
        "train_data['party_id'].value_counts()"
      ],
      "execution_count": 0,
      "outputs": [
        {
          "output_type": "stream",
          "text": [
            "{'organization': 3, 'none': 2, 'republican': 0, 'democrat': 1, 'independent': 4}\n",
            "5\n"
          ],
          "name": "stdout"
        },
        {
          "output_type": "execute_result",
          "data": {
            "text/plain": [
              "0    4497\n",
              "1    3337\n",
              "2    1744\n",
              "5    296 \n",
              "3    219 \n",
              "4    147 \n",
              "Name: party_id, dtype: int64"
            ]
          },
          "metadata": {
            "tags": []
          },
          "execution_count": 59
        }
      ]
    },
    {
      "cell_type": "code",
      "metadata": {
        "id": "nINL7VH4ji9k",
        "colab_type": "code",
        "outputId": "3ab7f66b-e7aa-45f8-b6ee-85f28e943622",
        "colab": {
          "base_uri": "https://localhost:8080/",
          "height": 35
        }
      },
      "source": [
        "train_data.loc[train_data['party_id']==9]['party'].value_counts()[:90]"
      ],
      "execution_count": 0,
      "outputs": [
        {
          "output_type": "execute_result",
          "data": {
            "text/plain": [
              "Series([], Name: party, dtype: int64)"
            ]
          },
          "metadata": {
            "tags": []
          },
          "execution_count": 60
        }
      ]
    },
    {
      "cell_type": "code",
      "metadata": {
        "id": "PpxFRR8zji9n",
        "colab_type": "code",
        "outputId": "2c13572b-1d37-462d-da38-1431513f9915",
        "colab": {
          "base_uri": "https://localhost:8080/",
          "height": 399
        }
      },
      "source": [
        "#####################\n",
        "###     STATE     ###\n",
        "#####################\n",
        "#states_50 = ['Alabama','Alaska','Arizona','Arkansas','California',\n",
        "#                   'Colorado', 'Connecticut','Delaware','Florida', 'Georgia',\n",
        "#                   'Hawaii','Idaho','Illinois','Indiana','Iowa','Kansas',\n",
        "#                   'Kentucky','Louisiana','Maine','Maryland','Massachusetts',\n",
        "#                   'Michigan','Minnesota','Mississippi', 'Missouri','Montana',\n",
        "#                   'Nebraska','Nevada','New Hampshire','New Jersey','New Mexico',\n",
        "#                   'New York','North Carolina','North Dakota','Ohio','Oklahoma',\n",
        "#                   'Oregon','Pennsylvania','Rhode Island','South Carolina',\n",
        "#                   'South Dakota','Tennessee','Texas','Utah','Vermont','Virginia',\n",
        "#                   'Washington','West Virginia','Wisconsin','Wyoming']\n",
        "\n",
        "# frequent_states = dict((v.lower(),k) for k,v in enumerate(states_50))\n",
        "\n",
        "other_states = ['wyoming', 'colorado', 'hawaii', 'tennessee', 'nevada', 'maine',\n",
        "                'north dakota', 'mississippi', 'south dakota', 'oklahoma', \n",
        "                'delaware', 'minnesota', 'north carolina', 'arkansas', 'indiana', \n",
        "                'maryland', 'louisiana', 'idaho', 'iowa', 'west virginia', \n",
        "                'michigan', 'kansas', 'utah', 'connecticut', 'montana', 'vermont', \n",
        "                'pennsylvania', 'alaska', 'kentucky', 'nebraska', 'new hampshire', \n",
        "                'missouri', 'south carolina', 'alabama', 'new mexico']\n",
        "\n",
        "\n",
        "frequent_states = {'texas': 1, 'florida': 2, 'wisconsin': 3, 'new york': 4, \n",
        "                    'illinois': 5, 'ohio': 6, 'georgia': 7, 'virginia': 8, \n",
        "                   'rhode island': 9, 'oregon': 10, 'new jersey': 11, \n",
        "                   'massachusetts': 12, 'arizona': 13, 'california': 14, \n",
        "                   'washington': 15}\n",
        "for state in other_states:\n",
        "  frequent_states[state]=0\n",
        "\n",
        "print (frequent_states)\n",
        "\n",
        "def get_state_id(state):\n",
        "    if isinstance(state, str):\n",
        "        if state.lower().rstrip() in frequent_states:\n",
        "            return frequent_states[state.lower().rstrip()]\n",
        "        else:\n",
        "            if 'washington' in state.lower():\n",
        "                return frequent_states['washington']\n",
        "            else:\n",
        "                return len(set(frequent_states.values()))\n",
        "    else:\n",
        "        return len(set(frequent_states.values()))\n",
        "\n",
        "\n",
        "train_data['state_id'] = train_data['state'].apply(get_state_id)\n",
        "val_data['state_id'] = val_data['state'].apply(get_state_id)\n",
        "test_data['state_id'] = test_data['state'].apply(get_state_id)\n",
        "\n",
        "print (len(set(frequent_states.values())))\n",
        "\n",
        "train_data['state_id'].value_counts()"
      ],
      "execution_count": 0,
      "outputs": [
        {
          "output_type": "stream",
          "text": [
            "{'colorado': 0, 'washington': 15, 'rhode island': 9, 'tennessee': 0, 'nevada': 0, 'maine': 0, 'mississippi': 0, 'south dakota': 0, 'new jersey': 11, 'wyoming': 0, 'minnesota': 0, 'north carolina': 0, 'new york': 4, 'indiana': 0, 'maryland': 0, 'louisiana': 0, 'texas': 1, 'iowa': 0, 'michigan': 0, 'utah': 0, 'virginia': 8, 'oregon': 10, 'connecticut': 0, 'georgia': 7, 'hawaii': 0, 'kentucky': 0, 'nebraska': 0, 'new hampshire': 0, 'missouri': 0, 'south carolina': 0, 'ohio': 6, 'north dakota': 0, 'oklahoma': 0, 'delaware': 0, 'illinois': 5, 'arkansas': 0, 'idaho': 0, 'arizona': 13, 'wisconsin': 3, 'kansas': 0, 'montana': 0, 'california': 14, 'massachusetts': 12, 'vermont': 0, 'pennsylvania': 0, 'florida': 2, 'alaska': 0, 'west virginia': 0, 'alabama': 0, 'new mexico': 0}\n",
            "16\n"
          ],
          "name": "stdout"
        },
        {
          "output_type": "execute_result",
          "data": {
            "text/plain": [
              "16    2238\n",
              "0     1211\n",
              "1     1009\n",
              "2     1003\n",
              "3     714 \n",
              "4     659 \n",
              "5     558 \n",
              "6     448 \n",
              "7     433 \n",
              "8     408 \n",
              "9     371 \n",
              "10    242 \n",
              "11    241 \n",
              "12    212 \n",
              "13    182 \n",
              "14    163 \n",
              "15    148 \n",
              "Name: state_id, dtype: int64"
            ]
          },
          "metadata": {
            "tags": []
          },
          "execution_count": 62
        }
      ]
    },
    {
      "cell_type": "code",
      "metadata": {
        "id": "9YktbMcyji9r",
        "colab_type": "code",
        "outputId": "9b14ec33-c97f-4634-83e2-80264deeee43",
        "colab": {
          "base_uri": "https://localhost:8080/",
          "height": 363
        }
      },
      "source": [
        "#####################\n",
        "###    SUBJECT    ###\n",
        "#####################\n",
        "frequent_subjects = train_data['subject'].str.lower().value_counts()[:25]\n",
        "\n",
        "# health-care               381\n",
        "# taxes                     308\n",
        "# immigration               253\n",
        "# elections                 252\n",
        "# education                 237\n",
        "# candidates-biography      190\n",
        "# economy                   137\n",
        "# guns                      130\n",
        "# economy,jobs              125\n",
        "# federal-budget            121\n",
        "# jobs                       98\n",
        "# energy                     94\n",
        "# abortion                   92\n",
        "# foreign-policy             85\n",
        "# state-budget               75\n",
        "# education,state-budget     69\n",
        "# transportation             64\n",
        "# crime                      59\n",
        "# ethics                     58\n",
        "# iraq                       55\n",
        "# campaign-finance           53\n",
        "# terrorism                  53\n",
        "# environment                52\n",
        "# history                    45\n",
        "# job-accomplishments        45\n",
        "\n",
        "frequent_subjects = {'health': 0, 'tax': 1, 'immigration': 2, 'election': 3, \n",
        "                     'education': 4, 'candidates-biography': 5, 'economy': 6, \n",
        "                     'gun': 7, 'job': 8, 'federal-budget': 6, 'energy': 9, \n",
        "                     'abortion': 10, 'foreign-policy': 6, 'state-budget': 6, \n",
        "                     'crime': 11, 'gays-and-lesbians' : 12, 'medicare' : 0, \n",
        "                     'terrorism' : 11, 'finance' : 6, 'criminal':11,\n",
        "                     'transportation':13}\n",
        "\n",
        "print (frequent_subjects)\n",
        "\n",
        "\n",
        "def get_subject_id(subject):\n",
        "  if isinstance(subject, str):\n",
        "    matched = [sbj for sbj in frequent_subjects if sbj in subject.lower() ]\n",
        "    if len(matched)>0:\n",
        "      return frequent_subjects[matched[0]]\n",
        "    else:\n",
        "      return len(set(frequent_subjects.values())) \n",
        "  else:\n",
        "    return len(set(frequent_subjects.values()))\n",
        "  \n",
        "\n",
        "train_data['subject_id'] = train_data['subject'].apply(get_subject_id)\n",
        "val_data['subject_id'] = val_data['subject'].apply(get_subject_id)\n",
        "test_data['subject_id'] = test_data['subject'].apply(get_subject_id)\n",
        "\n",
        "print (len(set(frequent_subjects.values())))\n",
        "\n",
        "train_data['subject_id'].value_counts()\n",
        "\n",
        "#print (train_data.loc[train_data['subject_id']==15]['subject'].value_counts())"
      ],
      "execution_count": 0,
      "outputs": [
        {
          "output_type": "stream",
          "text": [
            "{'foreign-policy': 6, 'criminal': 11, 'transportation': 13, 'federal-budget': 6, 'crime': 11, 'abortion': 10, 'energy': 9, 'tax': 1, 'immigration': 2, 'candidates-biography': 5, 'gun': 7, 'job': 8, 'health': 0, 'election': 3, 'state-budget': 6, 'finance': 6, 'medicare': 0, 'terrorism': 11, 'education': 4, 'gays-and-lesbians': 12, 'economy': 6}\n",
            "14\n"
          ],
          "name": "stdout"
        },
        {
          "output_type": "execute_result",
          "data": {
            "text/plain": [
              "6     2143\n",
              "14    1909\n",
              "0     954 \n",
              "1     846 \n",
              "8     728 \n",
              "11    660 \n",
              "5     518 \n",
              "3     468 \n",
              "2     450 \n",
              "4     395 \n",
              "9     350 \n",
              "13    261 \n",
              "10    237 \n",
              "7     235 \n",
              "12    86  \n",
              "Name: subject_id, dtype: int64"
            ]
          },
          "metadata": {
            "tags": []
          },
          "execution_count": 63
        }
      ]
    },
    {
      "cell_type": "code",
      "metadata": {
        "id": "BDcV3vB4ji9u",
        "colab_type": "code",
        "outputId": "d9c170d0-ad0e-4b53-b5de-cfb165d6b8ed",
        "colab": {
          "base_uri": "https://localhost:8080/",
          "height": 345
        }
      },
      "source": [
        "#####################\n",
        "###     VENUE     ###\n",
        "#####################\n",
        "\n",
        "frequent_venues = {'news release' : 0, 'interview' : 1, 'press release' : 2, \n",
        "                   'speech' : 3, 'tv' : 4, 'tweet' : 5, 'campaign' : 6, \n",
        "                   'television' : 4, 'debate' : 7, 'news conference' : 8, \n",
        "                   'facebook' : 5, 'press conference' : 8, 'radio' : 9, \n",
        "                   'e-mail' : 10, 'email' : 10, 'mail' : 10, 'social media' : 5,\n",
        "                   'twitter' : 5, 'blog':11, 'article':11,'comment':12, 'web':11}\n",
        "\n",
        "print (frequent_venues)\n",
        "\n",
        "\n",
        "def get_venue_id(venue):\n",
        "  if isinstance(venue, str):\n",
        "    matched = [ven for ven in frequent_venues if ven in venue.lower() ]\n",
        "    if len(matched)>0:\n",
        "      return frequent_venues[matched[0]]\n",
        "    else:\n",
        "      return len(set(frequent_venues.values())) \n",
        "  else:\n",
        "    return len(set(frequent_venues.values()))\n",
        "  \n",
        "\n",
        "train_data['venue_id'] = train_data['venue'].apply(get_venue_id)\n",
        "val_data['venue_id'] = val_data['venue'].apply(get_venue_id)\n",
        "test_data['venue_id'] = test_data['venue'].apply(get_venue_id)\n",
        "\n",
        "print (len(set(frequent_venues.values())))\n",
        "\n",
        "train_data['venue_id'].value_counts()\n",
        "\n",
        "#print (train_data.loc[train_data['venue_id']==13]['venue'].value_counts())"
      ],
      "execution_count": 0,
      "outputs": [
        {
          "output_type": "stream",
          "text": [
            "{'comment': 12, 'campaign': 6, 'twitter': 5, 'radio': 9, 'debate': 7, 'social media': 5, 'tv': 4, 'tweet': 5, 'blog': 11, 'e-mail': 10, 'speech': 3, 'interview': 1, 'mail': 10, 'email': 10, 'web': 11, 'news conference': 8, 'press conference': 8, 'facebook': 5, 'news release': 0, 'press release': 2, 'article': 11, 'television': 4}\n",
            "13\n"
          ],
          "name": "stdout"
        },
        {
          "output_type": "execute_result",
          "data": {
            "text/plain": [
              "13    2695\n",
              "1     1419\n",
              "3     1010\n",
              "6     803 \n",
              "7     729 \n",
              "4     628 \n",
              "11    536 \n",
              "5     464 \n",
              "12    402 \n",
              "10    353 \n",
              "2     331 \n",
              "9     317 \n",
              "0     306 \n",
              "8     247 \n",
              "Name: venue_id, dtype: int64"
            ]
          },
          "metadata": {
            "tags": []
          },
          "execution_count": 64
        }
      ]
    },
    {
      "cell_type": "code",
      "metadata": {
        "id": "8OFPuezcji90",
        "colab_type": "code",
        "outputId": "8aeacd7a-bca2-42ec-c990-618fee240243",
        "colab": {
          "base_uri": "https://localhost:8080/",
          "height": 837
        }
      },
      "source": [
        "train_data.head()"
      ],
      "execution_count": 0,
      "outputs": [
        {
          "output_type": "execute_result",
          "data": {
            "text/html": [
              "<div>\n",
              "<style scoped>\n",
              "    .dataframe tbody tr th:only-of-type {\n",
              "        vertical-align: middle;\n",
              "    }\n",
              "\n",
              "    .dataframe tbody tr th {\n",
              "        vertical-align: top;\n",
              "    }\n",
              "\n",
              "    .dataframe thead th {\n",
              "        text-align: right;\n",
              "    }\n",
              "</style>\n",
              "<table border=\"1\" class=\"dataframe\">\n",
              "  <thead>\n",
              "    <tr style=\"text-align: right;\">\n",
              "      <th></th>\n",
              "      <th>id</th>\n",
              "      <th>label</th>\n",
              "      <th>statement</th>\n",
              "      <th>subject</th>\n",
              "      <th>speaker</th>\n",
              "      <th>job</th>\n",
              "      <th>state</th>\n",
              "      <th>party</th>\n",
              "      <th>barely-true</th>\n",
              "      <th>FALSE</th>\n",
              "      <th>half-true</th>\n",
              "      <th>mostly-true</th>\n",
              "      <th>pants-fire</th>\n",
              "      <th>venue</th>\n",
              "      <th>output</th>\n",
              "      <th>speaker_id</th>\n",
              "      <th>job_id</th>\n",
              "      <th>party_id</th>\n",
              "      <th>state_id</th>\n",
              "      <th>subject_id</th>\n",
              "      <th>venue_id</th>\n",
              "    </tr>\n",
              "  </thead>\n",
              "  <tbody>\n",
              "    <tr>\n",
              "      <th>0</th>\n",
              "      <td>2635.json</td>\n",
              "      <td>FALSE</td>\n",
              "      <td>Says the Annies List political group supports third-trimester abortions on demand.</td>\n",
              "      <td>abortion</td>\n",
              "      <td>dwayne-bohac</td>\n",
              "      <td>State representative</td>\n",
              "      <td>Texas</td>\n",
              "      <td>republican</td>\n",
              "      <td>0.0</td>\n",
              "      <td>1.0</td>\n",
              "      <td>0.0</td>\n",
              "      <td>0.0</td>\n",
              "      <td>0.0</td>\n",
              "      <td>a mailer</td>\n",
              "      <td>1</td>\n",
              "      <td>17</td>\n",
              "      <td>10</td>\n",
              "      <td>0</td>\n",
              "      <td>1</td>\n",
              "      <td>10</td>\n",
              "      <td>10</td>\n",
              "    </tr>\n",
              "    <tr>\n",
              "      <th>1</th>\n",
              "      <td>10540.json</td>\n",
              "      <td>half-true</td>\n",
              "      <td>When did the decline of coal start? It started when natural gas took off that started to begin in (President George W.) Bushs administration.</td>\n",
              "      <td>energy,history,job-accomplishments</td>\n",
              "      <td>scott-surovell</td>\n",
              "      <td>State delegate</td>\n",
              "      <td>Virginia</td>\n",
              "      <td>democrat</td>\n",
              "      <td>0.0</td>\n",
              "      <td>0.0</td>\n",
              "      <td>1.0</td>\n",
              "      <td>1.0</td>\n",
              "      <td>0.0</td>\n",
              "      <td>a floor speech.</td>\n",
              "      <td>3</td>\n",
              "      <td>17</td>\n",
              "      <td>12</td>\n",
              "      <td>1</td>\n",
              "      <td>8</td>\n",
              "      <td>9</td>\n",
              "      <td>3</td>\n",
              "    </tr>\n",
              "    <tr>\n",
              "      <th>2</th>\n",
              "      <td>324.json</td>\n",
              "      <td>mostly-true</td>\n",
              "      <td>Hillary Clinton agrees with John McCain \"by voting to give George Bush the benefit of the doubt on Iran.\"</td>\n",
              "      <td>foreign-policy</td>\n",
              "      <td>barack-obama</td>\n",
              "      <td>President</td>\n",
              "      <td>Illinois</td>\n",
              "      <td>democrat</td>\n",
              "      <td>70.0</td>\n",
              "      <td>71.0</td>\n",
              "      <td>160.0</td>\n",
              "      <td>163.0</td>\n",
              "      <td>9.0</td>\n",
              "      <td>Denver</td>\n",
              "      <td>4</td>\n",
              "      <td>0</td>\n",
              "      <td>1</td>\n",
              "      <td>1</td>\n",
              "      <td>5</td>\n",
              "      <td>6</td>\n",
              "      <td>13</td>\n",
              "    </tr>\n",
              "    <tr>\n",
              "      <th>3</th>\n",
              "      <td>1123.json</td>\n",
              "      <td>FALSE</td>\n",
              "      <td>Health care reform legislation is likely to mandate free sex change surgeries.</td>\n",
              "      <td>health-care</td>\n",
              "      <td>blog-posting</td>\n",
              "      <td>NaN</td>\n",
              "      <td>NaN</td>\n",
              "      <td>none</td>\n",
              "      <td>7.0</td>\n",
              "      <td>19.0</td>\n",
              "      <td>3.0</td>\n",
              "      <td>5.0</td>\n",
              "      <td>44.0</td>\n",
              "      <td>a news release</td>\n",
              "      <td>1</td>\n",
              "      <td>13</td>\n",
              "      <td>12</td>\n",
              "      <td>2</td>\n",
              "      <td>16</td>\n",
              "      <td>0</td>\n",
              "      <td>0</td>\n",
              "    </tr>\n",
              "    <tr>\n",
              "      <th>4</th>\n",
              "      <td>9028.json</td>\n",
              "      <td>half-true</td>\n",
              "      <td>The economic turnaround started at the end of my term.</td>\n",
              "      <td>economy,jobs</td>\n",
              "      <td>charlie-crist</td>\n",
              "      <td>NaN</td>\n",
              "      <td>Florida</td>\n",
              "      <td>democrat</td>\n",
              "      <td>15.0</td>\n",
              "      <td>9.0</td>\n",
              "      <td>20.0</td>\n",
              "      <td>19.0</td>\n",
              "      <td>2.0</td>\n",
              "      <td>an interview on CNN</td>\n",
              "      <td>3</td>\n",
              "      <td>14</td>\n",
              "      <td>12</td>\n",
              "      <td>1</td>\n",
              "      <td>2</td>\n",
              "      <td>8</td>\n",
              "      <td>1</td>\n",
              "    </tr>\n",
              "  </tbody>\n",
              "</table>\n",
              "</div>"
            ],
            "text/plain": [
              "           id        label  ... subject_id venue_id\n",
              "0  2635.json   FALSE        ...  10         10     \n",
              "1  10540.json  half-true    ...  9          3      \n",
              "2  324.json    mostly-true  ...  6          13     \n",
              "3  1123.json   FALSE        ...  0          0      \n",
              "4  9028.json   half-true    ...  8          1      \n",
              "\n",
              "[5 rows x 21 columns]"
            ]
          },
          "metadata": {
            "tags": []
          },
          "execution_count": 65
        }
      ]
    },
    {
      "cell_type": "code",
      "metadata": {
        "id": "QZZlpUUMji94",
        "colab_type": "code",
        "outputId": "8af9adfa-78b0-4b32-ba66-b04b7caad5e9",
        "colab": {
          "base_uri": "https://localhost:8080/",
          "height": 53
        }
      },
      "source": [
        "#####################\n",
        "###   STATEMENT   ###\n",
        "#####################\n",
        "\n",
        "def load_statement_vocab_dict(train_data):\n",
        "  vocabulary_dict = {}\n",
        "  if not os.path.exists('vocabulary.p'):\n",
        "    tokenizer = Tokenizer()\n",
        "    tokenizer.fit_on_texts(train_data['statement'])\n",
        "    vocabulary_dict = tokenizer.word_index\n",
        "    print (len(vocabulary_dict))\n",
        "    cPickle.dump(vocabulary_dict, open( \"vocabulary.p\", \"wb\" ))\n",
        "    print ('Created Vocabulary Dictionary...')\n",
        "    print ('Saved Vocabulary Dictionary...')\n",
        "  else:\n",
        "    print ('Loading Vocabulary Dictionary...')\n",
        "    vocabulary_dict = cPickle.load(open(\"vocabulary.p\", \"rb\" ))\n",
        "  return vocabulary_dict\n",
        "\n",
        "\n",
        "def preprocess_statement(statement):\n",
        "  statement = [w for w in statement.split(' ') if w not in stopwords.words('english')]\n",
        "  statement = ' '.join(statement)\n",
        "  text = text_to_word_sequence(statement)\n",
        "  val = [0] * 10\n",
        "  val = [vocabulary_dict[t] for t in text if t in vocabulary_dict] \n",
        "  return val\n",
        "\n",
        "\n",
        "vocabulary_dict = load_statement_vocab_dict(train_data)\n",
        "train_data['word_id'] = train_data['statement'].apply(preprocess_statement)\n",
        "val_data['word_id'] = val_data['statement'].apply(preprocess_statement)\n",
        "test_data['word_id'] = test_data['statement'].apply(preprocess_statement)"
      ],
      "execution_count": 0,
      "outputs": [
        {
          "output_type": "stream",
          "text": [
            "Loading Vocabulary Dictionary...\n"
          ],
          "name": "stdout"
        },
        {
          "output_type": "stream",
          "text": [
            "/usr/local/lib/python2.7/dist-packages/ipykernel_launcher.py:19: UnicodeWarning: Unicode equal comparison failed to convert both arguments to Unicode - interpreting them as being unequal\n"
          ],
          "name": "stderr"
        }
      ]
    },
    {
      "cell_type": "code",
      "metadata": {
        "id": "ZL_jWrMWji96",
        "colab_type": "code",
        "colab": {}
      },
      "source": [
        "##########################################\n",
        "###   Part of speech (POS) TAGS    ###\n",
        "##########################################\n",
        "\n",
        "pos_tags = {'ADJ': 'adjective', 'ADP': 'adposition', 'ADV': 'adverb', \n",
        "            'AUX': 'auxiliary verb', 'CONJ': 'coordinating conjunction', \n",
        "            'DET': 'determiner', 'INTJ': 'interjection', 'NOUN': 'noun', \n",
        "            'NUM': 'numeral', 'PART': 'particle', 'PRON': 'pronoun', \n",
        "            'PROPN': 'proper noun', 'PUNCT': 'punctuation', 'X': 'other', \n",
        "            'SCONJ': 'subord conjunction', 'SYM': 'symbol', 'VERB': 'verb'}\n",
        "\n",
        "#pos_dict = {'ADJ' : 0, 'ADP' : 1, 'ADV' : 2, 'AUX' : 3, 'CONJ' : 4, 'DET' : 5, \n",
        "#            'INTJ' : 6, 'NOUN' : 7, 'NUM' : 8, 'PART' : 9, 'PRON' : 10, 'X' : 16,\n",
        "#            'PROPN' : 11, 'PUNCT' : 12, 'SCONJ' : 13, 'SYM' : 14, 'VERB' : 15}\n",
        "\n",
        "pos_dict = {'NOUN' : 0, 'VERB' : 1, 'ADP' : 2, 'PROPN' : 3, 'PUNCT' : 4, \n",
        "            'DET' : 5, 'ADJ' : 6, 'NUM' : 7, 'ADV' : 8, 'PRON' : 9, 'X' : 9, \n",
        "            'PART' : 9, 'SYM' : 9, 'INTJ' : 9 }\n",
        "\n",
        "dep_dict = {'ACL' : 0, 'ACOMP' : 1, 'ADVCL' : 2, 'ADVMOD' : 3, 'AGENT' : 4, \n",
        "            'AMOD' : 5, 'APPOS' : 6, 'ATTR' : 7, 'AUX' : 8, 'AUXPASS' : 9, \n",
        "            'CASE' : 10, 'CC' : 11, 'CCOMP' : 12, 'COMPOUND' : 13, 'CONJ' : 14, \n",
        "            'CSUBJ' : 15, 'CSUBJPASS' : 16, 'DATIVE' : 17, 'DEP' : 18, \n",
        "            'DET' : 19, 'DOBJ' : 20, 'EXPL' : 21, 'INTJ' : 22, 'MARK' : 23, \n",
        "            'META' : 24, 'NEG' : 25, 'NOUNMOD' : 26, 'NPMOD' : 27, 'NSUBJ' : 28, \n",
        "            'NSUBJPASS' : 29, 'NUMMOD' : 30, 'OPRD' : 31, 'PARATAXIS' : 32, \n",
        "            'PCOMP' : 33, 'POBJ' : 34, 'POSS' : 35, 'PRECONJ' : 36, 'PREDET' : 37, \n",
        "            'PREP' : 38, 'PRT' : 39, 'PUNCT' : 40, 'QUANTMOD' : 41, \n",
        "            'RELCL' : 42, 'ROOT' : 43, 'XCOMP' : 44}\n",
        "\n",
        "def get_pos(statement):\n",
        "  doc = nlp(statement.decode('utf-8', 'ignore'))\n",
        "  taglist = []\n",
        "  deplist = []\n",
        "  for token in doc:\n",
        "    taglist.append(pos_dict.get(token.pos_,max(pos_dict.values())))\n",
        "    #deplist.append(token.dep_)\n",
        "  return taglist\n",
        "train_data['pos_id'] = train_data['statement'].apply(get_pos)\n",
        "val_data['pos_id'] = val_data['statement'].apply(get_pos)\n",
        "test_data['pos_id'] = test_data['statement'].apply(get_pos)"
      ],
      "execution_count": 0,
      "outputs": []
    },
    {
      "cell_type": "code",
      "metadata": {
        "id": "NTgVU9YTji98",
        "colab_type": "code",
        "colab": {}
      },
      "source": [
        "##########################################\n",
        "###   Dependency Parse tag   ###\n",
        "##########################################\n",
        "\n",
        "dep_dict = {'ACL' : 0, 'ACOMP' : 1, 'ADVCL' : 2, 'ADVMOD' : 3, 'AGENT' : 4, \n",
        "            'AMOD' : 5, 'APPOS' : 6, 'ATTR' : 7, 'AUX' : 8, 'AUXPASS' : 9, \n",
        "            'CASE' : 10, 'CC' : 11, 'CCOMP' : 12, 'COMPOUND' : 13, 'CONJ' : 14, \n",
        "            'CSUBJ' : 15, 'CSUBJPASS' : 16, 'DATIVE' : 17, 'DEP' : 18, \n",
        "            'DET' : 19, 'DOBJ' : 20, 'EXPL' : 21, 'INTJ' : 22, 'MARK' : 23, \n",
        "            'META' : 24, 'NEG' : 25, 'NOUNMOD' : 26, 'NPMOD' : 27, 'NSUBJ' : 28, \n",
        "            'NSUBJPASS' : 29, 'NUMMOD' : 30, 'OPRD' : 31, 'PARATAXIS' : 32, \n",
        "            'PCOMP' : 33, 'POBJ' : 34, 'POSS' : 35, 'PRECONJ' : 36, 'PREDET' : 37, \n",
        "            'PREP' : 38, 'PRT' : 39, 'PUNCT' : 40, 'QUANTMOD' : 41, \n",
        "            'RELCL' : 42, 'ROOT' : 43, 'XCOMP' : 44}\n",
        "\n",
        "\n",
        "dep_dict = {'punct' : 0, 'prep' : 1, 'pobj' : 2, 'compound' : 3, 'det' : 4, \n",
        "            'nsubj' : 5, 'ROOT' : 6, 'amod' : 7, 'dobj' : 8, 'aux' : 9, \n",
        "            'advmod' : 10, 'nummod' : 10, 'ccomp' : 10, 'conj' : 10, 'cc' : 10, \n",
        "            'advcl' : 10, 'poss' : 10, 'mark' : 10, 'quantmod' : 10, 'relcl' : 10, \n",
        "            'attr' : 10, 'xcomp' : 10, 'npadvmod' : 10, 'nmod' : 10, 'auxpass' : 10, \n",
        "            'acl' : 10, 'nsubjpass' : 10, 'pcomp' : 10, 'acomp' : 10, 'neg' : 10, \n",
        "            'appos' : 10, 'prt' : 10, '' : 10, 'expl' : 10, 'dative' : 10, \n",
        "            'agent' : 10, 'case' : 10, 'oprd' : 10, 'csubj' : 10, 'dep' : 10, \n",
        "            'intj' : 10, 'predet' : 10, 'parataxis' : 10, 'preconj' : 10, \n",
        "            'meta' : 10, 'csubjpass' : 10}\n",
        "\n",
        "\n",
        "def get_dep_parse(statement):\n",
        "  doc = nlp(statement.decode('utf-8', 'ignore'))\n",
        "  deplist = []\n",
        "  for token in doc:\n",
        "    deplist.append(dep_dict.get(token.dep_, max(dep_dict.values())))\n",
        "  return deplist\n",
        "\n",
        "\n",
        "train_data['dep_id'] = train_data['statement'].apply(get_dep_parse)\n",
        "val_data['dep_id'] = val_data['statement'].apply(get_dep_parse)\n",
        "test_data['dep_id'] = test_data['statement'].apply(get_dep_parse)"
      ],
      "execution_count": 0,
      "outputs": []
    },
    {
      "cell_type": "code",
      "metadata": {
        "id": "h_CfYHPDji9_",
        "colab_type": "code",
        "outputId": "77aee510-7ae3-4164-ada1-f6d0687cf618",
        "colab": {
          "base_uri": "https://localhost:8080/",
          "height": 1000
        }
      },
      "source": [
        "train_data.head()"
      ],
      "execution_count": 0,
      "outputs": [
        {
          "output_type": "execute_result",
          "data": {
            "text/html": [
              "<div>\n",
              "<style scoped>\n",
              "    .dataframe tbody tr th:only-of-type {\n",
              "        vertical-align: middle;\n",
              "    }\n",
              "\n",
              "    .dataframe tbody tr th {\n",
              "        vertical-align: top;\n",
              "    }\n",
              "\n",
              "    .dataframe thead th {\n",
              "        text-align: right;\n",
              "    }\n",
              "</style>\n",
              "<table border=\"1\" class=\"dataframe\">\n",
              "  <thead>\n",
              "    <tr style=\"text-align: right;\">\n",
              "      <th></th>\n",
              "      <th>id</th>\n",
              "      <th>label</th>\n",
              "      <th>statement</th>\n",
              "      <th>subject</th>\n",
              "      <th>speaker</th>\n",
              "      <th>job</th>\n",
              "      <th>state</th>\n",
              "      <th>party</th>\n",
              "      <th>barely-true</th>\n",
              "      <th>FALSE</th>\n",
              "      <th>half-true</th>\n",
              "      <th>mostly-true</th>\n",
              "      <th>pants-fire</th>\n",
              "      <th>venue</th>\n",
              "      <th>output</th>\n",
              "      <th>speaker_id</th>\n",
              "      <th>job_id</th>\n",
              "      <th>party_id</th>\n",
              "      <th>state_id</th>\n",
              "      <th>subject_id</th>\n",
              "      <th>venue_id</th>\n",
              "      <th>word_id</th>\n",
              "      <th>pos_id</th>\n",
              "      <th>dep_id</th>\n",
              "    </tr>\n",
              "  </thead>\n",
              "  <tbody>\n",
              "    <tr>\n",
              "      <th>0</th>\n",
              "      <td>2635.json</td>\n",
              "      <td>FALSE</td>\n",
              "      <td>Says the Annies List political group supports third-trimester abortions on demand.</td>\n",
              "      <td>abortion</td>\n",
              "      <td>dwayne-bohac</td>\n",
              "      <td>State representative</td>\n",
              "      <td>Texas</td>\n",
              "      <td>republican</td>\n",
              "      <td>0.0</td>\n",
              "      <td>1.0</td>\n",
              "      <td>0.0</td>\n",
              "      <td>0.0</td>\n",
              "      <td>0.0</td>\n",
              "      <td>a mailer</td>\n",
              "      <td>1</td>\n",
              "      <td>17</td>\n",
              "      <td>10</td>\n",
              "      <td>0</td>\n",
              "      <td>1</td>\n",
              "      <td>10</td>\n",
              "      <td>10</td>\n",
              "      <td>[7, 6968, 1141, 520, 621, 385, 444, 5119, 585, 1601]</td>\n",
              "      <td>[1, 5, 3, 3, 6, 0, 1, 6, 4, 0, 0, 2, 0, 4]</td>\n",
              "      <td>[6, 4, 3, 10, 7, 5, 10, 7, 0, 3, 8, 1, 2, 0]</td>\n",
              "    </tr>\n",
              "    <tr>\n",
              "      <th>1</th>\n",
              "      <td>10540.json</td>\n",
              "      <td>half-true</td>\n",
              "      <td>When did the decline of coal start? It started when natural gas took off that started to begin in (President George W.) Bushs administration.</td>\n",
              "      <td>energy,history,job-accomplishments</td>\n",
              "      <td>scott-surovell</td>\n",
              "      <td>State delegate</td>\n",
              "      <td>Virginia</td>\n",
              "      <td>democrat</td>\n",
              "      <td>0.0</td>\n",
              "      <td>0.0</td>\n",
              "      <td>1.0</td>\n",
              "      <td>1.0</td>\n",
              "      <td>0.0</td>\n",
              "      <td>a floor speech.</td>\n",
              "      <td>3</td>\n",
              "      <td>17</td>\n",
              "      <td>12</td>\n",
              "      <td>1</td>\n",
              "      <td>8</td>\n",
              "      <td>9</td>\n",
              "      <td>3</td>\n",
              "      <td>[63, 2091, 964, 866, 23, 602, 1142, 315, 180, 602, 1959, 34, 310, 560, 1365, 177]</td>\n",
              "      <td>[8, 1, 5, 0, 2, 0, 0, 4, 9, 1, 8, 6, 0, 1, 9, 5, 1, 9, 1, 2, 4, 3, 3, 3, 4, 3, 0, 4]</td>\n",
              "      <td>[10, 6, 4, 5, 1, 3, 2, 0, 5, 6, 10, 7, 5, 10, 10, 5, 10, 9, 10, 1, 0, 3, 3, 10, 0, 3, 6, 0]</td>\n",
              "    </tr>\n",
              "    <tr>\n",
              "      <th>2</th>\n",
              "      <td>324.json</td>\n",
              "      <td>mostly-true</td>\n",
              "      <td>Hillary Clinton agrees with John McCain \"by voting to give George Bush the benefit of the doubt on Iran.\"</td>\n",
              "      <td>foreign-policy</td>\n",
              "      <td>barack-obama</td>\n",
              "      <td>President</td>\n",
              "      <td>Illinois</td>\n",
              "      <td>democrat</td>\n",
              "      <td>70.0</td>\n",
              "      <td>71.0</td>\n",
              "      <td>160.0</td>\n",
              "      <td>163.0</td>\n",
              "      <td>9.0</td>\n",
              "      <td>Denver</td>\n",
              "      <td>4</td>\n",
              "      <td>0</td>\n",
              "      <td>1</td>\n",
              "      <td>1</td>\n",
              "      <td>5</td>\n",
              "      <td>6</td>\n",
              "      <td>13</td>\n",
              "      <td>[127, 101, 3546, 191, 254, 20, 329, 343, 310, 166, 1093, 3547, 416]</td>\n",
              "      <td>[3, 3, 1, 2, 3, 3, 4, 2, 1, 9, 1, 3, 3, 5, 0, 2, 5, 0, 2, 3, 4, 4]</td>\n",
              "      <td>[3, 5, 6, 1, 3, 2, 0, 1, 10, 9, 10, 3, 10, 4, 8, 1, 4, 2, 1, 2, 0, 6]</td>\n",
              "    </tr>\n",
              "    <tr>\n",
              "      <th>3</th>\n",
              "      <td>1123.json</td>\n",
              "      <td>FALSE</td>\n",
              "      <td>Health care reform legislation is likely to mandate free sex change surgeries.</td>\n",
              "      <td>health-care</td>\n",
              "      <td>blog-posting</td>\n",
              "      <td>NaN</td>\n",
              "      <td>NaN</td>\n",
              "      <td>none</td>\n",
              "      <td>7.0</td>\n",
              "      <td>19.0</td>\n",
              "      <td>3.0</td>\n",
              "      <td>5.0</td>\n",
              "      <td>44.0</td>\n",
              "      <td>a news release</td>\n",
              "      <td>1</td>\n",
              "      <td>13</td>\n",
              "      <td>12</td>\n",
              "      <td>2</td>\n",
              "      <td>16</td>\n",
              "      <td>0</td>\n",
              "      <td>0</td>\n",
              "      <td>[32, 43, 266, 298, 666, 667, 404, 467, 417, 4148]</td>\n",
              "      <td>[0, 0, 0, 0, 1, 6, 9, 1, 6, 0, 0, 0, 4]</td>\n",
              "      <td>[3, 3, 3, 5, 6, 10, 9, 10, 7, 3, 3, 8, 0]</td>\n",
              "    </tr>\n",
              "    <tr>\n",
              "      <th>4</th>\n",
              "      <td>9028.json</td>\n",
              "      <td>half-true</td>\n",
              "      <td>The economic turnaround started at the end of my term.</td>\n",
              "      <td>economy,jobs</td>\n",
              "      <td>charlie-crist</td>\n",
              "      <td>NaN</td>\n",
              "      <td>Florida</td>\n",
              "      <td>democrat</td>\n",
              "      <td>15.0</td>\n",
              "      <td>9.0</td>\n",
              "      <td>20.0</td>\n",
              "      <td>19.0</td>\n",
              "      <td>2.0</td>\n",
              "      <td>an interview on CNN</td>\n",
              "      <td>3</td>\n",
              "      <td>14</td>\n",
              "      <td>12</td>\n",
              "      <td>1</td>\n",
              "      <td>2</td>\n",
              "      <td>8</td>\n",
              "      <td>1</td>\n",
              "      <td>[1, 325, 4149, 602, 408, 505]</td>\n",
              "      <td>[5, 6, 0, 1, 2, 5, 0, 2, 5, 0, 4]</td>\n",
              "      <td>[4, 7, 5, 6, 1, 4, 2, 1, 10, 2, 0]</td>\n",
              "    </tr>\n",
              "  </tbody>\n",
              "</table>\n",
              "</div>"
            ],
            "text/plain": [
              "           id  ...                                                                                       dep_id\n",
              "0  2635.json   ...  [6, 4, 3, 10, 7, 5, 10, 7, 0, 3, 8, 1, 2, 0]                                               \n",
              "1  10540.json  ...  [10, 6, 4, 5, 1, 3, 2, 0, 5, 6, 10, 7, 5, 10, 10, 5, 10, 9, 10, 1, 0, 3, 3, 10, 0, 3, 6, 0]\n",
              "2  324.json    ...  [3, 5, 6, 1, 3, 2, 0, 1, 10, 9, 10, 3, 10, 4, 8, 1, 4, 2, 1, 2, 0, 6]                      \n",
              "3  1123.json   ...  [3, 3, 3, 5, 6, 10, 9, 10, 7, 3, 3, 8, 0]                                                  \n",
              "4  9028.json   ...  [4, 7, 5, 6, 1, 4, 2, 1, 10, 2, 0]                                                         \n",
              "\n",
              "[5 rows x 24 columns]"
            ]
          },
          "metadata": {
            "tags": []
          },
          "execution_count": 69
        }
      ]
    },
    {
      "cell_type": "code",
      "metadata": {
        "id": "B2IUQzypji-E",
        "colab_type": "code",
        "outputId": "73f0f546-7d59-4afb-89ae-78514a69a989",
        "colab": {
          "base_uri": "https://localhost:8080/",
          "height": 53
        }
      },
      "source": [
        "#####################\n",
        "###  EMBEDDINGS   ###\n",
        "#####################\n",
        "\n",
        "embeddings = {}\n",
        "with open(\"/drive/My Drive/Colab Notebooks/Liar_new/glove.6B.100d.txt\") as file_object:\n",
        "  for line in file_object:\n",
        "    word_embed = line.split()\n",
        "    word = word_embed[0]\n",
        "    embed = np.array(word_embed[1:], dtype=\"float32\")\n",
        "    embeddings[word.lower()]= embed\n",
        "\n",
        "EMBED_DIM = 100\n",
        "print len(embeddings), \" : Word Embeddings Found\"\n",
        "print len(embeddings[word]), \" : Embedding Dimension\"\n",
        "\n",
        "\n",
        "num_words = len(vocabulary_dict) + 1\n",
        "embedding_matrix = np.zeros((num_words, EMBED_DIM))\n",
        "for word, i in vocabulary_dict.items():\n",
        "    embedding_vector = embeddings.get(word)\n",
        "    if embedding_vector is not None:\n",
        "        embedding_matrix[i] = embedding_vector\n",
        "\n",
        "embeddings_index = None\n",
        "\n",
        "\n",
        "\n",
        "pos_embeddings = np.identity(max(pos_dict.values()), dtype=int)\n",
        "dep_embeddings = np.identity(max(dep_dict.values()), dtype=int)"
      ],
      "execution_count": 0,
      "outputs": [
        {
          "output_type": "stream",
          "text": [
            "400000  : Word Embeddings Found\n",
            "100  : Embedding Dimension\n"
          ],
          "name": "stdout"
        }
      ]
    },
    {
      "cell_type": "code",
      "metadata": {
        "id": "7eczTK3faJNd",
        "colab_type": "code",
        "outputId": "422502dd-413f-4924-aac4-2f711ec98a39",
        "colab": {
          "base_uri": "https://localhost:8080/",
          "height": 235
        }
      },
      "source": [
        "#####################\n",
        "###  HYPERPARAMS  ###\n",
        "#####################\n",
        "vocab_length = len(vocabulary_dict.keys())\n",
        "hidden_size = EMBED_DIM #Has to be same as EMBED_DIM\n",
        "lstm_size = 100\n",
        "num_steps = 15\n",
        "num_epochs = 10\n",
        "batch_size = 300\n",
        "\n",
        "#Hyperparams for CNN\n",
        "kernel_sizes = [3,3,3]\n",
        "filter_size = 128\n",
        "\n",
        "#Meta data related hyper params\n",
        "num_party = len(train_data.party_id.unique())\n",
        "num_state = len(train_data.state_id.unique())\n",
        "num_venue = len(train_data.venue_id.unique())\n",
        "num_job = len(train_data.job_id.unique())\n",
        "num_sub = len(train_data.subject_id.unique())\n",
        "num_speaker = len(train_data.speaker_id.unique())\n",
        "print (num_party)\n",
        "print (num_state)\n",
        "print (num_venue)\n",
        "print (num_job)\n",
        "print (num_sub)\n",
        "print (num_speaker)\n",
        "print (train_data.columns)"
      ],
      "execution_count": 0,
      "outputs": [
        {
          "output_type": "stream",
          "text": [
            "6\n",
            "17\n",
            "14\n",
            "13\n",
            "15\n",
            "18\n",
            "Index([u'id', u'label', u'statement', u'subject', u'speaker', u'job', u'state',\n",
            "       u'party', u'barely-true', u'FALSE', u'half-true', u'mostly-true',\n",
            "       u'pants-fire', u'venue', u'output', u'speaker_id', u'job_id',\n",
            "       u'party_id', u'state_id', u'subject_id', u'venue_id', u'word_id',\n",
            "       u'pos_id', u'dep_id'],\n",
            "      dtype='object')\n"
          ],
          "name": "stdout"
        }
      ]
    },
    {
      "cell_type": "code",
      "metadata": {
        "id": "X2mKdvIXji-O",
        "colab_type": "code",
        "colab": {}
      },
      "source": [
        "#####################\n",
        "###   DATA PREP   ###\n",
        "#####################\n",
        "\n",
        "X_train = train_data['word_id']\n",
        "X_val = val_data['word_id']\n",
        "X_test = test_data['word_id']\n",
        "\n",
        "Y_val = val_data['output']\n",
        "Y_val = keras.utils.to_categorical(Y_val, num_classes=6)\n",
        "\n",
        "X_train = sequence.pad_sequences(X_train, maxlen=num_steps, padding='post',truncating='post')\n",
        "X_val = sequence.pad_sequences(X_val, maxlen=num_steps, padding='post',truncating='post')\n",
        "X_test = sequence.pad_sequences(X_test, maxlen=num_steps, padding='post',truncating='post')\n",
        "\n",
        "X_train_pos = train_data['pos_id']\n",
        "X_val_pos = val_data['pos_id']\n",
        "X_test_pos = test_data['pos_id']\n",
        "\n",
        "X_train_pos = sequence.pad_sequences(X_train_pos, maxlen=num_steps, padding='post',truncating='post')\n",
        "X_val_pos = sequence.pad_sequences(X_val_pos, maxlen=num_steps, padding='post',truncating='post')\n",
        "X_test_pos = sequence.pad_sequences(X_test_pos, maxlen=num_steps, padding='post',truncating='post')\n",
        "\n",
        "\n",
        "X_train_dep = train_data['dep_id']\n",
        "X_val_dep = val_data['dep_id']\n",
        "X_test_dep = test_data['dep_id']\n",
        "\n",
        "X_train_dep = sequence.pad_sequences(X_train_dep, maxlen=num_steps, padding='post',truncating='post')\n",
        "X_val_dep = sequence.pad_sequences(X_val_dep, maxlen=num_steps, padding='post',truncating='post')\n",
        "X_test_dep = sequence.pad_sequences(X_test_dep, maxlen=num_steps, padding='post',truncating='post')\n",
        "\n",
        "\n",
        "#Meta data preparation\n",
        "party_train = keras.utils.to_categorical(train_data['party_id'], num_classes=num_party)\n",
        "state_train = keras.utils.to_categorical(train_data['state_id'], num_classes=num_state)\n",
        "venue_train = keras.utils.to_categorical(train_data['venue_id'], num_classes=num_venue)\n",
        "job_train = keras.utils.to_categorical(train_data['job_id'], num_classes=num_job)\n",
        "subject_train = keras.utils.to_categorical(train_data['subject_id'], num_classes=num_sub)\n",
        "speaker_train = keras.utils.to_categorical(train_data['speaker_id'], num_classes=num_speaker)\n",
        "\n",
        "#X_train_meta = party_train\n",
        "X_train_meta = np.hstack((party_train, state_train, venue_train, job_train, subject_train, speaker_train))\n",
        "\n",
        "party_val = keras.utils.to_categorical(val_data['party_id'], num_classes=num_party)\n",
        "state_val = keras.utils.to_categorical(val_data['state_id'], num_classes=num_state)\n",
        "venue_val = keras.utils.to_categorical(val_data['venue_id'], num_classes=num_venue)\n",
        "job_val = keras.utils.to_categorical(val_data['job_id'], num_classes=num_job)\n",
        "subject_val = keras.utils.to_categorical(val_data['subject_id'], num_classes=num_sub)\n",
        "speaker_val = keras.utils.to_categorical(val_data['speaker_id'], num_classes=num_speaker)\n",
        "\n",
        "#X_val_meta = party_val\n",
        "X_val_meta = np.hstack((party_val, state_val, venue_val, job_val, subject_val, speaker_val))\n",
        "\n",
        "party_test = keras.utils.to_categorical(test_data['party_id'], num_classes=num_party)\n",
        "state_test = keras.utils.to_categorical(test_data['state_id'], num_classes=num_state)\n",
        "venue_test = keras.utils.to_categorical(test_data['venue_id'], num_classes=num_venue)\n",
        "job_test = keras.utils.to_categorical(test_data['job_id'], num_classes=num_job)\n",
        "subject_test = keras.utils.to_categorical(test_data['subject_id'], num_classes=num_sub)\n",
        "speaker_test = keras.utils.to_categorical(test_data['speaker_id'], num_classes=num_speaker)\n",
        "\n",
        "#X_test_meta = party_test\n",
        "X_test_meta = np.hstack((party_test, state_test, venue_test, job_test, subject_test, speaker_test))"
      ],
      "execution_count": 0,
      "outputs": []
    },
    {
      "cell_type": "code",
      "metadata": {
        "id": "gnK22pReji-R",
        "colab_type": "code",
        "outputId": "d81839f9-487e-4e09-d7cd-3f401c621924",
        "colab": {
          "base_uri": "https://localhost:8080/",
          "height": 434
        }
      },
      "source": [
        "print X_train_meta.shape, X_val_meta.shape, X_test_meta.shape\n",
        "print X_train.shape, X_val.shape, X_test.shape\n",
        "print X_train_pos.shape, X_val_pos.shape, X_test_pos.shape\n",
        "print X_train_dep.shape, X_val_dep.shape, X_test_dep.shape\n",
        "\n",
        "print X_train_dep, X_val_dep, X_test_dep"
      ],
      "execution_count": 0,
      "outputs": [
        {
          "output_type": "stream",
          "text": [
            "(10240, 83) (1284, 83) (1267, 83)\n",
            "(10240, 15) (1284, 15) (1267, 15)\n",
            "(10240, 15) (1284, 15) (1267, 15)\n",
            "(10240, 15) (1284, 15) (1267, 15)\n",
            "[[ 6  4  3 ...  2  0  0]\n",
            " [10  6  4 ...  5 10 10]\n",
            " [ 3  5  6 ... 10  4  8]\n",
            " ...\n",
            " [ 6  4  5 ... 10  0  9]\n",
            " [ 6 10  4 ...  0  0  0]\n",
            " [ 4  5  1 ...  8  8 10]] [[ 5  6  7 ...  0  0  0]\n",
            " [10 10 10 ...  3  8  0]\n",
            " [ 6 10  5 ... 10  1  4]\n",
            " ...\n",
            " [ 3  5 10 ...  3  2  0]\n",
            " [ 4  7  5 ... 10  3  8]\n",
            " [ 4  5  6 ...  4  3  2]] [[10  4  8 ...  0  0  0]\n",
            " [ 5  6  1 ...  0  0  0]\n",
            " [ 6  3  5 ...  0  0  0]\n",
            " ...\n",
            " [ 1  4  7 ...  7  5 10]\n",
            " [ 6  4  3 ... 10  5 10]\n",
            " [ 6  4  5 ...  0  5  9]]\n"
          ],
          "name": "stdout"
        }
      ]
    },
    {
      "cell_type": "code",
      "metadata": {
        "id": "oTAtqVi6ji-T",
        "colab_type": "code",
        "colab": {}
      },
      "source": [
        "def train(model, name, use_pos=False, use_meta=False, use_dep=False):\n",
        "  #sgd = optimizers.SGD(lr=0.025, clipvalue=0.3, nesterov=True)\n",
        "  rmsprop = optimizers.RMSprop(lr=0.001, rho=0.9, epsilon=None, decay=0.0) \n",
        "  #adagrad = optimizers.Adagrad(lr=0.01, epsilon=None, decay=0.0)\n",
        "  #adam = optimizers.Adam(lr=0.000075, beta_1=0.9, beta_2=0.999, epsilon=None, decay=0.0, amsgrad=False)\n",
        "  model.compile(optimizer=rmsprop,loss='categorical_crossentropy',metrics=['categorical_accuracy'])\n",
        "  #model.compile(optimizer=rmsprop,loss='categorical_crossentropy',metrics=['categorical_accuracy'])\n",
        "  #model.compile(optimizer=sgd,loss='categorical_crossentropy',metrics=['categorical_accuracy'])\n",
        "  tb = TensorBoard()\n",
        "  csv_logger = keras.callbacks.CSVLogger('training.log')\n",
        "  filepath= name+\"_weights_best.hdf5\"\n",
        "  checkpoint = keras.callbacks.ModelCheckpoint(filepath, monitor='val_categorical_accuracy', \n",
        "                                             verbose=1, save_best_only=True, mode='max')\n",
        "  \n",
        "  if use_pos and use_meta:\n",
        "    if use_dep:\n",
        "      model.fit(\n",
        "        {'main_input': X_train, 'pos_input': X_train_pos, \n",
        "         'aux_input': X_train_meta, 'dep_input': X_train_dep},\n",
        "        {'main_output': Y_train}, epochs = num_epochs, batch_size = batch_size,\n",
        "        validation_data = (\n",
        "            {'main_input': X_val, 'pos_input': X_val_pos, \n",
        "             'aux_input': X_val_meta, 'dep_input' : X_val_dep},\n",
        "            {'main_output': Y_val}\n",
        "        ), callbacks=[tb,csv_logger,checkpoint])\n",
        "    else:\n",
        "      model.fit(\n",
        "        {'main_input': X_train, 'pos_input': X_train_pos, 'aux_input': X_train_meta},\n",
        "        {'main_output': Y_train}, epochs = num_epochs, batch_size = batch_size,\n",
        "        validation_data = (\n",
        "            {'main_input': X_val, 'pos_input': X_val_pos, 'aux_input': X_val_meta},\n",
        "            {'main_output': Y_val}\n",
        "        ), callbacks=[tb,csv_logger,checkpoint])\n",
        "  elif use_meta:\n",
        "    if use_dep:\n",
        "      model.fit(\n",
        "        {'main_input': X_train, 'aux_input': X_train_meta,'dep_input':X_train_dep},\n",
        "        {'main_output': Y_train}, epochs = num_epochs, batch_size = batch_size,\n",
        "        validation_data = (\n",
        "            {'main_input': X_val, 'aux_input': X_val_meta, 'dep_input': X_val_dep},\n",
        "            {'main_output': Y_val}\n",
        "        ), callbacks=[tb,csv_logger,checkpoint])\n",
        "    else:\n",
        "      model.fit(\n",
        "        {'main_input': X_train, 'aux_input': X_train_meta},\n",
        "        {'main_output': Y_train}, epochs = num_epochs, batch_size = batch_size,\n",
        "        validation_data = (\n",
        "            {'main_input': X_val, 'aux_input': X_val_meta},\n",
        "            {'main_output': Y_val}\n",
        "        ), callbacks=[tb,csv_logger,checkpoint])\n",
        "  elif use_pos:\n",
        "    if use_dep:\n",
        "      model.fit(\n",
        "        {'main_input': X_train, 'pos_input': X_train_pos,'dep_input':X_train_dep},\n",
        "        {'main_output': Y_train}, epochs = num_epochs, batch_size = batch_size,\n",
        "        validation_data = (\n",
        "            {'main_input': X_val, 'pos_input': X_val_pos, 'dep_input':X_val_dep},\n",
        "            {'main_output': Y_val}\n",
        "        ), callbacks=[tb,csv_logger,checkpoint])\n",
        "    else:\n",
        "      model.fit(\n",
        "        {'main_input': X_train, 'pos_input': X_train_pos},\n",
        "        {'main_output': Y_train}, epochs = num_epochs, batch_size = batch_size,\n",
        "        validation_data = (\n",
        "            {'main_input': X_val, 'pos_input': X_val_pos},\n",
        "            {'main_output': Y_val}\n",
        "        ), callbacks=[tb,csv_logger,checkpoint])\n",
        "  else:\n",
        "    if use_dep:\n",
        "      model.fit(\n",
        "        {'main_input': X_train,'dep_input':X_train_dep},\n",
        "        {'main_output': Y_train}, epochs = num_epochs, batch_size = batch_size,\n",
        "        validation_data = (\n",
        "            {'main_input': X_val, 'dep_input':X_val_dep},\n",
        "            {'main_output': Y_val}\n",
        "        ), callbacks=[tb,csv_logger,checkpoint])\n",
        "    else:\n",
        "      model.fit(\n",
        "        {'main_input': X_train},\n",
        "        {'main_output': Y_train}, epochs = num_epochs, batch_size = batch_size,\n",
        "        validation_data = (\n",
        "            {'main_input': X_val},\n",
        "            {'main_output': Y_val}\n",
        "        ), callbacks=[tb,csv_logger,checkpoint])\n",
        "    \n",
        "  \n",
        "  \n",
        "def evaluate(name, use_pos=False, use_meta=False, use_dep=False):\n",
        "  model1 = load_model(name+'_weights_best.hdf5')\n",
        "  if use_pos and use_meta:\n",
        "    if use_dep:\n",
        "      preds = model1.predict([X_test,X_test_pos, X_test_dep, X_test_meta], batch_size=batch_size, verbose=1)\n",
        "    else:\n",
        "      preds = model1.predict([X_test,X_test_pos, X_test_meta], batch_size=batch_size, verbose=1)\n",
        "  elif use_meta:\n",
        "    if use_dep:\n",
        "      preds = model1.predict([X_test, X_test_dep, X_test_meta], batch_size=batch_size, verbose=1)\n",
        "    else:\n",
        "      preds = model1.predict([X_test, X_test_meta], batch_size=batch_size, verbose=1)\n",
        "  elif use_pos:\n",
        "    if use_dep:\n",
        "      preds = model1.predict([X_test, X_test_pos, X_test_dep], batch_size=batch_size, verbose=1)\n",
        "    else:\n",
        "      preds = model1.predict([X_test, X_test_pos], batch_size=batch_size, verbose=1)\n",
        "  else:\n",
        "    if use_dep:\n",
        "      preds = model1.predict([X_test, X_test_dep], batch_size=batch_size, verbose=1)\n",
        "    else:\n",
        "      preds = model1.predict([X_test], batch_size=batch_size, verbose=1)\n",
        "    \n",
        "  false_worst = {}\n",
        "  true_best = {}\n",
        "  label_list = ['pants-fire','false','barely-true','half-true','mostly-true','true']\n",
        "\n",
        "  Y_test_gt = list(test_data['output'])\n",
        "  predictions = np.array([np.argmax(pred) for pred in preds])\n",
        "  \n",
        "  for p in range(len(preds)):\n",
        "    if np.argmax(preds[p])==0:\n",
        "      false_worst[p]=preds[p][0]\n",
        "    elif np.argmax(preds[p])==5:\n",
        "      true_best[p]=preds[p][5]\n",
        "      \n",
        "  print len(predictions)==len(Y_test_gt)\n",
        "  correct = np.sum(predictions == Y_test_gt)\n",
        "  print \"Correctly Predicted : \", correct,\"/\",len(Y_test_gt)\n",
        "  print \"Accuracy : \", correct*100.0/len(Y_test_gt)\n",
        "  cPickle.dump(predictions, open(name+'_predictions.p','wb'))\n",
        "  return (false_worst, true_best)"
      ],
      "execution_count": 0,
      "outputs": []
    },
    {
      "cell_type": "code",
      "metadata": {
        "id": "hOLlLHRsaAtb",
        "colab_type": "code",
        "colab": {}
      },
      "source": [
        "def print_best_false_true_predicted(fw, tb):\n",
        "  sorted_false = sorted(fw.items(), key=operator.itemgetter(1), reverse=True)\n",
        "  sorted_true = sorted(tb.items(), key=operator.itemgetter(1), reverse=True)\n",
        "  print '*****************************************************************'\n",
        "  print '******************** False statements *************************'\n",
        "  \n",
        "  for t in sorted_false[:5]:\n",
        "    print t[1]\n",
        "    print test_data.loc[t[0]]\n",
        "    print '============='\n",
        "  print '*****************************************************************'\n",
        "  print '******************** True Statements *************************'  \n",
        "  for t in sorted_true[:5]:\n",
        "    print t[1]\n",
        "    print test_data.loc[t[0]]\n",
        "    print '============='"
      ],
      "execution_count": 0,
      "outputs": []
    },
    {
      "cell_type": "code",
      "metadata": {
        "id": "FdxoM4CqxNzr",
        "colab_type": "code",
        "outputId": "96c538e3-3cbc-4a59-9a8a-25c3447d2969",
        "colab": {
          "base_uri": "https://localhost:8080/",
          "height": 235
        }
      },
      "source": [
        "#####################\n",
        "###  HYPERPARAMS  ###\n",
        "#####################\n",
        "vocab_length = len(vocabulary_dict.keys())\n",
        "hidden_size = EMBED_DIM #Has to be same as EMBED_DIM\n",
        "lstm_size = 100\n",
        "num_steps = 15\n",
        "num_epochs = 10\n",
        "batch_size = 300\n",
        "\n",
        "#Hyperparams for CNN\n",
        "kernel_sizes = [3,3,3]\n",
        "filter_size = 128\n",
        "\n",
        "#Meta data related hyper params\n",
        "num_party = len(train_data.party_id.unique())\n",
        "num_state = len(train_data.state_id.unique())\n",
        "num_venue = len(train_data.venue_id.unique())\n",
        "num_job = len(train_data.job_id.unique())\n",
        "num_sub = len(train_data.subject_id.unique())\n",
        "num_speaker = len(train_data.speaker_id.unique())\n",
        "print num_party\n",
        "print num_state\n",
        "print num_venue\n",
        "print num_job\n",
        "print num_sub\n",
        "print num_speaker\n",
        "print train_data.columns"
      ],
      "execution_count": 0,
      "outputs": [
        {
          "output_type": "stream",
          "text": [
            "6\n",
            "17\n",
            "14\n",
            "13\n",
            "15\n",
            "18\n",
            "Index([u'id', u'label', u'statement', u'subject', u'speaker', u'job', u'state',\n",
            "       u'party', u'barely-true', u'FALSE', u'half-true', u'mostly-true',\n",
            "       u'pants-fire', u'venue', u'output', u'speaker_id', u'job_id',\n",
            "       u'party_id', u'state_id', u'subject_id', u'venue_id', u'word_id',\n",
            "       u'pos_id', u'dep_id'],\n",
            "      dtype='object')\n"
          ],
          "name": "stdout"
        }
      ]
    },
    {
      "cell_type": "code",
      "metadata": {
        "id": "QPQhOqFLji-Y",
        "colab_type": "code",
        "colab": {}
      },
      "source": [
        "from numpy import array\n",
        "from keras.preprocessing.text import one_hot\n",
        "from keras.preprocessing.sequence import pad_sequences\n",
        "from keras.models import Sequential\n",
        "from keras.layers import Dense\n",
        "from keras.layers import Flatten\n",
        "from keras.layers.embeddings import Embedding\n",
        "\n",
        "\n",
        "use_pos=False\n",
        "use_meta=True\n",
        "use_dep=True\n",
        "\n",
        "# LSTM model\n",
        "model_lstm = Sequential()\n",
        "model_lstm.add(Embedding(vocab_length+1, hidden_size, input_length=num_steps))\n",
        "model_lstm.add(Bidirectional(LSTM(hidden_size)))\n",
        "model_lstm.add(Dense(6, activation='softmax'))\n",
        "\n",
        "\n",
        "# statement embed LSTM\n",
        "statement_input = Input(shape=(num_steps,), dtype='int32', name='main_input')\n",
        "x = Embedding(vocab_length+1,EMBED_DIM,weights=[embedding_matrix],input_length=num_steps,trainable=False)(statement_input) \n",
        "lstm_in = LSTM(lstm_size,dropout=0.2)(x)\n",
        "\n",
        "\n",
        "\n",
        "# pos embed LSTM\n",
        "pos_input = Input(shape=(num_steps,), dtype='int32', name='pos_input')\n",
        "x2 = Embedding(max(pos_dict.values()), max(pos_dict.values()), weights=[pos_embeddings], input_length=num_steps, trainable=False)(pos_input)\n",
        "lstm_in2 = LSTM(lstm_size, dropout=0.2)(x2)\n",
        "\n",
        "\n",
        "# dep embed LSTM\n",
        "dep_input = Input(shape=(num_steps,), dtype='int32', name='dep_input')\n",
        "x3 = Embedding(max(dep_dict.values()), max(dep_dict.values()), weights=[dep_embeddings], input_length=num_steps, trainable=False)(dep_input)\n",
        "lstm_in3 = LSTM(lstm_size, dropout=0.2)(x3)\n",
        "\n",
        "\n",
        "# meta data Dense\n",
        "meta_input = Input(shape=(X_train_meta.shape[1],), name='aux_input')\n",
        "x_meta = Dense(64, activation='relu')(meta_input)\n",
        "\n",
        "\n",
        "if use_pos and use_meta:\n",
        "  if use_dep:\n",
        "    x = keras.layers.concatenate([lstm_in, lstm_in2, lstm_in3, x_meta])\n",
        "  else:\n",
        "    x = keras.layers.concatenate([lstm_in, lstm_in2, x_meta])\n",
        "elif use_meta:\n",
        "  if use_dep:\n",
        "    x = keras.layers.concatenate([lstm_in, lstm_in3, x_meta])\n",
        "  else:\n",
        "    x = keras.layers.concatenate([lstm_in, x_meta])\n",
        "elif use_pos:\n",
        "  if use_dep:\n",
        "    x = keras.layers.concatenate([lstm_in, lstm_in3, lstm_in2])\n",
        "  else:\n",
        "    x = keras.layers.concatenate([lstm_in, lstm_in2])\n",
        "else:\n",
        "  if use_dep:\n",
        "    x = keras.layers.concatenate([lstm_in, lstm_in3])\n",
        "  else:\n",
        "    x = lstm_in\n",
        "\n",
        "  \n",
        "  \n",
        "  \n",
        "main_output = Dense(6, activation='softmax', name='main_output')(x)\n",
        "\n",
        "if use_pos and use_meta:\n",
        "  if use_dep:\n",
        "    model_lstm = Model(inputs=[statement_input, pos_input, dep_input, meta_input], outputs=[main_output])\n",
        "  else:\n",
        "    model_lstm = Model(inputs=[statement_input, pos_input, meta_input], outputs=[main_output])\n",
        "elif use_meta:\n",
        "  if use_dep:\n",
        "    model_lstm = Model(inputs=[statement_input, dep_input, meta_input], outputs=[main_output])\n",
        "  else:\n",
        "    model_lstm = Model(inputs=[statement_input, meta_input], outputs=[main_output])\n",
        "elif use_pos:\n",
        "  if use_dep:\n",
        "    model_lstm = Model(inputs=[statement_input, dep_input, pos_input], outputs=[main_output])\n",
        "  else:\n",
        "    model_lstm = Model(inputs=[statement_input, pos_input], outputs=[main_output])\n",
        "else:\n",
        "  if use_dep:\n",
        "    model_lstm = Model(inputs=[statement_input, dep_input], outputs=[main_output])\n",
        "  else:\n",
        "    model_lstm = Model(inputs=[statement_input], outputs=[main_output])"
      ],
      "execution_count": 0,
      "outputs": []
    },
    {
      "cell_type": "code",
      "metadata": {
        "id": "_TWDF-F0ji-a",
        "colab_type": "code",
        "outputId": "95b4aca0-f0e4-4059-d200-c32908888d9f",
        "colab": {
          "base_uri": "https://localhost:8080/",
          "height": 297
        }
      },
      "source": [
        "train(model_lstm,'lstm', use_pos, use_meta, use_dep)"
      ],
      "execution_count": 0,
      "outputs": [
        {
          "output_type": "error",
          "ename": "NameError",
          "evalue": "ignored",
          "traceback": [
            "\u001b[0;31m\u001b[0m",
            "\u001b[0;31mNameError\u001b[0mTraceback (most recent call last)",
            "\u001b[0;32m<ipython-input-93-48967671a3dc>\u001b[0m in \u001b[0;36m<module>\u001b[0;34m()\u001b[0m\n\u001b[0;32m----> 1\u001b[0;31m \u001b[0mtrain\u001b[0m\u001b[0;34m(\u001b[0m\u001b[0mmodel_lstm\u001b[0m\u001b[0;34m,\u001b[0m\u001b[0;34m'lstm'\u001b[0m\u001b[0;34m,\u001b[0m \u001b[0muse_pos\u001b[0m\u001b[0;34m,\u001b[0m \u001b[0muse_meta\u001b[0m\u001b[0;34m,\u001b[0m \u001b[0muse_dep\u001b[0m\u001b[0;34m)\u001b[0m\u001b[0;34m\u001b[0m\u001b[0;34m\u001b[0m\u001b[0m\n\u001b[0m",
            "\u001b[0;32m<ipython-input-89-73f9cae6d445>\u001b[0m in \u001b[0;36mtrain\u001b[0;34m(model, name, use_pos, use_meta, use_dep)\u001b[0m\n\u001b[1;32m     36\u001b[0m       model.fit(\n\u001b[1;32m     37\u001b[0m         \u001b[0;34m{\u001b[0m\u001b[0;34m'main_input'\u001b[0m\u001b[0;34m:\u001b[0m \u001b[0mX_train\u001b[0m\u001b[0;34m,\u001b[0m \u001b[0;34m'aux_input'\u001b[0m\u001b[0;34m:\u001b[0m \u001b[0mX_train_meta\u001b[0m\u001b[0;34m,\u001b[0m\u001b[0;34m'dep_input'\u001b[0m\u001b[0;34m:\u001b[0m\u001b[0mX_train_dep\u001b[0m\u001b[0;34m}\u001b[0m\u001b[0;34m,\u001b[0m\u001b[0;34m\u001b[0m\u001b[0;34m\u001b[0m\u001b[0m\n\u001b[0;32m---> 38\u001b[0;31m         \u001b[0;34m{\u001b[0m\u001b[0;34m'main_output'\u001b[0m\u001b[0;34m:\u001b[0m \u001b[0mY_train\u001b[0m\u001b[0;34m}\u001b[0m\u001b[0;34m,\u001b[0m \u001b[0mepochs\u001b[0m \u001b[0;34m=\u001b[0m \u001b[0mnum_epochs\u001b[0m\u001b[0;34m,\u001b[0m \u001b[0mbatch_size\u001b[0m \u001b[0;34m=\u001b[0m \u001b[0mbatch_size\u001b[0m\u001b[0;34m,\u001b[0m\u001b[0;34m\u001b[0m\u001b[0;34m\u001b[0m\u001b[0m\n\u001b[0m\u001b[1;32m     39\u001b[0m         validation_data = (\n\u001b[1;32m     40\u001b[0m             \u001b[0;34m{\u001b[0m\u001b[0;34m'main_input'\u001b[0m\u001b[0;34m:\u001b[0m \u001b[0mX_val\u001b[0m\u001b[0;34m,\u001b[0m \u001b[0;34m'aux_input'\u001b[0m\u001b[0;34m:\u001b[0m \u001b[0mX_val_meta\u001b[0m\u001b[0;34m,\u001b[0m \u001b[0;34m'dep_input'\u001b[0m\u001b[0;34m:\u001b[0m \u001b[0mX_val_dep\u001b[0m\u001b[0;34m}\u001b[0m\u001b[0;34m,\u001b[0m\u001b[0;34m\u001b[0m\u001b[0;34m\u001b[0m\u001b[0m\n",
            "\u001b[0;31mNameError\u001b[0m: global name 'Y_train' is not defined"
          ]
        }
      ]
    },
    {
      "cell_type": "code",
      "metadata": {
        "id": "34mjCD6Gcue8",
        "colab_type": "code",
        "colab": {}
      },
      "source": [
        "def plot_cmat(yte, ypred):\n",
        "    '''Plotting confusion matrix'''\n",
        "    skplt.plot_confusion_matrix(yte, ypred)\n",
        "    plt.show()"
      ],
      "execution_count": 0,
      "outputs": []
    },
    {
      "cell_type": "code",
      "metadata": {
        "id": "HR8QKCW9bnHn",
        "colab_type": "code",
        "colab": {}
      },
      "source": [
        "# Convert to numpy arrays\n",
        "Y_train = np.array(Y_train)\n",
        "Y_test = np.array(Y_test_gt)\n"
      ],
      "execution_count": 0,
      "outputs": []
    },
    {
      "cell_type": "code",
      "metadata": {
        "id": "5c_FmUg458Vf",
        "colab_type": "code",
        "colab": {}
      },
      "source": [
        ""
      ],
      "execution_count": 0,
      "outputs": []
    },
    {
      "cell_type": "code",
      "metadata": {
        "id": "I6DrCwa-590D",
        "colab_type": "code",
        "colab": {}
      },
      "source": [
        ""
      ],
      "execution_count": 0,
      "outputs": []
    },
    {
      "cell_type": "code",
      "metadata": {
        "id": "T69d8JkIbb7s",
        "colab_type": "code",
        "colab": {}
      },
      "source": [
        "model_lstm.fit(X_train, Y_train, validation_data=(X_test, Y_test_gt), epochs=epoch_num, batch_size=batch_size)"
      ],
      "execution_count": 0,
      "outputs": []
    },
    {
      "cell_type": "code",
      "metadata": {
        "id": "bJJj55o7Y6_7",
        "colab_type": "code",
        "colab": {}
      },
      "source": [
        "\n",
        "# Final evaluation of the model\n",
        "scores = model_lstm.evaluate(X_test, y_test, verbose=0)\n",
        "print(\"Accuracy= %.2f%%\" % (scores[1]*100))\n",
        "\n",
        "# Draw the confusion matrix\n",
        "y_pred = model_lstm.predict_classes(X_test)\n",
        "plot_cmat(y_test, y_pred)"
      ],
      "execution_count": 0,
      "outputs": []
    },
    {
      "cell_type": "code",
      "metadata": {
        "id": "SHfmN7G8ZDCu",
        "colab_type": "code",
        "colab": {}
      },
      "source": [
        ""
      ],
      "execution_count": 0,
      "outputs": []
    },
    {
      "cell_type": "code",
      "metadata": {
        "id": "JN1-8C5B24VH",
        "colab_type": "code",
        "outputId": "eb712834-ddd9-42c3-8121-debcbad50421",
        "colab": {
          "base_uri": "https://localhost:8080/",
          "height": 85
        }
      },
      "source": [
        "(fw, tb) = evaluate('lstm', use_pos, use_meta, use_dep)"
      ],
      "execution_count": 0,
      "outputs": [
        {
          "output_type": "stream",
          "text": [
            "1267/1267 [==============================] - 1s 830us/sample\n",
            "True\n",
            "Correctly Predicted :  352 / 1267\n",
            "Accuracy :  27.782162588792424\n"
          ],
          "name": "stdout"
        }
      ]
    },
    {
      "cell_type": "code",
      "metadata": {
        "id": "gp6BBFC7urlx",
        "colab_type": "code",
        "outputId": "cf6df9a9-ba41-4af4-bff3-5946362099a3",
        "colab": {
          "base_uri": "https://localhost:8080/",
          "height": 537
        }
      },
      "source": [
        "plot_model(model_lstm, to_file='model_lstm.png', show_shapes=True, show_layer_names=True)\n",
        "SVG(model_to_dot(model_lstm,show_shapes=True).create(prog='dot', format='svg'))\n",
        "#print model_LSTM.summary()"
      ],
      "execution_count": 0,
      "outputs": [
        {
          "output_type": "execute_result",
          "data": {
            "text/plain": [
              "<IPython.core.display.SVG object>"
            ],
            "image/svg+xml": "<svg height=\"387pt\" viewBox=\"0.00 0.00 1014.50 387.00\" width=\"1015pt\" xmlns=\"http://www.w3.org/2000/svg\" xmlns:xlink=\"http://www.w3.org/1999/xlink\">\n<g class=\"graph\" id=\"graph0\" transform=\"scale(1 1) rotate(0) translate(4 383)\">\n<title>G</title>\n<polygon fill=\"#ffffff\" points=\"-4,4 -4,-383 1010.5,-383 1010.5,4 -4,4\" stroke=\"transparent\"/>\n<!-- 139787012453584 -->\n<g class=\"node\" id=\"node1\">\n<title>139787012453584</title>\n<polygon fill=\"none\" points=\"27.5,-332.5 27.5,-378.5 319.5,-378.5 319.5,-332.5 27.5,-332.5\" stroke=\"#000000\"/>\n<text fill=\"#000000\" font-family=\"Times,serif\" font-size=\"14.00\" text-anchor=\"middle\" x=\"104.5\" y=\"-351.8\">main_input: InputLayer</text>\n<polyline fill=\"none\" points=\"181.5,-332.5 181.5,-378.5 \" stroke=\"#000000\"/>\n<text fill=\"#000000\" font-family=\"Times,serif\" font-size=\"14.00\" text-anchor=\"middle\" x=\"210.5\" y=\"-363.3\">input:</text>\n<polyline fill=\"none\" points=\"181.5,-355.5 239.5,-355.5 \" stroke=\"#000000\"/>\n<text fill=\"#000000\" font-family=\"Times,serif\" font-size=\"14.00\" text-anchor=\"middle\" x=\"210.5\" y=\"-340.3\">output:</text>\n<polyline fill=\"none\" points=\"239.5,-332.5 239.5,-378.5 \" stroke=\"#000000\"/>\n<text fill=\"#000000\" font-family=\"Times,serif\" font-size=\"14.00\" text-anchor=\"middle\" x=\"279.5\" y=\"-363.3\">(None, 15)</text>\n<polyline fill=\"none\" points=\"239.5,-355.5 319.5,-355.5 \" stroke=\"#000000\"/>\n<text fill=\"#000000\" font-family=\"Times,serif\" font-size=\"14.00\" text-anchor=\"middle\" x=\"279.5\" y=\"-340.3\">(None, 15)</text>\n</g>\n<!-- 139787429650256 -->\n<g class=\"node\" id=\"node3\">\n<title>139787429650256</title>\n<polygon fill=\"none\" points=\"0,-249.5 0,-295.5 347,-295.5 347,-249.5 0,-249.5\" stroke=\"#000000\"/>\n<text fill=\"#000000\" font-family=\"Times,serif\" font-size=\"14.00\" text-anchor=\"middle\" x=\"89.5\" y=\"-268.8\">embedding_27: Embedding</text>\n<polyline fill=\"none\" points=\"179,-249.5 179,-295.5 \" stroke=\"#000000\"/>\n<text fill=\"#000000\" font-family=\"Times,serif\" font-size=\"14.00\" text-anchor=\"middle\" x=\"208\" y=\"-280.3\">input:</text>\n<polyline fill=\"none\" points=\"179,-272.5 237,-272.5 \" stroke=\"#000000\"/>\n<text fill=\"#000000\" font-family=\"Times,serif\" font-size=\"14.00\" text-anchor=\"middle\" x=\"208\" y=\"-257.3\">output:</text>\n<polyline fill=\"none\" points=\"237,-249.5 237,-295.5 \" stroke=\"#000000\"/>\n<text fill=\"#000000\" font-family=\"Times,serif\" font-size=\"14.00\" text-anchor=\"middle\" x=\"292\" y=\"-280.3\">(None, 15)</text>\n<polyline fill=\"none\" points=\"237,-272.5 347,-272.5 \" stroke=\"#000000\"/>\n<text fill=\"#000000\" font-family=\"Times,serif\" font-size=\"14.00\" text-anchor=\"middle\" x=\"292\" y=\"-257.3\">(None, 15, 100)</text>\n</g>\n<!-- 139787012453584&#45;&gt;139787429650256 -->\n<g class=\"edge\" id=\"edge1\">\n<title>139787012453584-&gt;139787429650256</title>\n<path d=\"M173.5,-332.3799C173.5,-324.1745 173.5,-314.7679 173.5,-305.8786\" fill=\"none\" stroke=\"#000000\"/>\n<polygon fill=\"#000000\" points=\"177.0001,-305.784 173.5,-295.784 170.0001,-305.784 177.0001,-305.784\" stroke=\"#000000\"/>\n</g>\n<!-- 139786988728144 -->\n<g class=\"node\" id=\"node2\">\n<title>139786988728144</title>\n<polygon fill=\"none\" points=\"392.5,-332.5 392.5,-378.5 676.5,-378.5 676.5,-332.5 392.5,-332.5\" stroke=\"#000000\"/>\n<text fill=\"#000000\" font-family=\"Times,serif\" font-size=\"14.00\" text-anchor=\"middle\" x=\"465.5\" y=\"-351.8\">dep_input: InputLayer</text>\n<polyline fill=\"none\" points=\"538.5,-332.5 538.5,-378.5 \" stroke=\"#000000\"/>\n<text fill=\"#000000\" font-family=\"Times,serif\" font-size=\"14.00\" text-anchor=\"middle\" x=\"567.5\" y=\"-363.3\">input:</text>\n<polyline fill=\"none\" points=\"538.5,-355.5 596.5,-355.5 \" stroke=\"#000000\"/>\n<text fill=\"#000000\" font-family=\"Times,serif\" font-size=\"14.00\" text-anchor=\"middle\" x=\"567.5\" y=\"-340.3\">output:</text>\n<polyline fill=\"none\" points=\"596.5,-332.5 596.5,-378.5 \" stroke=\"#000000\"/>\n<text fill=\"#000000\" font-family=\"Times,serif\" font-size=\"14.00\" text-anchor=\"middle\" x=\"636.5\" y=\"-363.3\">(None, 15)</text>\n<polyline fill=\"none\" points=\"596.5,-355.5 676.5,-355.5 \" stroke=\"#000000\"/>\n<text fill=\"#000000\" font-family=\"Times,serif\" font-size=\"14.00\" text-anchor=\"middle\" x=\"636.5\" y=\"-340.3\">(None, 15)</text>\n</g>\n<!-- 139786986397520 -->\n<g class=\"node\" id=\"node4\">\n<title>139786986397520</title>\n<polygon fill=\"none\" points=\"365,-249.5 365,-295.5 704,-295.5 704,-249.5 365,-249.5\" stroke=\"#000000\"/>\n<text fill=\"#000000\" font-family=\"Times,serif\" font-size=\"14.00\" text-anchor=\"middle\" x=\"454.5\" y=\"-268.8\">embedding_29: Embedding</text>\n<polyline fill=\"none\" points=\"544,-249.5 544,-295.5 \" stroke=\"#000000\"/>\n<text fill=\"#000000\" font-family=\"Times,serif\" font-size=\"14.00\" text-anchor=\"middle\" x=\"573\" y=\"-280.3\">input:</text>\n<polyline fill=\"none\" points=\"544,-272.5 602,-272.5 \" stroke=\"#000000\"/>\n<text fill=\"#000000\" font-family=\"Times,serif\" font-size=\"14.00\" text-anchor=\"middle\" x=\"573\" y=\"-257.3\">output:</text>\n<polyline fill=\"none\" points=\"602,-249.5 602,-295.5 \" stroke=\"#000000\"/>\n<text fill=\"#000000\" font-family=\"Times,serif\" font-size=\"14.00\" text-anchor=\"middle\" x=\"653\" y=\"-280.3\">(None, 15)</text>\n<polyline fill=\"none\" points=\"602,-272.5 704,-272.5 \" stroke=\"#000000\"/>\n<text fill=\"#000000\" font-family=\"Times,serif\" font-size=\"14.00\" text-anchor=\"middle\" x=\"653\" y=\"-257.3\">(None, 15, 10)</text>\n</g>\n<!-- 139786988728144&#45;&gt;139786986397520 -->\n<g class=\"edge\" id=\"edge2\">\n<title>139786988728144-&gt;139786986397520</title>\n<path d=\"M534.5,-332.3799C534.5,-324.1745 534.5,-314.7679 534.5,-305.8786\" fill=\"none\" stroke=\"#000000\"/>\n<polygon fill=\"#000000\" points=\"538.0001,-305.784 534.5,-295.784 531.0001,-305.784 538.0001,-305.784\" stroke=\"#000000\"/>\n</g>\n<!-- 139786989660240 -->\n<g class=\"node\" id=\"node6\">\n<title>139786989660240</title>\n<polygon fill=\"none\" points=\"69.5,-166.5 69.5,-212.5 347.5,-212.5 347.5,-166.5 69.5,-166.5\" stroke=\"#000000\"/>\n<text fill=\"#000000\" font-family=\"Times,serif\" font-size=\"14.00\" text-anchor=\"middle\" x=\"124.5\" y=\"-185.8\">lstm_18: LSTM</text>\n<polyline fill=\"none\" points=\"179.5,-166.5 179.5,-212.5 \" stroke=\"#000000\"/>\n<text fill=\"#000000\" font-family=\"Times,serif\" font-size=\"14.00\" text-anchor=\"middle\" x=\"208.5\" y=\"-197.3\">input:</text>\n<polyline fill=\"none\" points=\"179.5,-189.5 237.5,-189.5 \" stroke=\"#000000\"/>\n<text fill=\"#000000\" font-family=\"Times,serif\" font-size=\"14.00\" text-anchor=\"middle\" x=\"208.5\" y=\"-174.3\">output:</text>\n<polyline fill=\"none\" points=\"237.5,-166.5 237.5,-212.5 \" stroke=\"#000000\"/>\n<text fill=\"#000000\" font-family=\"Times,serif\" font-size=\"14.00\" text-anchor=\"middle\" x=\"292.5\" y=\"-197.3\">(None, 15, 100)</text>\n<polyline fill=\"none\" points=\"237.5,-189.5 347.5,-189.5 \" stroke=\"#000000\"/>\n<text fill=\"#000000\" font-family=\"Times,serif\" font-size=\"14.00\" text-anchor=\"middle\" x=\"292.5\" y=\"-174.3\">(None, 100)</text>\n</g>\n<!-- 139787429650256&#45;&gt;139786989660240 -->\n<g class=\"edge\" id=\"edge3\">\n<title>139787429650256-&gt;139786989660240</title>\n<path d=\"M183.2495,-249.3799C186.8224,-240.907 190.9354,-231.1531 194.7907,-222.0107\" fill=\"none\" stroke=\"#000000\"/>\n<polygon fill=\"#000000\" points=\"198.0208,-223.3582 198.6814,-212.784 191.5709,-220.6383 198.0208,-223.3582\" stroke=\"#000000\"/>\n</g>\n<!-- 139786985817424 -->\n<g class=\"node\" id=\"node7\">\n<title>139786985817424</title>\n<polygon fill=\"none\" points=\"399.5,-166.5 399.5,-212.5 669.5,-212.5 669.5,-166.5 399.5,-166.5\" stroke=\"#000000\"/>\n<text fill=\"#000000\" font-family=\"Times,serif\" font-size=\"14.00\" text-anchor=\"middle\" x=\"454.5\" y=\"-185.8\">lstm_20: LSTM</text>\n<polyline fill=\"none\" points=\"509.5,-166.5 509.5,-212.5 \" stroke=\"#000000\"/>\n<text fill=\"#000000\" font-family=\"Times,serif\" font-size=\"14.00\" text-anchor=\"middle\" x=\"538.5\" y=\"-197.3\">input:</text>\n<polyline fill=\"none\" points=\"509.5,-189.5 567.5,-189.5 \" stroke=\"#000000\"/>\n<text fill=\"#000000\" font-family=\"Times,serif\" font-size=\"14.00\" text-anchor=\"middle\" x=\"538.5\" y=\"-174.3\">output:</text>\n<polyline fill=\"none\" points=\"567.5,-166.5 567.5,-212.5 \" stroke=\"#000000\"/>\n<text fill=\"#000000\" font-family=\"Times,serif\" font-size=\"14.00\" text-anchor=\"middle\" x=\"618.5\" y=\"-197.3\">(None, 15, 10)</text>\n<polyline fill=\"none\" points=\"567.5,-189.5 669.5,-189.5 \" stroke=\"#000000\"/>\n<text fill=\"#000000\" font-family=\"Times,serif\" font-size=\"14.00\" text-anchor=\"middle\" x=\"618.5\" y=\"-174.3\">(None, 100)</text>\n</g>\n<!-- 139786986397520&#45;&gt;139786985817424 -->\n<g class=\"edge\" id=\"edge4\">\n<title>139786986397520-&gt;139786985817424</title>\n<path d=\"M534.5,-249.3799C534.5,-241.1745 534.5,-231.7679 534.5,-222.8786\" fill=\"none\" stroke=\"#000000\"/>\n<polygon fill=\"#000000\" points=\"538.0001,-222.784 534.5,-212.784 531.0001,-222.784 538.0001,-222.784\" stroke=\"#000000\"/>\n</g>\n<!-- 139786985817168 -->\n<g class=\"node\" id=\"node5\">\n<title>139786985817168</title>\n<polygon fill=\"none\" points=\"722.5,-249.5 722.5,-295.5 1006.5,-295.5 1006.5,-249.5 722.5,-249.5\" stroke=\"#000000\"/>\n<text fill=\"#000000\" font-family=\"Times,serif\" font-size=\"14.00\" text-anchor=\"middle\" x=\"795.5\" y=\"-268.8\">aux_input: InputLayer</text>\n<polyline fill=\"none\" points=\"868.5,-249.5 868.5,-295.5 \" stroke=\"#000000\"/>\n<text fill=\"#000000\" font-family=\"Times,serif\" font-size=\"14.00\" text-anchor=\"middle\" x=\"897.5\" y=\"-280.3\">input:</text>\n<polyline fill=\"none\" points=\"868.5,-272.5 926.5,-272.5 \" stroke=\"#000000\"/>\n<text fill=\"#000000\" font-family=\"Times,serif\" font-size=\"14.00\" text-anchor=\"middle\" x=\"897.5\" y=\"-257.3\">output:</text>\n<polyline fill=\"none\" points=\"926.5,-249.5 926.5,-295.5 \" stroke=\"#000000\"/>\n<text fill=\"#000000\" font-family=\"Times,serif\" font-size=\"14.00\" text-anchor=\"middle\" x=\"966.5\" y=\"-280.3\">(None, 83)</text>\n<polyline fill=\"none\" points=\"926.5,-272.5 1006.5,-272.5 \" stroke=\"#000000\"/>\n<text fill=\"#000000\" font-family=\"Times,serif\" font-size=\"14.00\" text-anchor=\"middle\" x=\"966.5\" y=\"-257.3\">(None, 83)</text>\n</g>\n<!-- 139786983952336 -->\n<g class=\"node\" id=\"node8\">\n<title>139786983952336</title>\n<polygon fill=\"none\" points=\"712.5,-166.5 712.5,-212.5 964.5,-212.5 964.5,-166.5 712.5,-166.5\" stroke=\"#000000\"/>\n<text fill=\"#000000\" font-family=\"Times,serif\" font-size=\"14.00\" text-anchor=\"middle\" x=\"769.5\" y=\"-185.8\">dense_22: Dense</text>\n<polyline fill=\"none\" points=\"826.5,-166.5 826.5,-212.5 \" stroke=\"#000000\"/>\n<text fill=\"#000000\" font-family=\"Times,serif\" font-size=\"14.00\" text-anchor=\"middle\" x=\"855.5\" y=\"-197.3\">input:</text>\n<polyline fill=\"none\" points=\"826.5,-189.5 884.5,-189.5 \" stroke=\"#000000\"/>\n<text fill=\"#000000\" font-family=\"Times,serif\" font-size=\"14.00\" text-anchor=\"middle\" x=\"855.5\" y=\"-174.3\">output:</text>\n<polyline fill=\"none\" points=\"884.5,-166.5 884.5,-212.5 \" stroke=\"#000000\"/>\n<text fill=\"#000000\" font-family=\"Times,serif\" font-size=\"14.00\" text-anchor=\"middle\" x=\"924.5\" y=\"-197.3\">(None, 83)</text>\n<polyline fill=\"none\" points=\"884.5,-189.5 964.5,-189.5 \" stroke=\"#000000\"/>\n<text fill=\"#000000\" font-family=\"Times,serif\" font-size=\"14.00\" text-anchor=\"middle\" x=\"924.5\" y=\"-174.3\">(None, 64)</text>\n</g>\n<!-- 139786985817168&#45;&gt;139786983952336 -->\n<g class=\"edge\" id=\"edge5\">\n<title>139786985817168-&gt;139786983952336</title>\n<path d=\"M857.2576,-249.3799C854.6593,-241.0854 851.6764,-231.5633 848.8652,-222.5889\" fill=\"none\" stroke=\"#000000\"/>\n<polygon fill=\"#000000\" points=\"852.1231,-221.2805 845.7938,-212.784 845.4432,-223.373 852.1231,-221.2805\" stroke=\"#000000\"/>\n</g>\n<!-- 139786981101520 -->\n<g class=\"node\" id=\"node9\">\n<title>139786981101520</title>\n<polygon fill=\"none\" points=\"292,-83.5 292,-129.5 777,-129.5 777,-83.5 292,-83.5\" stroke=\"#000000\"/>\n<text fill=\"#000000\" font-family=\"Times,serif\" font-size=\"14.00\" text-anchor=\"middle\" x=\"383\" y=\"-102.8\">concatenate_17: Concatenate</text>\n<polyline fill=\"none\" points=\"474,-83.5 474,-129.5 \" stroke=\"#000000\"/>\n<text fill=\"#000000\" font-family=\"Times,serif\" font-size=\"14.00\" text-anchor=\"middle\" x=\"503\" y=\"-114.3\">input:</text>\n<polyline fill=\"none\" points=\"474,-106.5 532,-106.5 \" stroke=\"#000000\"/>\n<text fill=\"#000000\" font-family=\"Times,serif\" font-size=\"14.00\" text-anchor=\"middle\" x=\"503\" y=\"-91.3\">output:</text>\n<polyline fill=\"none\" points=\"532,-83.5 532,-129.5 \" stroke=\"#000000\"/>\n<text fill=\"#000000\" font-family=\"Times,serif\" font-size=\"14.00\" text-anchor=\"middle\" x=\"654.5\" y=\"-114.3\">[(None, 100), (None, 100), (None, 64)]</text>\n<polyline fill=\"none\" points=\"532,-106.5 777,-106.5 \" stroke=\"#000000\"/>\n<text fill=\"#000000\" font-family=\"Times,serif\" font-size=\"14.00\" text-anchor=\"middle\" x=\"654.5\" y=\"-91.3\">(None, 264)</text>\n</g>\n<!-- 139786989660240&#45;&gt;139786981101520 -->\n<g class=\"edge\" id=\"edge6\">\n<title>139786989660240-&gt;139786981101520</title>\n<path d=\"M298.8763,-166.4901C340.8322,-155.8081 390.8573,-143.0716 433.9988,-132.0877\" fill=\"none\" stroke=\"#000000\"/>\n<polygon fill=\"#000000\" points=\"435.1207,-135.4138 443.9479,-129.5547 433.3935,-128.6302 435.1207,-135.4138\" stroke=\"#000000\"/>\n</g>\n<!-- 139786985817424&#45;&gt;139786981101520 -->\n<g class=\"edge\" id=\"edge7\">\n<title>139786985817424-&gt;139786981101520</title>\n<path d=\"M534.5,-166.3799C534.5,-158.1745 534.5,-148.7679 534.5,-139.8786\" fill=\"none\" stroke=\"#000000\"/>\n<polygon fill=\"#000000\" points=\"538.0001,-139.784 534.5,-129.784 531.0001,-139.784 538.0001,-139.784\" stroke=\"#000000\"/>\n</g>\n<!-- 139786983952336&#45;&gt;139786981101520 -->\n<g class=\"edge\" id=\"edge8\">\n<title>139786983952336-&gt;139786981101520</title>\n<path d=\"M754.2228,-166.4901C715.263,-155.853 668.8417,-143.1788 628.7274,-132.2266\" fill=\"none\" stroke=\"#000000\"/>\n<polygon fill=\"#000000\" points=\"629.51,-128.8122 618.9412,-129.5547 627.6662,-135.565 629.51,-128.8122\" stroke=\"#000000\"/>\n</g>\n<!-- 139786982819664 -->\n<g class=\"node\" id=\"node10\">\n<title>139786982819664</title>\n<polygon fill=\"none\" points=\"395.5,-.5 395.5,-46.5 673.5,-46.5 673.5,-.5 395.5,-.5\" stroke=\"#000000\"/>\n<text fill=\"#000000\" font-family=\"Times,serif\" font-size=\"14.00\" text-anchor=\"middle\" x=\"462\" y=\"-19.8\">main_output: Dense</text>\n<polyline fill=\"none\" points=\"528.5,-.5 528.5,-46.5 \" stroke=\"#000000\"/>\n<text fill=\"#000000\" font-family=\"Times,serif\" font-size=\"14.00\" text-anchor=\"middle\" x=\"557.5\" y=\"-31.3\">input:</text>\n<polyline fill=\"none\" points=\"528.5,-23.5 586.5,-23.5 \" stroke=\"#000000\"/>\n<text fill=\"#000000\" font-family=\"Times,serif\" font-size=\"14.00\" text-anchor=\"middle\" x=\"557.5\" y=\"-8.3\">output:</text>\n<polyline fill=\"none\" points=\"586.5,-.5 586.5,-46.5 \" stroke=\"#000000\"/>\n<text fill=\"#000000\" font-family=\"Times,serif\" font-size=\"14.00\" text-anchor=\"middle\" x=\"630\" y=\"-31.3\">(None, 264)</text>\n<polyline fill=\"none\" points=\"586.5,-23.5 673.5,-23.5 \" stroke=\"#000000\"/>\n<text fill=\"#000000\" font-family=\"Times,serif\" font-size=\"14.00\" text-anchor=\"middle\" x=\"630\" y=\"-8.3\">(None, 6)</text>\n</g>\n<!-- 139786981101520&#45;&gt;139786982819664 -->\n<g class=\"edge\" id=\"edge9\">\n<title>139786981101520-&gt;139786982819664</title>\n<path d=\"M534.5,-83.3799C534.5,-75.1745 534.5,-65.7679 534.5,-56.8786\" fill=\"none\" stroke=\"#000000\"/>\n<polygon fill=\"#000000\" points=\"538.0001,-56.784 534.5,-46.784 531.0001,-56.784 538.0001,-56.784\" stroke=\"#000000\"/>\n</g>\n</g>\n</svg>"
          },
          "metadata": {
            "tags": []
          },
          "execution_count": 99
        }
      ]
    },
    {
      "cell_type": "code",
      "metadata": {
        "id": "qKBM8ERR00fQ",
        "colab_type": "code",
        "colab": {}
      },
      "source": [
        ""
      ],
      "execution_count": 0,
      "outputs": []
    },
    {
      "cell_type": "code",
      "metadata": {
        "id": "CSL_Pwim06w8",
        "colab_type": "code",
        "colab": {}
      },
      "source": [
        "kernel_stmt = []\n",
        "kernel_pos = []\n",
        "kernel_dep = []\n",
        "\n",
        "use_pos=False\n",
        "use_meta=True\n",
        "use_dep=True\n",
        "\n",
        "statement_input = Input(shape=(num_steps,), dtype='int32', name='main_input')\n",
        "x_stmt = Embedding(vocab_length+1,EMBED_DIM,weights=[embedding_matrix],input_length=num_steps,trainable=False)(statement_input) \n",
        "\n",
        "# pos embed LSTM\n",
        "pos_input = Input(shape=(num_steps,), dtype='int32', name='pos_input')\n",
        "x_pos = Embedding(max(pos_dict.values()), max(pos_dict.values()), weights=[pos_embeddings], input_length=num_steps, trainable=False)(pos_input)\n",
        "\n",
        "# dep embed LSTM\n",
        "dep_input = Input(shape=(num_steps,), dtype='int32', name='dep_input')\n",
        "x_dep = Embedding(max(dep_dict.values()), max(dep_dict.values()), weights=[dep_embeddings], input_length=num_steps, trainable=False)(dep_input)\n",
        "\n",
        "\n",
        "for kernel in kernel_sizes:\n",
        "    x_1 = Conv1D(filters=filter_size,kernel_size=kernel)(x_stmt)\n",
        "    x_1 = GlobalMaxPool1D()(x_1)\n",
        "    kernel_stmt.append(x_1)\n",
        "    \n",
        "    x_2 = Conv1D(filters=filter_size,kernel_size=kernel)(x_pos)\n",
        "    x_2 = GlobalMaxPool1D()(x_2)\n",
        "    kernel_pos.append(x_2)\n",
        "    \n",
        "    x_3 = Conv1D(filters=filter_size,kernel_size=kernel)(x_dep)\n",
        "    x_3 = GlobalMaxPool1D()(x_3)\n",
        "    kernel_dep.append(x_3)\n",
        "    \n",
        "conv_in1 = keras.layers.concatenate(kernel_stmt)\n",
        "#conv_in1 = conv_in1.add(Dropout(0.6))\n",
        "conv_in1 = Dense(128, activation='relu')(conv_in1)\n",
        "\n",
        "conv_in2 = keras.layers.concatenate(kernel_pos)\n",
        "#conv_in2 = Dropout(0.6)(conv_in2)\n",
        "conv_in2 = Dense(128, activation='relu')(conv_in2)\n",
        "\n",
        "conv_in3 = keras.layers.concatenate(kernel_dep)\n",
        "#conv_in3 = Dropout(0.6)(conv_in3)\n",
        "conv_in3 = Dense(128, activation='relu')(conv_in3)\n",
        "\n",
        "# meta data\n",
        "meta_input = Input(shape=(X_train_meta.shape[1],), name='aux_input')\n",
        "x_meta = Dense(64, activation='relu')(meta_input)\n",
        "\n",
        "if use_pos and use_meta:\n",
        "  if use_dep:\n",
        "    x = keras.layers.concatenate([conv_in1, conv_in2, conv_in3, x_meta])\n",
        "  else:\n",
        "    x = keras.layers.concatenate([conv_in1, conv_in2, x_meta])\n",
        "elif use_meta:\n",
        "  if use_dep:\n",
        "    x = keras.layers.concatenate([conv_in1, conv_in3, x_meta])\n",
        "  else:\n",
        "    x = keras.layers.concatenate([conv_in1, x_meta])\n",
        "elif use_pos:\n",
        "  if use_dep:\n",
        "    x = keras.layers.concatenate([conv_in1, conv_in2, conv_in3])\n",
        "  else:\n",
        "    x = keras.layers.concatenate([conv_in1, conv_in2])\n",
        "else:\n",
        "  if use_dep:\n",
        "    x = keras.layers.concatenate([conv_in1, conv_in3])\n",
        "  else:\n",
        "    x = conv_in1\n",
        "\n",
        "\n",
        "\n",
        "main_output = Dense(6, activation='softmax', name='main_output')(x)\n",
        "\n",
        "if use_pos and use_meta:\n",
        "  if use_dep:\n",
        "    model_cnn = Model(inputs=[statement_input, pos_input, dep_input, meta_input], outputs=[main_output])\n",
        "  else:\n",
        "    model_cnn = Model(inputs=[statement_input, pos_input, meta_input], outputs=[main_output])\n",
        "elif use_meta:\n",
        "  if use_dep:\n",
        "    model_cnn = Model(inputs=[statement_input, dep_input, meta_input], outputs=[main_output])\n",
        "  else:\n",
        "    model_cnn = Model(inputs=[statement_input, meta_input], outputs=[main_output])\n",
        "elif use_pos:\n",
        "  if use_dep:\n",
        "    model_cnn = Model(inputs=[statement_input, pos_input, dep_input], outputs=[main_output])\n",
        "  else:\n",
        "    model_cnn = Model(inputs=[statement_input, pos_input], outputs=[main_output])\n",
        "else:\n",
        "  if use_dep:\n",
        "    model_cnn = Model(inputs=[statement_input, dep_input], outputs=[main_output])\n",
        "  else:\n",
        "    model_cnn = Model(inputs=[statement_input], outputs=[main_output])"
      ],
      "execution_count": 0,
      "outputs": []
    },
    {
      "cell_type": "code",
      "metadata": {
        "id": "jrxoRnNu08AJ",
        "colab_type": "code",
        "outputId": "96876346-8b22-4751-95cf-524fb6c5c221",
        "colab": {
          "base_uri": "https://localhost:8080/",
          "height": 1071
        }
      },
      "source": [
        "#plot_model(model, to_file='model_lstm.png', show_shapes=True, show_layer_names=True)\n",
        "#SVG(model_to_dot(model,show_shapes=True).create(prog='dot', format='svg'))\n",
        "print model_cnn.summary()"
      ],
      "execution_count": 0,
      "outputs": [
        {
          "output_type": "stream",
          "text": [
            "__________________________________________________________________________________________________\n",
            "Layer (type)                    Output Shape         Param #     Connected to                     \n",
            "==================================================================================================\n",
            "main_input (InputLayer)         (None, 15)           0                                            \n",
            "__________________________________________________________________________________________________\n",
            "dep_input (InputLayer)          (None, 15)           0                                            \n",
            "__________________________________________________________________________________________________\n",
            "embedding_30 (Embedding)        (None, 15, 100)      1240900     main_input[0][0]                 \n",
            "__________________________________________________________________________________________________\n",
            "embedding_32 (Embedding)        (None, 15, 10)       100         dep_input[0][0]                  \n",
            "__________________________________________________________________________________________________\n",
            "conv1d_28 (Conv1D)              (None, 13, 128)      38528       embedding_30[0][0]               \n",
            "__________________________________________________________________________________________________\n",
            "conv1d_31 (Conv1D)              (None, 13, 128)      38528       embedding_30[0][0]               \n",
            "__________________________________________________________________________________________________\n",
            "conv1d_34 (Conv1D)              (None, 13, 128)      38528       embedding_30[0][0]               \n",
            "__________________________________________________________________________________________________\n",
            "conv1d_30 (Conv1D)              (None, 13, 128)      3968        embedding_32[0][0]               \n",
            "__________________________________________________________________________________________________\n",
            "conv1d_33 (Conv1D)              (None, 13, 128)      3968        embedding_32[0][0]               \n",
            "__________________________________________________________________________________________________\n",
            "conv1d_36 (Conv1D)              (None, 13, 128)      3968        embedding_32[0][0]               \n",
            "__________________________________________________________________________________________________\n",
            "global_max_pooling1d_28 (Global (None, 128)          0           conv1d_28[0][0]                  \n",
            "__________________________________________________________________________________________________\n",
            "global_max_pooling1d_31 (Global (None, 128)          0           conv1d_31[0][0]                  \n",
            "__________________________________________________________________________________________________\n",
            "global_max_pooling1d_34 (Global (None, 128)          0           conv1d_34[0][0]                  \n",
            "__________________________________________________________________________________________________\n",
            "global_max_pooling1d_30 (Global (None, 128)          0           conv1d_30[0][0]                  \n",
            "__________________________________________________________________________________________________\n",
            "global_max_pooling1d_33 (Global (None, 128)          0           conv1d_33[0][0]                  \n",
            "__________________________________________________________________________________________________\n",
            "global_max_pooling1d_36 (Global (None, 128)          0           conv1d_36[0][0]                  \n",
            "__________________________________________________________________________________________________\n",
            "concatenate_18 (Concatenate)    (None, 384)          0           global_max_pooling1d_28[0][0]    \n",
            "                                                                 global_max_pooling1d_31[0][0]    \n",
            "                                                                 global_max_pooling1d_34[0][0]    \n",
            "__________________________________________________________________________________________________\n",
            "concatenate_20 (Concatenate)    (None, 384)          0           global_max_pooling1d_30[0][0]    \n",
            "                                                                 global_max_pooling1d_33[0][0]    \n",
            "                                                                 global_max_pooling1d_36[0][0]    \n",
            "__________________________________________________________________________________________________\n",
            "aux_input (InputLayer)          (None, 83)           0                                            \n",
            "__________________________________________________________________________________________________\n",
            "dense_23 (Dense)                (None, 128)          49280       concatenate_18[0][0]             \n",
            "__________________________________________________________________________________________________\n",
            "dense_25 (Dense)                (None, 128)          49280       concatenate_20[0][0]             \n",
            "__________________________________________________________________________________________________\n",
            "dense_26 (Dense)                (None, 64)           5376        aux_input[0][0]                  \n",
            "__________________________________________________________________________________________________\n",
            "concatenate_21 (Concatenate)    (None, 320)          0           dense_23[0][0]                   \n",
            "                                                                 dense_25[0][0]                   \n",
            "                                                                 dense_26[0][0]                   \n",
            "__________________________________________________________________________________________________\n",
            "main_output (Dense)             (None, 6)            1926        concatenate_21[0][0]             \n",
            "==================================================================================================\n",
            "Total params: 1,474,350\n",
            "Trainable params: 233,350\n",
            "Non-trainable params: 1,241,000\n",
            "__________________________________________________________________________________________________\n",
            "None\n"
          ],
          "name": "stdout"
        }
      ]
    },
    {
      "cell_type": "code",
      "metadata": {
        "id": "n6ry0VVMhCu-",
        "colab_type": "code",
        "outputId": "f58ffdd9-c20e-44db-cbc1-6e4d7522e30e",
        "colab": {
          "base_uri": "https://localhost:8080/",
          "height": 714
        }
      },
      "source": [
        "train(model_cnn,'cnn', use_pos, use_meta, use_dep)"
      ],
      "execution_count": 0,
      "outputs": [
        {
          "output_type": "stream",
          "text": [
            "Train on 10240 samples, validate on 1284 samples\n",
            "Epoch 1/10\n",
            "10240/10240 [==============================] - 2s 235us/step - loss: 1.8096 - categorical_accuracy: 0.2061 - val_loss: 1.7986 - val_categorical_accuracy: 0.2079\n",
            "\n",
            "Epoch 00001: val_categorical_accuracy improved from -inf to 0.20794, saving model to cnn_weights_best.hdf5\n",
            "Epoch 2/10\n",
            "10240/10240 [==============================] - 1s 60us/step - loss: 1.7111 - categorical_accuracy: 0.2575 - val_loss: 1.7233 - val_categorical_accuracy: 0.2095\n",
            "\n",
            "Epoch 00002: val_categorical_accuracy improved from 0.20794 to 0.20950, saving model to cnn_weights_best.hdf5\n",
            "Epoch 3/10\n",
            "10240/10240 [==============================] - 1s 52us/step - loss: 1.6576 - categorical_accuracy: 0.3054 - val_loss: 1.7434 - val_categorical_accuracy: 0.2375\n",
            "\n",
            "Epoch 00003: val_categorical_accuracy improved from 0.20950 to 0.23754, saving model to cnn_weights_best.hdf5\n",
            "Epoch 4/10\n",
            "10240/10240 [==============================] - 1s 51us/step - loss: 1.6104 - categorical_accuracy: 0.3422 - val_loss: 1.7089 - val_categorical_accuracy: 0.2593\n",
            "\n",
            "Epoch 00004: val_categorical_accuracy improved from 0.23754 to 0.25935, saving model to cnn_weights_best.hdf5\n",
            "Epoch 5/10\n",
            "10240/10240 [==============================] - 1s 50us/step - loss: 1.5501 - categorical_accuracy: 0.3696 - val_loss: 1.8184 - val_categorical_accuracy: 0.2414\n",
            "\n",
            "Epoch 00005: val_categorical_accuracy did not improve from 0.25935\n",
            "Epoch 6/10\n",
            "10240/10240 [==============================] - 1s 51us/step - loss: 1.4865 - categorical_accuracy: 0.4177 - val_loss: 1.8952 - val_categorical_accuracy: 0.2188\n",
            "\n",
            "Epoch 00006: val_categorical_accuracy did not improve from 0.25935\n",
            "Epoch 7/10\n",
            "10240/10240 [==============================] - 1s 50us/step - loss: 1.4216 - categorical_accuracy: 0.4470 - val_loss: 1.8248 - val_categorical_accuracy: 0.2492\n",
            "\n",
            "Epoch 00007: val_categorical_accuracy did not improve from 0.25935\n",
            "Epoch 8/10\n",
            "10240/10240 [==============================] - 0s 48us/step - loss: 1.3563 - categorical_accuracy: 0.4896 - val_loss: 1.7333 - val_categorical_accuracy: 0.2625\n",
            "\n",
            "Epoch 00008: val_categorical_accuracy improved from 0.25935 to 0.26246, saving model to cnn_weights_best.hdf5\n",
            "Epoch 9/10\n",
            "10240/10240 [==============================] - 0s 48us/step - loss: 1.2704 - categorical_accuracy: 0.5322 - val_loss: 2.2098 - val_categorical_accuracy: 0.1939\n",
            "\n",
            "Epoch 00009: val_categorical_accuracy did not improve from 0.26246\n",
            "Epoch 10/10\n",
            "10240/10240 [==============================] - 0s 48us/step - loss: 1.2063 - categorical_accuracy: 0.5654 - val_loss: 1.8807 - val_categorical_accuracy: 0.2290\n",
            "\n",
            "Epoch 00010: val_categorical_accuracy did not improve from 0.26246\n"
          ],
          "name": "stdout"
        }
      ]
    },
    {
      "cell_type": "code",
      "metadata": {
        "id": "sd6TQobqhUGD",
        "colab_type": "code",
        "outputId": "49862fe3-d155-46f9-ff7c-21c06190c1d5",
        "colab": {
          "base_uri": "https://localhost:8080/",
          "height": 85
        }
      },
      "source": [
        "(fw, tb) = evaluate('cnn', use_pos, use_meta, use_dep)"
      ],
      "execution_count": 0,
      "outputs": [
        {
          "output_type": "stream",
          "text": [
            "1267/1267 [==============================] - 1s 673us/sample\n",
            "True\n",
            "Correctly Predicted :  294 / 1267\n",
            "Accuracy :  23.204419889502763\n"
          ],
          "name": "stdout"
        }
      ]
    },
    {
      "cell_type": "code",
      "metadata": {
        "id": "dq9vipJThn9t",
        "colab_type": "code",
        "outputId": "e1fa5587-40f8-4761-b78d-be508745485c",
        "colab": {
          "base_uri": "https://localhost:8080/",
          "height": 4695
        }
      },
      "source": [
        "print_best_false_true_predicted(fw, tb)"
      ],
      "execution_count": 0,
      "outputs": [
        {
          "output_type": "stream",
          "text": [
            "*****************************************************************\n",
            "******************** False statements *************************\n",
            "0.72934276\n",
            "id             6045.json                                                                                                                                                             \n",
            "label          pants-fire                                                                                                                                                            \n",
            "statement      Says Hawaii Gov. Neil Abercrombie made a late-night visit to Kinkos to forge President Barack Obamas birth certificate two days before Obama unveiled it to the media.\n",
            "subject        obama-birth-certificate                                                                                                                                               \n",
            "speaker        chain-email                                                                                                                                                           \n",
            "job            NaN                                                                                                                                                                   \n",
            "state          NaN                                                                                                                                                                   \n",
            "party          none                                                                                                                                                                  \n",
            "barely-true    11                                                                                                                                                                    \n",
            "FALSE          43                                                                                                                                                                    \n",
            "half-true      8                                                                                                                                                                     \n",
            "mostly-true    5                                                                                                                                                                     \n",
            "pants-fire     105                                                                                                                                                                   \n",
            "venue          e-mail messages circulating on the Internet                                                                                                                           \n",
            "output         0                                                                                                                                                                     \n",
            "speaker_id     7                                                                                                                                                                     \n",
            "job_id         12                                                                                                                                                                    \n",
            "party_id       2                                                                                                                                                                     \n",
            "state_id       16                                                                                                                                                                    \n",
            "subject_id     14                                                                                                                                                                    \n",
            "venue_id       10                                                                                                                                                                    \n",
            "word_id        [7, 4578, 138, 231, 2150, 1791, 2731, 34, 78, 230, 746, 3814, 120, 390, 27, 8465, 874]                                                                                \n",
            "pos_id         [1, 3, 3, 3, 3, 1, 5, 6, 4, 0, 0, 2, 3, 9, 1, 3, 3, 3, 0, 0, 7, 0, 2, 3, 1, 9, 2, 5, 0, 4]                                                                            \n",
            "dep_id         [6, 3, 3, 3, 5, 10, 4, 7, 0, 3, 8, 1, 2, 9, 10, 3, 3, 3, 3, 8, 10, 10, 10, 5, 10, 8, 1, 4, 2, 0]                                                                      \n",
            "Name: 1234, dtype: object\n",
            "=============\n",
            "0.68469256\n",
            "id             9051.json                                                                                                                                                                                                                    \n",
            "label          pants-fire                                                                                                                                                                                                                   \n",
            "statement      Says President Barack Obama told a room of students, Children, every time I clap my hands together, a child in America dies from gun violence, and then a child told him he could solve the problem by not clapping any more.\n",
            "subject        guns                                                                                                                                                                                                                         \n",
            "speaker        chain-email                                                                                                                                                                                                                  \n",
            "job            NaN                                                                                                                                                                                                                          \n",
            "state          NaN                                                                                                                                                                                                                          \n",
            "party          none                                                                                                                                                                                                                         \n",
            "barely-true    11                                                                                                                                                                                                                           \n",
            "FALSE          43                                                                                                                                                                                                                           \n",
            "half-true      8                                                                                                                                                                                                                            \n",
            "mostly-true    5                                                                                                                                                                                                                            \n",
            "pants-fire     105                                                                                                                                                                                                                          \n",
            "venue          a chain email                                                                                                                                                                                                                \n",
            "output         0                                                                                                                                                                                                                            \n",
            "speaker_id     7                                                                                                                                                                                                                            \n",
            "job_id         12                                                                                                                                                                                                                           \n",
            "party_id       2                                                                                                                                                                                                                            \n",
            "state_id       16                                                                                                                                                                                                                           \n",
            "subject_id     7                                                                                                                                                                                                                            \n",
            "venue_id       10                                                                                                                                                                                                                           \n",
            "word_id        [7, 34, 78, 27, 598, 2323, 293, 232, 70, 95, 46, 1957, 1057, 449, 137, 4677, 205, 617, 449, 598, 156, 8435, 1078, 18]                                                                                                        \n",
            "pos_id         [1, 3, 3, 3, 1, 5, 0, 2, 0, 4, 3, 4, 5, 0, 9, 1, 6, 0, 8, 4, 5, 0, 2, 3, 1, 2, 0, 0, 4, 9, 8, 5, 0, 1, 9, 9, 1, 1, 5, 0, 2, 8, 1, 5, 8, 4]                                                                                   \n",
            "dep_id         [6, 3, 3, 5, 10, 4, 8, 1, 2, 0, 10, 0, 4, 10, 5, 10, 10, 8, 10, 0, 4, 5, 1, 2, 10, 1, 3, 2, 0, 10, 10, 4, 5, 10, 8, 5, 9, 10, 4, 8, 1, 10, 10, 10, 8, 0]                                                                     \n",
            "Name: 158, dtype: object\n",
            "=============\n",
            "0.6163558\n",
            "id             8352.json                                                  \n",
            "label          pants-fire                                                 \n",
            "statement      Obama Declares November National Muslim Appreciation Month.\n",
            "subject        islam,religion                                             \n",
            "speaker        blog-posting                                               \n",
            "job            NaN                                                        \n",
            "state          NaN                                                        \n",
            "party          none                                                       \n",
            "barely-true    7                                                          \n",
            "FALSE          19                                                         \n",
            "half-true      3                                                          \n",
            "mostly-true    5                                                          \n",
            "pants-fire     44                                                         \n",
            "venue          blog posts                                                 \n",
            "output         0                                                          \n",
            "speaker_id     13                                                         \n",
            "job_id         12                                                         \n",
            "party_id       2                                                          \n",
            "state_id       16                                                         \n",
            "subject_id     14                                                         \n",
            "venue_id       11                                                         \n",
            "word_id        [27, 1252, 139, 788, 398]                                  \n",
            "pos_id         [3, 1, 3, 3, 3, 3, 3, 4]                                   \n",
            "dep_id         [3, 6, 10, 3, 3, 3, 10, 0]                                 \n",
            "Name: 1031, dtype: object\n",
            "=============\n",
            "0.59582144\n",
            "id             9095.json                                                                                                                                                                                                       \n",
            "label          pants-fire                                                                                                                                                                                                      \n",
            "statement      Says Marco Rubio believes the earth is 9,000 years old and that humans hunted dinosaurs to extinction; says Rand Paul believes the earth is 10,000 years old and God removed dinosaurs to make space for humans.\n",
            "subject        religion,science                                                                                                                                                                                                \n",
            "speaker        facebook-posts                                                                                                                                                                                                  \n",
            "job            Social media posting                                                                                                                                                                                            \n",
            "state          NaN                                                                                                                                                                                                             \n",
            "party          none                                                                                                                                                                                                            \n",
            "barely-true    14                                                                                                                                                                                                              \n",
            "FALSE          18                                                                                                                                                                                                              \n",
            "half-true      15                                                                                                                                                                                                              \n",
            "mostly-true    11                                                                                                                                                                                                              \n",
            "pants-fire     36                                                                                                                                                                                                              \n",
            "venue          a post from Being Liberal                                                                                                                                                                                       \n",
            "output         0                                                                                                                                                                                                               \n",
            "speaker_id     13                                                                                                                                                                                                              \n",
            "job_id         6                                                                                                                                                                                                               \n",
            "party_id       2                                                                                                                                                                                                               \n",
            "state_id       16                                                                                                                                                                                                              \n",
            "subject_id     14                                                                                                                                                                                                              \n",
            "venue_id       13                                                                                                                                                                                                              \n",
            "word_id        [7, 547, 548, 1558, 955, 312, 25, 33, 597, 2053, 10463, 7, 2551, 425, 1558, 955, 97, 25, 33, 597, 2685, 1971, 10463, 212, 1551, 2053]                                                                           \n",
            "pos_id         [1, 3, 3, 1, 5, 0, 1, 7, 0, 6, 9, 2, 0, 1, 0, 2, 0, 4, 1, 3, 3, 1, 5, 0, 1, 7, 0, 6, 9, 3, 1, 0, 9, 1, 0, 2, 0, 4]                                                                                              \n",
            "dep_id         [10, 3, 5, 10, 4, 5, 10, 10, 10, 10, 10, 10, 5, 10, 8, 1, 2, 0, 6, 3, 5, 10, 4, 5, 10, 10, 10, 10, 10, 5, 10, 8, 9, 10, 8, 1, 2, 0]                                                                             \n",
            "Name: 687, dtype: object\n",
            "=============\n",
            "0.5919031\n",
            "id             13125.json                                                                                                   \n",
            "label          barely-true                                                                                                  \n",
            "statement      I did not I did not I do not say that. I do not say that climate change is a hoax perpetrated by the Chinese.\n",
            "subject        candidates-biography,china,climate-change,economy,energy,environment,history,science                         \n",
            "speaker        donald-trump                                                                                                 \n",
            "job            President-Elect                                                                                              \n",
            "state          New York                                                                                                     \n",
            "party          republican                                                                                                   \n",
            "barely-true    63                                                                                                           \n",
            "FALSE          114                                                                                                          \n",
            "half-true      51                                                                                                           \n",
            "mostly-true    37                                                                                                           \n",
            "pants-fire     61                                                                                                           \n",
            "venue          a presidential debate                                                                                        \n",
            "output         2                                                                                                            \n",
            "speaker_id     1                                                                                                            \n",
            "job_id         1                                                                                                            \n",
            "party_id       0                                                                                                            \n",
            "state_id       4                                                                                                            \n",
            "subject_id     9                                                                                                            \n",
            "venue_id       7                                                                                                            \n",
            "word_id        [46, 46, 46, 302, 9, 46, 302, 616, 417, 5789, 9956, 1255]                                                    \n",
            "pos_id         [9, 1, 8, 9, 1, 8, 9, 1, 8, 1, 5, 4, 9, 1, 8, 1, 5, 0, 0, 1, 5, 0, 1, 2, 5, 3, 4]                            \n",
            "dep_id         [5, 9, 10, 5, 6, 10, 5, 9, 10, 6, 8, 0, 5, 9, 10, 6, 10, 3, 5, 10, 4, 10, 10, 10, 4, 2, 0]                   \n",
            "Name: 136, dtype: object\n",
            "=============\n",
            "*****************************************************************\n",
            "******************** True Statements *************************\n",
            "0.7988312\n",
            "id             11654.json                                                                                                                                                                                                                                 \n",
            "label          mostly-true                                                                                                                                                                                                                                \n",
            "statement      In almost every other country in the world, artists and musicians are paid when their music is played on the radio. In fact, the only countries besides the U.S. who do not have a radio-performance right are China, Iran and North Korea.\n",
            "subject        china,congress,workers                                                                                                                                                                                                                     \n",
            "speaker        kevin-russell                                                                                                                                                                                                                              \n",
            "job            Leader, Shinyribs band                                                                                                                                                                                                                     \n",
            "state          Texas                                                                                                                                                                                                                                      \n",
            "party          none                                                                                                                                                                                                                                       \n",
            "barely-true    0                                                                                                                                                                                                                                          \n",
            "FALSE          0                                                                                                                                                                                                                                          \n",
            "half-true      0                                                                                                                                                                                                                                          \n",
            "mostly-true    1                                                                                                                                                                                                                                          \n",
            "pants-fire     0                                                                                                                                                                                                                                          \n",
            "venue          an opinion column                                                                                                                                                                                                                          \n",
            "output         4                                                                                                                                                                                                                                          \n",
            "speaker_id     17                                                                                                                                                                                                                                         \n",
            "job_id         12                                                                                                                                                                                                                                         \n",
            "party_id       2                                                                                                                                                                                                                                          \n",
            "state_id       1                                                                                                                                                                                                                                          \n",
            "subject_id     14                                                                                                                                                                                                                                         \n",
            "venue_id       13                                                                                                                                                                                                                                         \n",
            "word_id        [2, 218, 70, 86, 148, 8165, 229, 4549, 1990, 3298, 2, 472, 344, 10515, 55, 56, 3298, 6875, 149, 340, 416, 578, 1480]                                                                                                                       \n",
            "pos_id         [2, 8, 5, 6, 0, 2, 5, 0, 4, 0, 9, 0, 1, 1, 8, 6, 0, 1, 1, 2, 5, 0, 4, 2, 0, 4, 5, 6, 0, 2, 5, 3, 0, 1, 8, 1, 5, 0, 4, 0, 0, 1, 3, 4, 3, 9, 3, 3, 4]                                                                                        \n",
            "dep_id         [1, 10, 10, 7, 2, 1, 4, 2, 0, 10, 10, 10, 10, 6, 10, 10, 10, 10, 10, 1, 4, 2, 0, 1, 2, 0, 4, 7, 5, 1, 4, 2, 5, 9, 10, 10, 4, 3, 0, 3, 8, 6, 10, 0, 10, 10, 3, 10, 0]                                                                       \n",
            "Name: 1178, dtype: object\n",
            "=============\n",
            "0.6595043\n",
            "id             3541.json                                                                                                                  \n",
            "label          half-true                                                                                                                  \n",
            "statement      Across the United States, 25 percent of voting age African Americans do not have the photo ID that this bill would require.\n",
            "subject        elections                                                                                                                  \n",
            "speaker        armond-budish                                                                                                              \n",
            "job            Minority leader in the Ohio House of Representatives                                                                       \n",
            "state          Ohio                                                                                                                       \n",
            "party          democrat                                                                                                                   \n",
            "barely-true    0                                                                                                                          \n",
            "FALSE          1                                                                                                                          \n",
            "half-true      2                                                                                                                          \n",
            "mostly-true    3                                                                                                                          \n",
            "pants-fire     0                                                                                                                          \n",
            "venue          NaN                                                                                                                        \n",
            "output         3                                                                                                                          \n",
            "speaker_id     17                                                                                                                         \n",
            "job_id         3                                                                                                                          \n",
            "party_id       1                                                                                                                          \n",
            "state_id       6                                                                                                                          \n",
            "subject_id     3                                                                                                                          \n",
            "venue_id       13                                                                                                                         \n",
            "word_id        [565, 90, 37, 311, 14, 329, 720, 439, 109, 1034, 835, 66, 39, 775]                                                         \n",
            "pos_id         [2, 5, 3, 3, 4, 7, 0, 2, 0, 0, 3, 3, 1, 8, 1, 5, 0, 3, 2, 5, 0, 1, 1, 4]                                                   \n",
            "dep_id         [1, 4, 3, 2, 0, 10, 5, 1, 3, 3, 3, 2, 9, 10, 6, 4, 3, 8, 8, 4, 5, 9, 10, 0]                                                \n",
            "Name: 733, dtype: object\n",
            "=============\n",
            "0.64891577\n",
            "id             7111.json                                                                                                      \n",
            "label          barely-true                                                                                                    \n",
            "statement      Says the initial Portland plastic bag ban represented only a modest share of total single-use checkout bag use.\n",
            "subject        city-government                                                                                                \n",
            "speaker        sam-adams                                                                                                      \n",
            "job            Mayor of Portland                                                                                              \n",
            "state          Oregon                                                                                                         \n",
            "party          democrat                                                                                                       \n",
            "barely-true    3                                                                                                              \n",
            "FALSE          2                                                                                                              \n",
            "half-true      5                                                                                                              \n",
            "mostly-true    2                                                                                                              \n",
            "pants-fire     0                                                                                                              \n",
            "venue          a proposed ordinance.                                                                                          \n",
            "output         2                                                                                                              \n",
            "speaker_id     17                                                                                                             \n",
            "job_id         7                                                                                                              \n",
            "party_id       1                                                                                                              \n",
            "state_id       10                                                                                                             \n",
            "subject_id     14                                                                                                             \n",
            "venue_id       13                                                                                                             \n",
            "word_id        [7, 5193, 1041, 6901, 4919, 471, 3855, 10725, 1095, 532, 284, 267, 4919, 267]                                  \n",
            "pos_id         [1, 5, 6, 3, 0, 0, 0, 1, 8, 5, 6, 0, 2, 6, 6, 4, 0, 0, 0, 0, 4]                                                \n",
            "dep_id         [6, 4, 7, 3, 3, 3, 5, 10, 10, 4, 7, 8, 1, 7, 7, 0, 3, 3, 3, 2, 0]                                              \n",
            "Name: 802, dtype: object\n",
            "=============\n",
            "0.6452842\n",
            "id             9435.json                                                                                                                                                                                       \n",
            "label          mostly-true                                                                                                                                                                                     \n",
            "statement      By the time I left the State Department, economic growth was up and opium production was down in Afghanistan, while infant mortality declined and school enrollment rose by more than sevenfold.\n",
            "subject        drugs,economy,education,foreign-policy,health-care,public-health,women                                                                                                                          \n",
            "speaker        hillary-clinton                                                                                                                                                                                 \n",
            "job            Presidential candidate                                                                                                                                                                          \n",
            "state          New York                                                                                                                                                                                        \n",
            "party          democrat                                                                                                                                                                                        \n",
            "barely-true    40                                                                                                                                                                                              \n",
            "FALSE          29                                                                                                                                                                                              \n",
            "half-true      69                                                                                                                                                                                              \n",
            "mostly-true    76                                                                                                                                                                                              \n",
            "pants-fire     7                                                                                                                                                                                               \n",
            "venue          her book, \"Hard Choices\"                                                                                                                                                                        \n",
            "output         4                                                                                                                                                                                               \n",
            "speaker_id     2                                                                                                                                                                                               \n",
            "job_id         1                                                                                                                                                                                               \n",
            "party_id       1                                                                                                                                                                                               \n",
            "state_id       4                                                                                                                                                                                               \n",
            "subject_id     6                                                                                                                                                                                               \n",
            "venue_id       13                                                                                                                                                                                              \n",
            "word_id        [20, 95, 46, 446, 21, 259, 325, 353, 1532, 750, 4021, 1950, 1854, 119, 4037, 2465]                                                                                                              \n",
            "pos_id         [2, 5, 0, 9, 1, 5, 3, 3, 4, 6, 0, 1, 8, 9, 0, 0, 1, 8, 2, 3, 4, 2, 0, 0, 1, 9, 0, 0, 1, 2, 6, 2, 0, 4]                                                                                          \n",
            "dep_id         [1, 4, 2, 5, 6, 4, 3, 8, 0, 7, 5, 10, 10, 10, 3, 5, 10, 10, 1, 2, 0, 10, 3, 5, 10, 10, 3, 5, 10, 1, 2, 1, 2, 0]                                                                                 \n",
            "Name: 718, dtype: object\n",
            "=============\n",
            "0.6439676\n",
            "id             12855.json                                                                                                                                                                                                                                                                                       \n",
            "label          TRUE                                                                                                                                                                                                                                                                                             \n",
            "statement      Illinois suffered 1,652 overdose deaths in 2014 ... of which 40 percent were associated with heroin. Illinois is ranked number one in the nation for a decline in treatment capacity between 2007 and 2012, and is now ranked the third worst in the country for state-funded treatment capacity.\n",
            "subject        drugs                                                                                                                                                                                                                                                                                            \n",
            "speaker        richard-durbin                                                                                                                                                                                                                                                                                   \n",
            "job            Senator                                                                                                                                                                                                                                                                                          \n",
            "state          Illinois                                                                                                                                                                                                                                                                                         \n",
            "party          democrat                                                                                                                                                                                                                                                                                         \n",
            "barely-true    0                                                                                                                                                                                                                                                                                                \n",
            "FALSE          2                                                                                                                                                                                                                                                                                                \n",
            "half-true      1                                                                                                                                                                                                                                                                                                \n",
            "mostly-true    0                                                                                                                                                                                                                                                                                                \n",
            "pants-fire     1                                                                                                                                                                                                                                                                                                \n",
            "venue          a press release                                                                                                                                                                                                                                                                                  \n",
            "output         5                                                                                                                                                                                                                                                                                                \n",
            "speaker_id     17                                                                                                                                                                                                                                                                                               \n",
            "job_id         0                                                                                                                                                                                                                                                                                                \n",
            "party_id       1                                                                                                                                                                                                                                                                                                \n",
            "state_id       5                                                                                                                                                                                                                                                                                                \n",
            "subject_id     14                                                                                                                                                                                                                                                                                               \n",
            "venue_id       2                                                                                                                                                                                                                                                                                                \n",
            "word_id        [787, 4556, 60, 6944, 1084, 753, 214, 14, 1757, 2393, 787, 1251, 216, 45, 204, 2091, 1561, 3184, 791, 376, 1251, 444, 545, 86, 21, 618, 1561, 3184]                                                                                                                                              \n",
            "pos_id         [3, 1, 7, 6, 0, 2, 7, 4, 2, 6, 7, 0, 1, 1, 2, 0, 4, 3, 1, 1, 0, 7, 2, 5, 0, 2, 5, 0, 2, 0, 0, 2, 7, 9, 7, 4, 9, 1, 8, 1, 5, 8, 6, 2, 5, 0, 2, 0, 4, 1, 0, 0, 4]                                                                                                                                  \n",
            "dep_id         [5, 6, 10, 3, 8, 1, 2, 0, 1, 2, 10, 10, 10, 10, 1, 2, 0, 10, 10, 6, 3, 10, 1, 4, 2, 1, 4, 2, 1, 3, 2, 1, 2, 10, 10, 0, 10, 10, 10, 10, 4, 7, 10, 1, 4, 2, 1, 10, 0, 7, 3, 2, 0]                                                                                                                  \n",
            "Name: 744, dtype: object\n",
            "=============\n"
          ],
          "name": "stdout"
        }
      ]
    },
    {
      "cell_type": "code",
      "metadata": {
        "id": "F8XR-q1TjC5b",
        "colab_type": "code",
        "outputId": "219f3d17-c8f9-45a3-96da-9e752081f3e1",
        "colab": {
          "base_uri": "https://localhost:8080/",
          "height": 889
        }
      },
      "source": [
        "plot_model(model_cnn, to_file='model_lstm.png', show_shapes=True, show_layer_names=True)\n",
        "SVG(model_to_dot(model_cnn,show_shapes=True).create(prog='dot', format='svg'))\n",
        "#print model_cnn.summary()"
      ],
      "execution_count": 0,
      "outputs": [
        {
          "output_type": "execute_result",
          "data": {
            "text/plain": [
              "<IPython.core.display.SVG object>"
            ],
            "image/svg+xml": "<svg height=\"636pt\" viewBox=\"0.00 0.00 2972.00 636.00\" width=\"2972pt\" xmlns=\"http://www.w3.org/2000/svg\" xmlns:xlink=\"http://www.w3.org/1999/xlink\">\n<g class=\"graph\" id=\"graph0\" transform=\"scale(1 1) rotate(0) translate(4 632)\">\n<title>G</title>\n<polygon fill=\"#ffffff\" points=\"-4,4 -4,-632 2968,-632 2968,4 -4,4\" stroke=\"transparent\"/>\n<!-- 139786938064464 -->\n<g class=\"node\" id=\"node1\">\n<title>139786938064464</title>\n<polygon fill=\"none\" points=\"590.5,-581.5 590.5,-627.5 882.5,-627.5 882.5,-581.5 590.5,-581.5\" stroke=\"#000000\"/>\n<text fill=\"#000000\" font-family=\"Times,serif\" font-size=\"14.00\" text-anchor=\"middle\" x=\"667.5\" y=\"-600.8\">main_input: InputLayer</text>\n<polyline fill=\"none\" points=\"744.5,-581.5 744.5,-627.5 \" stroke=\"#000000\"/>\n<text fill=\"#000000\" font-family=\"Times,serif\" font-size=\"14.00\" text-anchor=\"middle\" x=\"773.5\" y=\"-612.3\">input:</text>\n<polyline fill=\"none\" points=\"744.5,-604.5 802.5,-604.5 \" stroke=\"#000000\"/>\n<text fill=\"#000000\" font-family=\"Times,serif\" font-size=\"14.00\" text-anchor=\"middle\" x=\"773.5\" y=\"-589.3\">output:</text>\n<polyline fill=\"none\" points=\"802.5,-581.5 802.5,-627.5 \" stroke=\"#000000\"/>\n<text fill=\"#000000\" font-family=\"Times,serif\" font-size=\"14.00\" text-anchor=\"middle\" x=\"842.5\" y=\"-612.3\">(None, 15)</text>\n<polyline fill=\"none\" points=\"802.5,-604.5 882.5,-604.5 \" stroke=\"#000000\"/>\n<text fill=\"#000000\" font-family=\"Times,serif\" font-size=\"14.00\" text-anchor=\"middle\" x=\"842.5\" y=\"-589.3\">(None, 15)</text>\n</g>\n<!-- 139786938061008 -->\n<g class=\"node\" id=\"node3\">\n<title>139786938061008</title>\n<polygon fill=\"none\" points=\"563,-498.5 563,-544.5 910,-544.5 910,-498.5 563,-498.5\" stroke=\"#000000\"/>\n<text fill=\"#000000\" font-family=\"Times,serif\" font-size=\"14.00\" text-anchor=\"middle\" x=\"652.5\" y=\"-517.8\">embedding_30: Embedding</text>\n<polyline fill=\"none\" points=\"742,-498.5 742,-544.5 \" stroke=\"#000000\"/>\n<text fill=\"#000000\" font-family=\"Times,serif\" font-size=\"14.00\" text-anchor=\"middle\" x=\"771\" y=\"-529.3\">input:</text>\n<polyline fill=\"none\" points=\"742,-521.5 800,-521.5 \" stroke=\"#000000\"/>\n<text fill=\"#000000\" font-family=\"Times,serif\" font-size=\"14.00\" text-anchor=\"middle\" x=\"771\" y=\"-506.3\">output:</text>\n<polyline fill=\"none\" points=\"800,-498.5 800,-544.5 \" stroke=\"#000000\"/>\n<text fill=\"#000000\" font-family=\"Times,serif\" font-size=\"14.00\" text-anchor=\"middle\" x=\"855\" y=\"-529.3\">(None, 15)</text>\n<polyline fill=\"none\" points=\"800,-521.5 910,-521.5 \" stroke=\"#000000\"/>\n<text fill=\"#000000\" font-family=\"Times,serif\" font-size=\"14.00\" text-anchor=\"middle\" x=\"855\" y=\"-506.3\">(None, 15, 100)</text>\n</g>\n<!-- 139786938064464&#45;&gt;139786938061008 -->\n<g class=\"edge\" id=\"edge1\">\n<title>139786938064464-&gt;139786938061008</title>\n<path d=\"M736.5,-581.3799C736.5,-573.1745 736.5,-563.7679 736.5,-554.8786\" fill=\"none\" stroke=\"#000000\"/>\n<polygon fill=\"#000000\" points=\"740.0001,-554.784 736.5,-544.784 733.0001,-554.784 740.0001,-554.784\" stroke=\"#000000\"/>\n</g>\n<!-- 139786938064720 -->\n<g class=\"node\" id=\"node2\">\n<title>139786938064720</title>\n<polygon fill=\"none\" points=\"2085.5,-581.5 2085.5,-627.5 2369.5,-627.5 2369.5,-581.5 2085.5,-581.5\" stroke=\"#000000\"/>\n<text fill=\"#000000\" font-family=\"Times,serif\" font-size=\"14.00\" text-anchor=\"middle\" x=\"2158.5\" y=\"-600.8\">dep_input: InputLayer</text>\n<polyline fill=\"none\" points=\"2231.5,-581.5 2231.5,-627.5 \" stroke=\"#000000\"/>\n<text fill=\"#000000\" font-family=\"Times,serif\" font-size=\"14.00\" text-anchor=\"middle\" x=\"2260.5\" y=\"-612.3\">input:</text>\n<polyline fill=\"none\" points=\"2231.5,-604.5 2289.5,-604.5 \" stroke=\"#000000\"/>\n<text fill=\"#000000\" font-family=\"Times,serif\" font-size=\"14.00\" text-anchor=\"middle\" x=\"2260.5\" y=\"-589.3\">output:</text>\n<polyline fill=\"none\" points=\"2289.5,-581.5 2289.5,-627.5 \" stroke=\"#000000\"/>\n<text fill=\"#000000\" font-family=\"Times,serif\" font-size=\"14.00\" text-anchor=\"middle\" x=\"2329.5\" y=\"-612.3\">(None, 15)</text>\n<polyline fill=\"none\" points=\"2289.5,-604.5 2369.5,-604.5 \" stroke=\"#000000\"/>\n<text fill=\"#000000\" font-family=\"Times,serif\" font-size=\"14.00\" text-anchor=\"middle\" x=\"2329.5\" y=\"-589.3\">(None, 15)</text>\n</g>\n<!-- 139786938064592 -->\n<g class=\"node\" id=\"node4\">\n<title>139786938064592</title>\n<polygon fill=\"none\" points=\"2058,-498.5 2058,-544.5 2397,-544.5 2397,-498.5 2058,-498.5\" stroke=\"#000000\"/>\n<text fill=\"#000000\" font-family=\"Times,serif\" font-size=\"14.00\" text-anchor=\"middle\" x=\"2147.5\" y=\"-517.8\">embedding_32: Embedding</text>\n<polyline fill=\"none\" points=\"2237,-498.5 2237,-544.5 \" stroke=\"#000000\"/>\n<text fill=\"#000000\" font-family=\"Times,serif\" font-size=\"14.00\" text-anchor=\"middle\" x=\"2266\" y=\"-529.3\">input:</text>\n<polyline fill=\"none\" points=\"2237,-521.5 2295,-521.5 \" stroke=\"#000000\"/>\n<text fill=\"#000000\" font-family=\"Times,serif\" font-size=\"14.00\" text-anchor=\"middle\" x=\"2266\" y=\"-506.3\">output:</text>\n<polyline fill=\"none\" points=\"2295,-498.5 2295,-544.5 \" stroke=\"#000000\"/>\n<text fill=\"#000000\" font-family=\"Times,serif\" font-size=\"14.00\" text-anchor=\"middle\" x=\"2346\" y=\"-529.3\">(None, 15)</text>\n<polyline fill=\"none\" points=\"2295,-521.5 2397,-521.5 \" stroke=\"#000000\"/>\n<text fill=\"#000000\" font-family=\"Times,serif\" font-size=\"14.00\" text-anchor=\"middle\" x=\"2346\" y=\"-506.3\">(None, 15, 10)</text>\n</g>\n<!-- 139786938064720&#45;&gt;139786938064592 -->\n<g class=\"edge\" id=\"edge2\">\n<title>139786938064720-&gt;139786938064592</title>\n<path d=\"M2227.5,-581.3799C2227.5,-573.1745 2227.5,-563.7679 2227.5,-554.8786\" fill=\"none\" stroke=\"#000000\"/>\n<polygon fill=\"#000000\" points=\"2231.0001,-554.784 2227.5,-544.784 2224.0001,-554.784 2231.0001,-554.784\" stroke=\"#000000\"/>\n</g>\n<!-- 139786938168464 -->\n<g class=\"node\" id=\"node5\">\n<title>139786938168464</title>\n<polygon fill=\"none\" points=\"171.5,-415.5 171.5,-461.5 479.5,-461.5 479.5,-415.5 171.5,-415.5\" stroke=\"#000000\"/>\n<text fill=\"#000000\" font-family=\"Times,serif\" font-size=\"14.00\" text-anchor=\"middle\" x=\"241.5\" y=\"-434.8\">conv1d_28: Conv1D</text>\n<polyline fill=\"none\" points=\"311.5,-415.5 311.5,-461.5 \" stroke=\"#000000\"/>\n<text fill=\"#000000\" font-family=\"Times,serif\" font-size=\"14.00\" text-anchor=\"middle\" x=\"340.5\" y=\"-446.3\">input:</text>\n<polyline fill=\"none\" points=\"311.5,-438.5 369.5,-438.5 \" stroke=\"#000000\"/>\n<text fill=\"#000000\" font-family=\"Times,serif\" font-size=\"14.00\" text-anchor=\"middle\" x=\"340.5\" y=\"-423.3\">output:</text>\n<polyline fill=\"none\" points=\"369.5,-415.5 369.5,-461.5 \" stroke=\"#000000\"/>\n<text fill=\"#000000\" font-family=\"Times,serif\" font-size=\"14.00\" text-anchor=\"middle\" x=\"424.5\" y=\"-446.3\">(None, 15, 100)</text>\n<polyline fill=\"none\" points=\"369.5,-438.5 479.5,-438.5 \" stroke=\"#000000\"/>\n<text fill=\"#000000\" font-family=\"Times,serif\" font-size=\"14.00\" text-anchor=\"middle\" x=\"424.5\" y=\"-423.3\">(None, 13, 128)</text>\n</g>\n<!-- 139786938061008&#45;&gt;139786938168464 -->\n<g class=\"edge\" id=\"edge3\">\n<title>139786938061008-&gt;139786938168464</title>\n<path d=\"M622.5594,-498.4901C568.7732,-487.6282 504.4683,-474.642 449.4648,-463.5343\" fill=\"none\" stroke=\"#000000\"/>\n<polygon fill=\"#000000\" points=\"450.1572,-460.1035 439.6623,-461.5547 448.7715,-466.965 450.1572,-460.1035\" stroke=\"#000000\"/>\n</g>\n<!-- 139786936064272 -->\n<g class=\"node\" id=\"node6\">\n<title>139786936064272</title>\n<polygon fill=\"none\" points=\"582.5,-415.5 582.5,-461.5 890.5,-461.5 890.5,-415.5 582.5,-415.5\" stroke=\"#000000\"/>\n<text fill=\"#000000\" font-family=\"Times,serif\" font-size=\"14.00\" text-anchor=\"middle\" x=\"652.5\" y=\"-434.8\">conv1d_31: Conv1D</text>\n<polyline fill=\"none\" points=\"722.5,-415.5 722.5,-461.5 \" stroke=\"#000000\"/>\n<text fill=\"#000000\" font-family=\"Times,serif\" font-size=\"14.00\" text-anchor=\"middle\" x=\"751.5\" y=\"-446.3\">input:</text>\n<polyline fill=\"none\" points=\"722.5,-438.5 780.5,-438.5 \" stroke=\"#000000\"/>\n<text fill=\"#000000\" font-family=\"Times,serif\" font-size=\"14.00\" text-anchor=\"middle\" x=\"751.5\" y=\"-423.3\">output:</text>\n<polyline fill=\"none\" points=\"780.5,-415.5 780.5,-461.5 \" stroke=\"#000000\"/>\n<text fill=\"#000000\" font-family=\"Times,serif\" font-size=\"14.00\" text-anchor=\"middle\" x=\"835.5\" y=\"-446.3\">(None, 15, 100)</text>\n<polyline fill=\"none\" points=\"780.5,-438.5 890.5,-438.5 \" stroke=\"#000000\"/>\n<text fill=\"#000000\" font-family=\"Times,serif\" font-size=\"14.00\" text-anchor=\"middle\" x=\"835.5\" y=\"-423.3\">(None, 13, 128)</text>\n</g>\n<!-- 139786938061008&#45;&gt;139786936064272 -->\n<g class=\"edge\" id=\"edge4\">\n<title>139786938061008-&gt;139786936064272</title>\n<path d=\"M736.5,-498.3799C736.5,-490.1745 736.5,-480.7679 736.5,-471.8786\" fill=\"none\" stroke=\"#000000\"/>\n<polygon fill=\"#000000\" points=\"740.0001,-471.784 736.5,-461.784 733.0001,-471.784 740.0001,-471.784\" stroke=\"#000000\"/>\n</g>\n<!-- 139786935632016 -->\n<g class=\"node\" id=\"node7\">\n<title>139786935632016</title>\n<polygon fill=\"none\" points=\"993.5,-415.5 993.5,-461.5 1301.5,-461.5 1301.5,-415.5 993.5,-415.5\" stroke=\"#000000\"/>\n<text fill=\"#000000\" font-family=\"Times,serif\" font-size=\"14.00\" text-anchor=\"middle\" x=\"1063.5\" y=\"-434.8\">conv1d_34: Conv1D</text>\n<polyline fill=\"none\" points=\"1133.5,-415.5 1133.5,-461.5 \" stroke=\"#000000\"/>\n<text fill=\"#000000\" font-family=\"Times,serif\" font-size=\"14.00\" text-anchor=\"middle\" x=\"1162.5\" y=\"-446.3\">input:</text>\n<polyline fill=\"none\" points=\"1133.5,-438.5 1191.5,-438.5 \" stroke=\"#000000\"/>\n<text fill=\"#000000\" font-family=\"Times,serif\" font-size=\"14.00\" text-anchor=\"middle\" x=\"1162.5\" y=\"-423.3\">output:</text>\n<polyline fill=\"none\" points=\"1191.5,-415.5 1191.5,-461.5 \" stroke=\"#000000\"/>\n<text fill=\"#000000\" font-family=\"Times,serif\" font-size=\"14.00\" text-anchor=\"middle\" x=\"1246.5\" y=\"-446.3\">(None, 15, 100)</text>\n<polyline fill=\"none\" points=\"1191.5,-438.5 1301.5,-438.5 \" stroke=\"#000000\"/>\n<text fill=\"#000000\" font-family=\"Times,serif\" font-size=\"14.00\" text-anchor=\"middle\" x=\"1246.5\" y=\"-423.3\">(None, 13, 128)</text>\n</g>\n<!-- 139786938061008&#45;&gt;139786935632016 -->\n<g class=\"edge\" id=\"edge5\">\n<title>139786938061008-&gt;139786935632016</title>\n<path d=\"M850.4406,-498.4901C904.2268,-487.6282 968.5317,-474.642 1023.5352,-463.5343\" fill=\"none\" stroke=\"#000000\"/>\n<polygon fill=\"#000000\" points=\"1024.2285,-466.965 1033.3377,-461.5547 1022.8428,-460.1035 1024.2285,-466.965\" stroke=\"#000000\"/>\n</g>\n<!-- 139786936451472 -->\n<g class=\"node\" id=\"node8\">\n<title>139786936451472</title>\n<polygon fill=\"none\" points=\"1662.5,-415.5 1662.5,-461.5 1970.5,-461.5 1970.5,-415.5 1662.5,-415.5\" stroke=\"#000000\"/>\n<text fill=\"#000000\" font-family=\"Times,serif\" font-size=\"14.00\" text-anchor=\"middle\" x=\"1732.5\" y=\"-434.8\">conv1d_30: Conv1D</text>\n<polyline fill=\"none\" points=\"1802.5,-415.5 1802.5,-461.5 \" stroke=\"#000000\"/>\n<text fill=\"#000000\" font-family=\"Times,serif\" font-size=\"14.00\" text-anchor=\"middle\" x=\"1831.5\" y=\"-446.3\">input:</text>\n<polyline fill=\"none\" points=\"1802.5,-438.5 1860.5,-438.5 \" stroke=\"#000000\"/>\n<text fill=\"#000000\" font-family=\"Times,serif\" font-size=\"14.00\" text-anchor=\"middle\" x=\"1831.5\" y=\"-423.3\">output:</text>\n<polyline fill=\"none\" points=\"1860.5,-415.5 1860.5,-461.5 \" stroke=\"#000000\"/>\n<text fill=\"#000000\" font-family=\"Times,serif\" font-size=\"14.00\" text-anchor=\"middle\" x=\"1915.5\" y=\"-446.3\">(None, 15, 10)</text>\n<polyline fill=\"none\" points=\"1860.5,-438.5 1970.5,-438.5 \" stroke=\"#000000\"/>\n<text fill=\"#000000\" font-family=\"Times,serif\" font-size=\"14.00\" text-anchor=\"middle\" x=\"1915.5\" y=\"-423.3\">(None, 13, 128)</text>\n</g>\n<!-- 139786938064592&#45;&gt;139786936451472 -->\n<g class=\"edge\" id=\"edge6\">\n<title>139786938064592-&gt;139786936451472</title>\n<path d=\"M2113.5594,-498.4901C2059.7732,-487.6282 1995.4683,-474.642 1940.4648,-463.5343\" fill=\"none\" stroke=\"#000000\"/>\n<polygon fill=\"#000000\" points=\"1941.1572,-460.1035 1930.6623,-461.5547 1939.7715,-466.965 1941.1572,-460.1035\" stroke=\"#000000\"/>\n</g>\n<!-- 139786935916944 -->\n<g class=\"node\" id=\"node9\">\n<title>139786935916944</title>\n<polygon fill=\"none\" points=\"2073.5,-415.5 2073.5,-461.5 2381.5,-461.5 2381.5,-415.5 2073.5,-415.5\" stroke=\"#000000\"/>\n<text fill=\"#000000\" font-family=\"Times,serif\" font-size=\"14.00\" text-anchor=\"middle\" x=\"2143.5\" y=\"-434.8\">conv1d_33: Conv1D</text>\n<polyline fill=\"none\" points=\"2213.5,-415.5 2213.5,-461.5 \" stroke=\"#000000\"/>\n<text fill=\"#000000\" font-family=\"Times,serif\" font-size=\"14.00\" text-anchor=\"middle\" x=\"2242.5\" y=\"-446.3\">input:</text>\n<polyline fill=\"none\" points=\"2213.5,-438.5 2271.5,-438.5 \" stroke=\"#000000\"/>\n<text fill=\"#000000\" font-family=\"Times,serif\" font-size=\"14.00\" text-anchor=\"middle\" x=\"2242.5\" y=\"-423.3\">output:</text>\n<polyline fill=\"none\" points=\"2271.5,-415.5 2271.5,-461.5 \" stroke=\"#000000\"/>\n<text fill=\"#000000\" font-family=\"Times,serif\" font-size=\"14.00\" text-anchor=\"middle\" x=\"2326.5\" y=\"-446.3\">(None, 15, 10)</text>\n<polyline fill=\"none\" points=\"2271.5,-438.5 2381.5,-438.5 \" stroke=\"#000000\"/>\n<text fill=\"#000000\" font-family=\"Times,serif\" font-size=\"14.00\" text-anchor=\"middle\" x=\"2326.5\" y=\"-423.3\">(None, 13, 128)</text>\n</g>\n<!-- 139786938064592&#45;&gt;139786935916944 -->\n<g class=\"edge\" id=\"edge7\">\n<title>139786938064592-&gt;139786935916944</title>\n<path d=\"M2227.5,-498.3799C2227.5,-490.1745 2227.5,-480.7679 2227.5,-471.8786\" fill=\"none\" stroke=\"#000000\"/>\n<polygon fill=\"#000000\" points=\"2231.0001,-471.784 2227.5,-461.784 2224.0001,-471.784 2231.0001,-471.784\" stroke=\"#000000\"/>\n</g>\n<!-- 139786935480528 -->\n<g class=\"node\" id=\"node10\">\n<title>139786935480528</title>\n<polygon fill=\"none\" points=\"2484.5,-415.5 2484.5,-461.5 2792.5,-461.5 2792.5,-415.5 2484.5,-415.5\" stroke=\"#000000\"/>\n<text fill=\"#000000\" font-family=\"Times,serif\" font-size=\"14.00\" text-anchor=\"middle\" x=\"2554.5\" y=\"-434.8\">conv1d_36: Conv1D</text>\n<polyline fill=\"none\" points=\"2624.5,-415.5 2624.5,-461.5 \" stroke=\"#000000\"/>\n<text fill=\"#000000\" font-family=\"Times,serif\" font-size=\"14.00\" text-anchor=\"middle\" x=\"2653.5\" y=\"-446.3\">input:</text>\n<polyline fill=\"none\" points=\"2624.5,-438.5 2682.5,-438.5 \" stroke=\"#000000\"/>\n<text fill=\"#000000\" font-family=\"Times,serif\" font-size=\"14.00\" text-anchor=\"middle\" x=\"2653.5\" y=\"-423.3\">output:</text>\n<polyline fill=\"none\" points=\"2682.5,-415.5 2682.5,-461.5 \" stroke=\"#000000\"/>\n<text fill=\"#000000\" font-family=\"Times,serif\" font-size=\"14.00\" text-anchor=\"middle\" x=\"2737.5\" y=\"-446.3\">(None, 15, 10)</text>\n<polyline fill=\"none\" points=\"2682.5,-438.5 2792.5,-438.5 \" stroke=\"#000000\"/>\n<text fill=\"#000000\" font-family=\"Times,serif\" font-size=\"14.00\" text-anchor=\"middle\" x=\"2737.5\" y=\"-423.3\">(None, 13, 128)</text>\n</g>\n<!-- 139786938064592&#45;&gt;139786935480528 -->\n<g class=\"edge\" id=\"edge8\">\n<title>139786938064592-&gt;139786935480528</title>\n<path d=\"M2341.4406,-498.4901C2395.2268,-487.6282 2459.5317,-474.642 2514.5352,-463.5343\" fill=\"none\" stroke=\"#000000\"/>\n<polygon fill=\"#000000\" points=\"2515.2285,-466.965 2524.3377,-461.5547 2513.8428,-460.1035 2515.2285,-466.965\" stroke=\"#000000\"/>\n</g>\n<!-- 139786937902608 -->\n<g class=\"node\" id=\"node11\">\n<title>139786937902608</title>\n<polygon fill=\"none\" points=\"0,-332.5 0,-378.5 479,-378.5 479,-332.5 0,-332.5\" stroke=\"#000000\"/>\n<text fill=\"#000000\" font-family=\"Times,serif\" font-size=\"14.00\" text-anchor=\"middle\" x=\"155.5\" y=\"-351.8\">global_max_pooling1d_28: GlobalMaxPooling1D</text>\n<polyline fill=\"none\" points=\"311,-332.5 311,-378.5 \" stroke=\"#000000\"/>\n<text fill=\"#000000\" font-family=\"Times,serif\" font-size=\"14.00\" text-anchor=\"middle\" x=\"340\" y=\"-363.3\">input:</text>\n<polyline fill=\"none\" points=\"311,-355.5 369,-355.5 \" stroke=\"#000000\"/>\n<text fill=\"#000000\" font-family=\"Times,serif\" font-size=\"14.00\" text-anchor=\"middle\" x=\"340\" y=\"-340.3\">output:</text>\n<polyline fill=\"none\" points=\"369,-332.5 369,-378.5 \" stroke=\"#000000\"/>\n<text fill=\"#000000\" font-family=\"Times,serif\" font-size=\"14.00\" text-anchor=\"middle\" x=\"424\" y=\"-363.3\">(None, 13, 128)</text>\n<polyline fill=\"none\" points=\"369,-355.5 479,-355.5 \" stroke=\"#000000\"/>\n<text fill=\"#000000\" font-family=\"Times,serif\" font-size=\"14.00\" text-anchor=\"middle\" x=\"424\" y=\"-340.3\">(None, 128)</text>\n</g>\n<!-- 139786938168464&#45;&gt;139786937902608 -->\n<g class=\"edge\" id=\"edge9\">\n<title>139786938168464-&gt;139786937902608</title>\n<path d=\"M301.5442,-415.3799C292.1182,-406.2827 281.1621,-395.7088 271.1029,-386.0005\" fill=\"none\" stroke=\"#000000\"/>\n<polygon fill=\"#000000\" points=\"273.2516,-383.2101 263.6256,-378.784 268.3905,-388.2469 273.2516,-383.2101\" stroke=\"#000000\"/>\n</g>\n<!-- 139786936201296 -->\n<g class=\"node\" id=\"node12\">\n<title>139786936201296</title>\n<polygon fill=\"none\" points=\"497,-332.5 497,-378.5 976,-378.5 976,-332.5 497,-332.5\" stroke=\"#000000\"/>\n<text fill=\"#000000\" font-family=\"Times,serif\" font-size=\"14.00\" text-anchor=\"middle\" x=\"652.5\" y=\"-351.8\">global_max_pooling1d_31: GlobalMaxPooling1D</text>\n<polyline fill=\"none\" points=\"808,-332.5 808,-378.5 \" stroke=\"#000000\"/>\n<text fill=\"#000000\" font-family=\"Times,serif\" font-size=\"14.00\" text-anchor=\"middle\" x=\"837\" y=\"-363.3\">input:</text>\n<polyline fill=\"none\" points=\"808,-355.5 866,-355.5 \" stroke=\"#000000\"/>\n<text fill=\"#000000\" font-family=\"Times,serif\" font-size=\"14.00\" text-anchor=\"middle\" x=\"837\" y=\"-340.3\">output:</text>\n<polyline fill=\"none\" points=\"866,-332.5 866,-378.5 \" stroke=\"#000000\"/>\n<text fill=\"#000000\" font-family=\"Times,serif\" font-size=\"14.00\" text-anchor=\"middle\" x=\"921\" y=\"-363.3\">(None, 13, 128)</text>\n<polyline fill=\"none\" points=\"866,-355.5 976,-355.5 \" stroke=\"#000000\"/>\n<text fill=\"#000000\" font-family=\"Times,serif\" font-size=\"14.00\" text-anchor=\"middle\" x=\"921\" y=\"-340.3\">(None, 128)</text>\n</g>\n<!-- 139786936064272&#45;&gt;139786936201296 -->\n<g class=\"edge\" id=\"edge10\">\n<title>139786936064272-&gt;139786936201296</title>\n<path d=\"M736.5,-415.3799C736.5,-407.1745 736.5,-397.7679 736.5,-388.8786\" fill=\"none\" stroke=\"#000000\"/>\n<polygon fill=\"#000000\" points=\"740.0001,-388.784 736.5,-378.784 733.0001,-388.784 740.0001,-388.784\" stroke=\"#000000\"/>\n</g>\n<!-- 139786935703120 -->\n<g class=\"node\" id=\"node13\">\n<title>139786935703120</title>\n<polygon fill=\"none\" points=\"994,-332.5 994,-378.5 1473,-378.5 1473,-332.5 994,-332.5\" stroke=\"#000000\"/>\n<text fill=\"#000000\" font-family=\"Times,serif\" font-size=\"14.00\" text-anchor=\"middle\" x=\"1149.5\" y=\"-351.8\">global_max_pooling1d_34: GlobalMaxPooling1D</text>\n<polyline fill=\"none\" points=\"1305,-332.5 1305,-378.5 \" stroke=\"#000000\"/>\n<text fill=\"#000000\" font-family=\"Times,serif\" font-size=\"14.00\" text-anchor=\"middle\" x=\"1334\" y=\"-363.3\">input:</text>\n<polyline fill=\"none\" points=\"1305,-355.5 1363,-355.5 \" stroke=\"#000000\"/>\n<text fill=\"#000000\" font-family=\"Times,serif\" font-size=\"14.00\" text-anchor=\"middle\" x=\"1334\" y=\"-340.3\">output:</text>\n<polyline fill=\"none\" points=\"1363,-332.5 1363,-378.5 \" stroke=\"#000000\"/>\n<text fill=\"#000000\" font-family=\"Times,serif\" font-size=\"14.00\" text-anchor=\"middle\" x=\"1418\" y=\"-363.3\">(None, 13, 128)</text>\n<polyline fill=\"none\" points=\"1363,-355.5 1473,-355.5 \" stroke=\"#000000\"/>\n<text fill=\"#000000\" font-family=\"Times,serif\" font-size=\"14.00\" text-anchor=\"middle\" x=\"1418\" y=\"-340.3\">(None, 128)</text>\n</g>\n<!-- 139786935632016&#45;&gt;139786935703120 -->\n<g class=\"edge\" id=\"edge11\">\n<title>139786935632016-&gt;139786935703120</title>\n<path d=\"M1171.4558,-415.3799C1180.8818,-406.2827 1191.8379,-395.7088 1201.8971,-386.0005\" fill=\"none\" stroke=\"#000000\"/>\n<polygon fill=\"#000000\" points=\"1204.6095,-388.2469 1209.3744,-378.784 1199.7484,-383.2101 1204.6095,-388.2469\" stroke=\"#000000\"/>\n</g>\n<!-- 139786936522512 -->\n<g class=\"node\" id=\"node14\">\n<title>139786936522512</title>\n<polygon fill=\"none\" points=\"1491,-332.5 1491,-378.5 1970,-378.5 1970,-332.5 1491,-332.5\" stroke=\"#000000\"/>\n<text fill=\"#000000\" font-family=\"Times,serif\" font-size=\"14.00\" text-anchor=\"middle\" x=\"1646.5\" y=\"-351.8\">global_max_pooling1d_30: GlobalMaxPooling1D</text>\n<polyline fill=\"none\" points=\"1802,-332.5 1802,-378.5 \" stroke=\"#000000\"/>\n<text fill=\"#000000\" font-family=\"Times,serif\" font-size=\"14.00\" text-anchor=\"middle\" x=\"1831\" y=\"-363.3\">input:</text>\n<polyline fill=\"none\" points=\"1802,-355.5 1860,-355.5 \" stroke=\"#000000\"/>\n<text fill=\"#000000\" font-family=\"Times,serif\" font-size=\"14.00\" text-anchor=\"middle\" x=\"1831\" y=\"-340.3\">output:</text>\n<polyline fill=\"none\" points=\"1860,-332.5 1860,-378.5 \" stroke=\"#000000\"/>\n<text fill=\"#000000\" font-family=\"Times,serif\" font-size=\"14.00\" text-anchor=\"middle\" x=\"1915\" y=\"-363.3\">(None, 13, 128)</text>\n<polyline fill=\"none\" points=\"1860,-355.5 1970,-355.5 \" stroke=\"#000000\"/>\n<text fill=\"#000000\" font-family=\"Times,serif\" font-size=\"14.00\" text-anchor=\"middle\" x=\"1915\" y=\"-340.3\">(None, 128)</text>\n</g>\n<!-- 139786936451472&#45;&gt;139786936522512 -->\n<g class=\"edge\" id=\"edge12\">\n<title>139786936451472-&gt;139786936522512</title>\n<path d=\"M1792.5442,-415.3799C1783.1182,-406.2827 1772.1621,-395.7088 1762.1029,-386.0005\" fill=\"none\" stroke=\"#000000\"/>\n<polygon fill=\"#000000\" points=\"1764.2516,-383.2101 1754.6256,-378.784 1759.3905,-388.2469 1764.2516,-383.2101\" stroke=\"#000000\"/>\n</g>\n<!-- 139786935997200 -->\n<g class=\"node\" id=\"node15\">\n<title>139786935997200</title>\n<polygon fill=\"none\" points=\"1988,-332.5 1988,-378.5 2467,-378.5 2467,-332.5 1988,-332.5\" stroke=\"#000000\"/>\n<text fill=\"#000000\" font-family=\"Times,serif\" font-size=\"14.00\" text-anchor=\"middle\" x=\"2143.5\" y=\"-351.8\">global_max_pooling1d_33: GlobalMaxPooling1D</text>\n<polyline fill=\"none\" points=\"2299,-332.5 2299,-378.5 \" stroke=\"#000000\"/>\n<text fill=\"#000000\" font-family=\"Times,serif\" font-size=\"14.00\" text-anchor=\"middle\" x=\"2328\" y=\"-363.3\">input:</text>\n<polyline fill=\"none\" points=\"2299,-355.5 2357,-355.5 \" stroke=\"#000000\"/>\n<text fill=\"#000000\" font-family=\"Times,serif\" font-size=\"14.00\" text-anchor=\"middle\" x=\"2328\" y=\"-340.3\">output:</text>\n<polyline fill=\"none\" points=\"2357,-332.5 2357,-378.5 \" stroke=\"#000000\"/>\n<text fill=\"#000000\" font-family=\"Times,serif\" font-size=\"14.00\" text-anchor=\"middle\" x=\"2412\" y=\"-363.3\">(None, 13, 128)</text>\n<polyline fill=\"none\" points=\"2357,-355.5 2467,-355.5 \" stroke=\"#000000\"/>\n<text fill=\"#000000\" font-family=\"Times,serif\" font-size=\"14.00\" text-anchor=\"middle\" x=\"2412\" y=\"-340.3\">(None, 128)</text>\n</g>\n<!-- 139786935916944&#45;&gt;139786935997200 -->\n<g class=\"edge\" id=\"edge13\">\n<title>139786935916944-&gt;139786935997200</title>\n<path d=\"M2227.5,-415.3799C2227.5,-407.1745 2227.5,-397.7679 2227.5,-388.8786\" fill=\"none\" stroke=\"#000000\"/>\n<polygon fill=\"#000000\" points=\"2231.0001,-388.784 2227.5,-378.784 2224.0001,-388.784 2231.0001,-388.784\" stroke=\"#000000\"/>\n</g>\n<!-- 139786935031056 -->\n<g class=\"node\" id=\"node16\">\n<title>139786935031056</title>\n<polygon fill=\"none\" points=\"2485,-332.5 2485,-378.5 2964,-378.5 2964,-332.5 2485,-332.5\" stroke=\"#000000\"/>\n<text fill=\"#000000\" font-family=\"Times,serif\" font-size=\"14.00\" text-anchor=\"middle\" x=\"2640.5\" y=\"-351.8\">global_max_pooling1d_36: GlobalMaxPooling1D</text>\n<polyline fill=\"none\" points=\"2796,-332.5 2796,-378.5 \" stroke=\"#000000\"/>\n<text fill=\"#000000\" font-family=\"Times,serif\" font-size=\"14.00\" text-anchor=\"middle\" x=\"2825\" y=\"-363.3\">input:</text>\n<polyline fill=\"none\" points=\"2796,-355.5 2854,-355.5 \" stroke=\"#000000\"/>\n<text fill=\"#000000\" font-family=\"Times,serif\" font-size=\"14.00\" text-anchor=\"middle\" x=\"2825\" y=\"-340.3\">output:</text>\n<polyline fill=\"none\" points=\"2854,-332.5 2854,-378.5 \" stroke=\"#000000\"/>\n<text fill=\"#000000\" font-family=\"Times,serif\" font-size=\"14.00\" text-anchor=\"middle\" x=\"2909\" y=\"-363.3\">(None, 13, 128)</text>\n<polyline fill=\"none\" points=\"2854,-355.5 2964,-355.5 \" stroke=\"#000000\"/>\n<text fill=\"#000000\" font-family=\"Times,serif\" font-size=\"14.00\" text-anchor=\"middle\" x=\"2909\" y=\"-340.3\">(None, 128)</text>\n</g>\n<!-- 139786935480528&#45;&gt;139786935031056 -->\n<g class=\"edge\" id=\"edge14\">\n<title>139786935480528-&gt;139786935031056</title>\n<path d=\"M2662.4558,-415.3799C2671.8818,-406.2827 2682.8379,-395.7088 2692.8971,-386.0005\" fill=\"none\" stroke=\"#000000\"/>\n<polygon fill=\"#000000\" points=\"2695.6095,-388.2469 2700.3744,-378.784 2690.7484,-383.2101 2695.6095,-388.2469\" stroke=\"#000000\"/>\n</g>\n<!-- 139786938063312 -->\n<g class=\"node\" id=\"node17\">\n<title>139786938063312</title>\n<polygon fill=\"none\" points=\"859.5,-249.5 859.5,-295.5 1351.5,-295.5 1351.5,-249.5 859.5,-249.5\" stroke=\"#000000\"/>\n<text fill=\"#000000\" font-family=\"Times,serif\" font-size=\"14.00\" text-anchor=\"middle\" x=\"950.5\" y=\"-268.8\">concatenate_18: Concatenate</text>\n<polyline fill=\"none\" points=\"1041.5,-249.5 1041.5,-295.5 \" stroke=\"#000000\"/>\n<text fill=\"#000000\" font-family=\"Times,serif\" font-size=\"14.00\" text-anchor=\"middle\" x=\"1070.5\" y=\"-280.3\">input:</text>\n<polyline fill=\"none\" points=\"1041.5,-272.5 1099.5,-272.5 \" stroke=\"#000000\"/>\n<text fill=\"#000000\" font-family=\"Times,serif\" font-size=\"14.00\" text-anchor=\"middle\" x=\"1070.5\" y=\"-257.3\">output:</text>\n<polyline fill=\"none\" points=\"1099.5,-249.5 1099.5,-295.5 \" stroke=\"#000000\"/>\n<text fill=\"#000000\" font-family=\"Times,serif\" font-size=\"14.00\" text-anchor=\"middle\" x=\"1225.5\" y=\"-280.3\">[(None, 128), (None, 128), (None, 128)]</text>\n<polyline fill=\"none\" points=\"1099.5,-272.5 1351.5,-272.5 \" stroke=\"#000000\"/>\n<text fill=\"#000000\" font-family=\"Times,serif\" font-size=\"14.00\" text-anchor=\"middle\" x=\"1225.5\" y=\"-257.3\">(None, 384)</text>\n</g>\n<!-- 139786937902608&#45;&gt;139786938063312 -->\n<g class=\"edge\" id=\"edge15\">\n<title>139786937902608-&gt;139786938063312</title>\n<path d=\"M479.0048,-332.5452C595.9907,-321.3329 736.6995,-307.8469 855.1049,-296.4986\" fill=\"none\" stroke=\"#000000\"/>\n<polygon fill=\"#000000\" points=\"855.7796,-299.9501 865.4,-295.5119 855.1117,-292.982 855.7796,-299.9501\" stroke=\"#000000\"/>\n</g>\n<!-- 139786936201296&#45;&gt;139786938063312 -->\n<g class=\"edge\" id=\"edge16\">\n<title>139786936201296-&gt;139786938063312</title>\n<path d=\"M838.797,-332.4901C886.6869,-321.7181 943.8648,-308.857 992.9745,-297.8106\" fill=\"none\" stroke=\"#000000\"/>\n<polygon fill=\"#000000\" points=\"994.0158,-301.1639 1003.004,-295.5547 992.4796,-294.3345 994.0158,-301.1639\" stroke=\"#000000\"/>\n</g>\n<!-- 139786935703120&#45;&gt;139786938063312 -->\n<g class=\"edge\" id=\"edge17\">\n<title>139786935703120-&gt;139786938063312</title>\n<path d=\"M1197.8449,-332.3799C1182.9902,-322.7475 1165.5824,-311.4597 1149.9094,-301.2967\" fill=\"none\" stroke=\"#000000\"/>\n<polygon fill=\"#000000\" points=\"1151.7025,-298.2881 1141.4079,-295.784 1147.8941,-304.1614 1151.7025,-298.2881\" stroke=\"#000000\"/>\n</g>\n<!-- 139786934812816 -->\n<g class=\"node\" id=\"node18\">\n<title>139786934812816</title>\n<polygon fill=\"none\" points=\"1611.5,-249.5 1611.5,-295.5 2103.5,-295.5 2103.5,-249.5 1611.5,-249.5\" stroke=\"#000000\"/>\n<text fill=\"#000000\" font-family=\"Times,serif\" font-size=\"14.00\" text-anchor=\"middle\" x=\"1702.5\" y=\"-268.8\">concatenate_20: Concatenate</text>\n<polyline fill=\"none\" points=\"1793.5,-249.5 1793.5,-295.5 \" stroke=\"#000000\"/>\n<text fill=\"#000000\" font-family=\"Times,serif\" font-size=\"14.00\" text-anchor=\"middle\" x=\"1822.5\" y=\"-280.3\">input:</text>\n<polyline fill=\"none\" points=\"1793.5,-272.5 1851.5,-272.5 \" stroke=\"#000000\"/>\n<text fill=\"#000000\" font-family=\"Times,serif\" font-size=\"14.00\" text-anchor=\"middle\" x=\"1822.5\" y=\"-257.3\">output:</text>\n<polyline fill=\"none\" points=\"1851.5,-249.5 1851.5,-295.5 \" stroke=\"#000000\"/>\n<text fill=\"#000000\" font-family=\"Times,serif\" font-size=\"14.00\" text-anchor=\"middle\" x=\"1977.5\" y=\"-280.3\">[(None, 128), (None, 128), (None, 128)]</text>\n<polyline fill=\"none\" points=\"1851.5,-272.5 2103.5,-272.5 \" stroke=\"#000000\"/>\n<text fill=\"#000000\" font-family=\"Times,serif\" font-size=\"14.00\" text-anchor=\"middle\" x=\"1977.5\" y=\"-257.3\">(None, 384)</text>\n</g>\n<!-- 139786936522512&#45;&gt;139786934812816 -->\n<g class=\"edge\" id=\"edge18\">\n<title>139786936522512-&gt;139786934812816</title>\n<path d=\"M1765.8766,-332.3799C1780.6152,-322.7475 1797.887,-311.4597 1813.4375,-301.2967\" fill=\"none\" stroke=\"#000000\"/>\n<polygon fill=\"#000000\" points=\"1815.4166,-304.1846 1821.8727,-295.784 1811.587,-298.325 1815.4166,-304.1846\" stroke=\"#000000\"/>\n</g>\n<!-- 139786935997200&#45;&gt;139786934812816 -->\n<g class=\"edge\" id=\"edge19\">\n<title>139786935997200-&gt;139786934812816</title>\n<path d=\"M2124.9257,-332.4901C2076.906,-321.7181 2019.5732,-308.857 1970.3304,-297.8106\" fill=\"none\" stroke=\"#000000\"/>\n<polygon fill=\"#000000\" points=\"1970.7974,-294.3285 1960.2738,-295.5547 1969.2652,-301.1587 1970.7974,-294.3285\" stroke=\"#000000\"/>\n</g>\n<!-- 139786935031056&#45;&gt;139786934812816 -->\n<g class=\"edge\" id=\"edge20\">\n<title>139786935031056-&gt;139786934812816</title>\n<path d=\"M2484.7186,-332.5452C2367.5976,-321.3329 2226.7264,-307.8469 2108.1842,-296.4986\" fill=\"none\" stroke=\"#000000\"/>\n<polygon fill=\"#000000\" points=\"2108.1653,-292.9809 2097.8773,-295.5119 2107.4982,-299.949 2108.1653,-292.9809\" stroke=\"#000000\"/>\n</g>\n<!-- 139786935088912 -->\n<g class=\"node\" id=\"node20\">\n<title>139786935088912</title>\n<polygon fill=\"none\" points=\"1335,-166.5 1335,-212.5 1594,-212.5 1594,-166.5 1335,-166.5\" stroke=\"#000000\"/>\n<text fill=\"#000000\" font-family=\"Times,serif\" font-size=\"14.00\" text-anchor=\"middle\" x=\"1392\" y=\"-185.8\">dense_23: Dense</text>\n<polyline fill=\"none\" points=\"1449,-166.5 1449,-212.5 \" stroke=\"#000000\"/>\n<text fill=\"#000000\" font-family=\"Times,serif\" font-size=\"14.00\" text-anchor=\"middle\" x=\"1478\" y=\"-197.3\">input:</text>\n<polyline fill=\"none\" points=\"1449,-189.5 1507,-189.5 \" stroke=\"#000000\"/>\n<text fill=\"#000000\" font-family=\"Times,serif\" font-size=\"14.00\" text-anchor=\"middle\" x=\"1478\" y=\"-174.3\">output:</text>\n<polyline fill=\"none\" points=\"1507,-166.5 1507,-212.5 \" stroke=\"#000000\"/>\n<text fill=\"#000000\" font-family=\"Times,serif\" font-size=\"14.00\" text-anchor=\"middle\" x=\"1550.5\" y=\"-197.3\">(None, 384)</text>\n<polyline fill=\"none\" points=\"1507,-189.5 1594,-189.5 \" stroke=\"#000000\"/>\n<text fill=\"#000000\" font-family=\"Times,serif\" font-size=\"14.00\" text-anchor=\"middle\" x=\"1550.5\" y=\"-174.3\">(None, 128)</text>\n</g>\n<!-- 139786938063312&#45;&gt;139786935088912 -->\n<g class=\"edge\" id=\"edge21\">\n<title>139786938063312-&gt;139786935088912</title>\n<path d=\"M1205.0248,-249.4901C1251.6168,-238.7181 1307.2452,-225.857 1355.024,-214.8106\" fill=\"none\" stroke=\"#000000\"/>\n<polygon fill=\"#000000\" points=\"1355.8271,-218.2174 1364.7816,-212.5547 1354.2502,-211.3973 1355.8271,-218.2174\" stroke=\"#000000\"/>\n</g>\n<!-- 139786934942352 -->\n<g class=\"node\" id=\"node21\">\n<title>139786934942352</title>\n<polygon fill=\"none\" points=\"1728,-166.5 1728,-212.5 1987,-212.5 1987,-166.5 1728,-166.5\" stroke=\"#000000\"/>\n<text fill=\"#000000\" font-family=\"Times,serif\" font-size=\"14.00\" text-anchor=\"middle\" x=\"1785\" y=\"-185.8\">dense_25: Dense</text>\n<polyline fill=\"none\" points=\"1842,-166.5 1842,-212.5 \" stroke=\"#000000\"/>\n<text fill=\"#000000\" font-family=\"Times,serif\" font-size=\"14.00\" text-anchor=\"middle\" x=\"1871\" y=\"-197.3\">input:</text>\n<polyline fill=\"none\" points=\"1842,-189.5 1900,-189.5 \" stroke=\"#000000\"/>\n<text fill=\"#000000\" font-family=\"Times,serif\" font-size=\"14.00\" text-anchor=\"middle\" x=\"1871\" y=\"-174.3\">output:</text>\n<polyline fill=\"none\" points=\"1900,-166.5 1900,-212.5 \" stroke=\"#000000\"/>\n<text fill=\"#000000\" font-family=\"Times,serif\" font-size=\"14.00\" text-anchor=\"middle\" x=\"1943.5\" y=\"-197.3\">(None, 384)</text>\n<polyline fill=\"none\" points=\"1900,-189.5 1987,-189.5 \" stroke=\"#000000\"/>\n<text fill=\"#000000\" font-family=\"Times,serif\" font-size=\"14.00\" text-anchor=\"middle\" x=\"1943.5\" y=\"-174.3\">(None, 128)</text>\n</g>\n<!-- 139786934812816&#45;&gt;139786934942352 -->\n<g class=\"edge\" id=\"edge22\">\n<title>139786934812816-&gt;139786934942352</title>\n<path d=\"M1857.5,-249.3799C1857.5,-241.1745 1857.5,-231.7679 1857.5,-222.8786\" fill=\"none\" stroke=\"#000000\"/>\n<polygon fill=\"#000000\" points=\"1861.0001,-222.784 1857.5,-212.784 1854.0001,-222.784 1861.0001,-222.784\" stroke=\"#000000\"/>\n</g>\n<!-- 139786934871184 -->\n<g class=\"node\" id=\"node19\">\n<title>139786934871184</title>\n<polygon fill=\"none\" points=\"2121.5,-249.5 2121.5,-295.5 2405.5,-295.5 2405.5,-249.5 2121.5,-249.5\" stroke=\"#000000\"/>\n<text fill=\"#000000\" font-family=\"Times,serif\" font-size=\"14.00\" text-anchor=\"middle\" x=\"2194.5\" y=\"-268.8\">aux_input: InputLayer</text>\n<polyline fill=\"none\" points=\"2267.5,-249.5 2267.5,-295.5 \" stroke=\"#000000\"/>\n<text fill=\"#000000\" font-family=\"Times,serif\" font-size=\"14.00\" text-anchor=\"middle\" x=\"2296.5\" y=\"-280.3\">input:</text>\n<polyline fill=\"none\" points=\"2267.5,-272.5 2325.5,-272.5 \" stroke=\"#000000\"/>\n<text fill=\"#000000\" font-family=\"Times,serif\" font-size=\"14.00\" text-anchor=\"middle\" x=\"2296.5\" y=\"-257.3\">output:</text>\n<polyline fill=\"none\" points=\"2325.5,-249.5 2325.5,-295.5 \" stroke=\"#000000\"/>\n<text fill=\"#000000\" font-family=\"Times,serif\" font-size=\"14.00\" text-anchor=\"middle\" x=\"2365.5\" y=\"-280.3\">(None, 83)</text>\n<polyline fill=\"none\" points=\"2325.5,-272.5 2405.5,-272.5 \" stroke=\"#000000\"/>\n<text fill=\"#000000\" font-family=\"Times,serif\" font-size=\"14.00\" text-anchor=\"middle\" x=\"2365.5\" y=\"-257.3\">(None, 83)</text>\n</g>\n<!-- 139786934871376 -->\n<g class=\"node\" id=\"node22\">\n<title>139786934871376</title>\n<polygon fill=\"none\" points=\"2071.5,-166.5 2071.5,-212.5 2323.5,-212.5 2323.5,-166.5 2071.5,-166.5\" stroke=\"#000000\"/>\n<text fill=\"#000000\" font-family=\"Times,serif\" font-size=\"14.00\" text-anchor=\"middle\" x=\"2128.5\" y=\"-185.8\">dense_26: Dense</text>\n<polyline fill=\"none\" points=\"2185.5,-166.5 2185.5,-212.5 \" stroke=\"#000000\"/>\n<text fill=\"#000000\" font-family=\"Times,serif\" font-size=\"14.00\" text-anchor=\"middle\" x=\"2214.5\" y=\"-197.3\">input:</text>\n<polyline fill=\"none\" points=\"2185.5,-189.5 2243.5,-189.5 \" stroke=\"#000000\"/>\n<text fill=\"#000000\" font-family=\"Times,serif\" font-size=\"14.00\" text-anchor=\"middle\" x=\"2214.5\" y=\"-174.3\">output:</text>\n<polyline fill=\"none\" points=\"2243.5,-166.5 2243.5,-212.5 \" stroke=\"#000000\"/>\n<text fill=\"#000000\" font-family=\"Times,serif\" font-size=\"14.00\" text-anchor=\"middle\" x=\"2283.5\" y=\"-197.3\">(None, 83)</text>\n<polyline fill=\"none\" points=\"2243.5,-189.5 2323.5,-189.5 \" stroke=\"#000000\"/>\n<text fill=\"#000000\" font-family=\"Times,serif\" font-size=\"14.00\" text-anchor=\"middle\" x=\"2283.5\" y=\"-174.3\">(None, 64)</text>\n</g>\n<!-- 139786934871184&#45;&gt;139786934871376 -->\n<g class=\"edge\" id=\"edge23\">\n<title>139786934871184-&gt;139786934871376</title>\n<path d=\"M2245.1153,-249.3799C2238.0942,-240.5502 2229.9668,-230.3295 2222.4363,-220.8593\" fill=\"none\" stroke=\"#000000\"/>\n<polygon fill=\"#000000\" points=\"2224.9784,-218.4327 2216.015,-212.784 2219.4995,-222.7895 2224.9784,-218.4327\" stroke=\"#000000\"/>\n</g>\n<!-- 139786934489872 -->\n<g class=\"node\" id=\"node23\">\n<title>139786934489872</title>\n<polygon fill=\"none\" points=\"1615,-83.5 1615,-129.5 2100,-129.5 2100,-83.5 1615,-83.5\" stroke=\"#000000\"/>\n<text fill=\"#000000\" font-family=\"Times,serif\" font-size=\"14.00\" text-anchor=\"middle\" x=\"1706\" y=\"-102.8\">concatenate_21: Concatenate</text>\n<polyline fill=\"none\" points=\"1797,-83.5 1797,-129.5 \" stroke=\"#000000\"/>\n<text fill=\"#000000\" font-family=\"Times,serif\" font-size=\"14.00\" text-anchor=\"middle\" x=\"1826\" y=\"-114.3\">input:</text>\n<polyline fill=\"none\" points=\"1797,-106.5 1855,-106.5 \" stroke=\"#000000\"/>\n<text fill=\"#000000\" font-family=\"Times,serif\" font-size=\"14.00\" text-anchor=\"middle\" x=\"1826\" y=\"-91.3\">output:</text>\n<polyline fill=\"none\" points=\"1855,-83.5 1855,-129.5 \" stroke=\"#000000\"/>\n<text fill=\"#000000\" font-family=\"Times,serif\" font-size=\"14.00\" text-anchor=\"middle\" x=\"1977.5\" y=\"-114.3\">[(None, 128), (None, 128), (None, 64)]</text>\n<polyline fill=\"none\" points=\"1855,-106.5 2100,-106.5 \" stroke=\"#000000\"/>\n<text fill=\"#000000\" font-family=\"Times,serif\" font-size=\"14.00\" text-anchor=\"middle\" x=\"1977.5\" y=\"-91.3\">(None, 320)</text>\n</g>\n<!-- 139786935088912&#45;&gt;139786934489872 -->\n<g class=\"edge\" id=\"edge24\">\n<title>139786935088912-&gt;139786934489872</title>\n<path d=\"M1573.4505,-166.4901C1624.6682,-155.6731 1685.8607,-142.7495 1738.3105,-131.6723\" fill=\"none\" stroke=\"#000000\"/>\n<polygon fill=\"#000000\" points=\"1739.2766,-135.0456 1748.3375,-129.5547 1737.8301,-128.1967 1739.2766,-135.0456\" stroke=\"#000000\"/>\n</g>\n<!-- 139786934942352&#45;&gt;139786934489872 -->\n<g class=\"edge\" id=\"edge25\">\n<title>139786934942352-&gt;139786934489872</title>\n<path d=\"M1857.5,-166.3799C1857.5,-158.1745 1857.5,-148.7679 1857.5,-139.8786\" fill=\"none\" stroke=\"#000000\"/>\n<polygon fill=\"#000000\" points=\"1861.0001,-139.784 1857.5,-129.784 1854.0001,-139.784 1861.0001,-139.784\" stroke=\"#000000\"/>\n</g>\n<!-- 139786934871376&#45;&gt;139786934489872 -->\n<g class=\"edge\" id=\"edge26\">\n<title>139786934871376-&gt;139786934489872</title>\n<path d=\"M2103.2426,-166.4901C2059.3006,-155.7631 2006.8719,-142.9643 1961.7492,-131.9491\" fill=\"none\" stroke=\"#000000\"/>\n<polygon fill=\"#000000\" points=\"1962.4856,-128.5261 1951.9408,-129.5547 1960.8255,-135.3264 1962.4856,-128.5261\" stroke=\"#000000\"/>\n</g>\n<!-- 139786934568656 -->\n<g class=\"node\" id=\"node24\">\n<title>139786934568656</title>\n<polygon fill=\"none\" points=\"1718.5,-.5 1718.5,-46.5 1996.5,-46.5 1996.5,-.5 1718.5,-.5\" stroke=\"#000000\"/>\n<text fill=\"#000000\" font-family=\"Times,serif\" font-size=\"14.00\" text-anchor=\"middle\" x=\"1785\" y=\"-19.8\">main_output: Dense</text>\n<polyline fill=\"none\" points=\"1851.5,-.5 1851.5,-46.5 \" stroke=\"#000000\"/>\n<text fill=\"#000000\" font-family=\"Times,serif\" font-size=\"14.00\" text-anchor=\"middle\" x=\"1880.5\" y=\"-31.3\">input:</text>\n<polyline fill=\"none\" points=\"1851.5,-23.5 1909.5,-23.5 \" stroke=\"#000000\"/>\n<text fill=\"#000000\" font-family=\"Times,serif\" font-size=\"14.00\" text-anchor=\"middle\" x=\"1880.5\" y=\"-8.3\">output:</text>\n<polyline fill=\"none\" points=\"1909.5,-.5 1909.5,-46.5 \" stroke=\"#000000\"/>\n<text fill=\"#000000\" font-family=\"Times,serif\" font-size=\"14.00\" text-anchor=\"middle\" x=\"1953\" y=\"-31.3\">(None, 320)</text>\n<polyline fill=\"none\" points=\"1909.5,-23.5 1996.5,-23.5 \" stroke=\"#000000\"/>\n<text fill=\"#000000\" font-family=\"Times,serif\" font-size=\"14.00\" text-anchor=\"middle\" x=\"1953\" y=\"-8.3\">(None, 6)</text>\n</g>\n<!-- 139786934489872&#45;&gt;139786934568656 -->\n<g class=\"edge\" id=\"edge27\">\n<title>139786934489872-&gt;139786934568656</title>\n<path d=\"M1857.5,-83.3799C1857.5,-75.1745 1857.5,-65.7679 1857.5,-56.8786\" fill=\"none\" stroke=\"#000000\"/>\n<polygon fill=\"#000000\" points=\"1861.0001,-56.784 1857.5,-46.784 1854.0001,-56.784 1861.0001,-56.784\" stroke=\"#000000\"/>\n</g>\n</g>\n</svg>"
          },
          "metadata": {
            "tags": []
          },
          "execution_count": 105
        }
      ]
    }
  ]
}